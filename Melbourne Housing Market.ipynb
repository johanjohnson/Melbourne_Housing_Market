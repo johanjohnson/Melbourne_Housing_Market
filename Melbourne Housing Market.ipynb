{
 "cells": [
  {
   "cell_type": "markdown",
   "metadata": {
    "id": "pOuI_LlLKZei"
   },
   "source": [
    "#### TASK 2 - DATA ANALYTICS REPORT AND EXECUTIVE SUMMARY"
   ]
  },
  {
   "cell_type": "markdown",
   "metadata": {
    "id": "fIlA5YLZKZem"
   },
   "source": [
    "Johan Johnson (Student ID: 001309440)"
   ]
  },
  {
   "cell_type": "markdown",
   "metadata": {
    "id": "srkkZuHEKZen"
   },
   "source": [
    "#### <b>Part I: Research Question</b>"
   ]
  },
  {
   "cell_type": "markdown",
   "metadata": {
    "id": "oqLjKRDwKZeo"
   },
   "source": [
    "#### <span style=\"color:black\"><b>Capstone Project Name - Multiple-Linear Regression on the Melbourne Housing Market Data</b></span>\n"
   ]
  },
  {
   "cell_type": "markdown",
   "metadata": {
    "id": "KMneElJOKZeo"
   },
   "source": [
    "#### <span style=\"color:black\"><b>Context</b></span>\n",
    "By employing exploratory research and regression techniques to identify the variables that significantly influence property values in the Melbourne housing market, this study contributes to the field of data analytics and the MSDA program. A statistical method known as multiple linear regression is used to \"forecast the result of a variable based on the values of two or more other variables\" (Hayes, 2022). It is a development of linear regression and is occasionally just referred to as multiple regression. The factors used to predict the dependent variable's value are independent or explanatory variables. In contrast, the variable sought to forecast is the dependent variable. Understanding the link between the\n",
    "independent variables and the response variable should be possible to anticipate the response variable\n",
    "given the predictor inputs (Alto, 2019). Knowing which essential elements are statistically significant and\n",
    "have the greatest influence on home prices in Melbourne will be very helpful for non-investors looking for\n",
    "affordable homes in desirable areas. Understanding which factors are essential will also, in addition, help\n",
    "investors who want to buy many units to maximize their return on investment. To combine their desired\n",
    "qualities and reduce the cost they will pay for that specific house, stakeholders may be able to compare\n",
    "the numerous itemized elements of the housing market property of interest using this newly developed\n",
    "multiple linear regression model. The researchers hypothesized that the region in which a Melbourne home\n",
    "is located statistically signifies the impact of that home's cost. Other significant independent variables to\n",
    "be analyzed in the dataset are 'Rooms', 'Bathroom', 'Distance', 'Car', 'Landsize', 'Age', 'Propertycount' and\n",
    "'BuildingArea'. It should be easy to identify the factors that affect Melbourne property prices most by\n",
    "analyzing the link between the forecast variables and the response variable."
   ]
  },
  {
   "cell_type": "markdown",
   "metadata": {
    "id": "lBcwt2DkKZep"
   },
   "source": [
    "#### <span style=\"color:black\"><b>Project Topic</b></span>\n",
    "Multiple Regression for Predictive Modeling and Principal Component Analysis of\n",
    "Melbourne's Housing Market."
   ]
  },
  {
   "cell_type": "markdown",
   "metadata": {
    "id": "ogi9YEdCKZeq"
   },
   "source": [
    "#### <span style=\"color:black\"><b>Research Question</b></span>\n",
    "Can a regression model be constructed to understand the key elements influencing\n",
    "Melbourne home prices?"
   ]
  },
  {
   "cell_type": "markdown",
   "metadata": {
    "id": "yFfsaANgKZer"
   },
   "source": [
    "#### <span style=\"color:black\"><b>Hypothesis</b></span>\n",
    "H0 (Null Hypothesis): A multi-linear regression predictive model cannot be made from the Melbourne housing dataset.\n",
    "\n",
    "H1 (Alternate Hypothesis): A multi-linear regression predictive model can be constructed from the Melbourne housing dataset."
   ]
  },
  {
   "cell_type": "markdown",
   "metadata": {
    "id": "dlO4J2ZlKZes"
   },
   "source": [
    "#### <span style=\"color:black\"><b>Project Outcomes</b></span>\n",
    "Given the current values for the features included in the multiple linear regression model, stakeholders can anticipate being able to develop a statistical model with a high success rate within a defined confidence interval at the prediction of a relevant and adequate price for any given Melbourne housing market property. The model will forecast the critical components of interest regarding\n",
    "pricing for a buyer looking to buy a specific Melbourne home market. The regression analysis model will\n",
    "also yield coefficients (the weightings) for each of the specified features that have been incorporated.\n",
    "Stakeholders can anticipate finding a high coefficient value for the Melbourne area where the property is\n",
    "situated. Support for the alternative hypothesis is found in (Zhang, 2021) that a linear regression model\n",
    "can help estimate the target variable by determining the strength of predictor variables concerning\n",
    "housing market data."
   ]
  },
  {
   "cell_type": "markdown",
   "metadata": {
    "id": "zvUF35MxKZes"
   },
   "source": [
    "#### <b>Part II: Data Collection</b>"
   ]
  },
  {
   "cell_type": "markdown",
   "metadata": {
    "id": "SAZIAjV2KZet"
   },
   "source": [
    "#### <span style=\"color:black\"><b>Data</b></span>\n",
    "The data needed to respond to the research question can be found in the public domain and was\n",
    "contributed by Tony Pino via kaggle.com for Melbourne house listings. The housing market dataset for\n",
    "Melbourne has 34,857 rows/listings (Pino, 2018).\n",
    "Through Kaggle.com, the data set is made available. The data set includes the following categorical\n",
    "variables: 'post suburb', 'address', 'type', 'method', 'sellerG', 'councilArea', 'RegionName', and the target\n",
    "variable 'price' in Australian dollars. Many of these variables need to be specified as categories rather than\n",
    "general objects. A statistical summary of the numeric variables indicates that Postcode is treated as\n",
    "numeric when it should be identified as categorical. The correct feature must convert the Postcode\n",
    "variable to the right data type (Pydata.org). Under the name Melbourne Housing Market and the license\n",
    "\"CC BY-NC-SA 4.0,\" the dataset is publicly accessible via the Kaggle website\n",
    "(https://www.kaggle.com/datasets/anthonypino/melbourne-housing-market). Kaggle has given this\n",
    "dataset a usability rating of 7.5 (relatively high), which denotes how user-friendly a dataset is. It is\n",
    "based on several factors, including the level of documentation, accessibility of related public content, such\n",
    "as kernels as references, file types, and coverage of essential metadata. This rating, therefore, shows that\n",
    "the data chosen is reliable, usable, and durable (Kaggle.com, 2022)."
   ]
  },
  {
   "cell_type": "markdown",
   "metadata": {
    "id": "j8s0GGTEKZeu"
   },
   "source": [
    "#### <span style=\"color:black\"><b>Data Gathering</b></span>\n",
    "<b>The Treatment of the Data:</b> The dataset is downloaded from the Kaggle website. The\n",
    "dataset will be prepared and cleaned using Python's Pandas and NumPy tools. Any entries with missing\n",
    "values for the critical variables utilized in the regression equation will be eliminated. Refusal to remove\n",
    "missing inputs may hurt the model's accuracy. These models will produce false findings without accurate\n",
    "data and substantially impede stakeholders' decision-making (v7labs, 2022). The data quality, however, is\n",
    "excellent because it was obtained from Domains.au and disseminated on Kaggle.com, a reputable website\n",
    "where thousands of high-quality files are published daily. Both quantitative and qualitative variables are\n",
    "present in the data. Python cleans the data and eliminates any anomalies or missing variables. Specifying\n",
    "some variables as categories rather than general objects is necessary. Missing values will further be\n",
    "imputed. Overall, data sparsity is less than 10%."
   ]
  },
  {
   "cell_type": "markdown",
   "metadata": {
    "id": "5pa9iWu1KZeu"
   },
   "source": [
    "#### <span style=\"color:black\"><b>Data Dictionary: Melbourne Housing Market</b></span>\n",
    "<br>\n",
    "The dataset has 21 columns\n",
    "<br>\n",
    "\n",
    "* suburb\n",
    "\n",
    "* Rooms\n",
    "* Type\n",
    "\n",
    "* Method\n",
    "\n",
    "* Distance\n",
    "\n",
    "* Bedroom2\n",
    "* Bathroom\n",
    "* Car\n",
    "* Landsize\n",
    "* CouncilArea\n",
    "* BuildingArea\n",
    "* SellerG\n",
    "* YearBuilt\n",
    "* Latitude\n",
    "* Longtitude\n",
    "* address\n",
    "* Regionname\n",
    "* Propertycount\n",
    "* Postcode\n",
    "* Price"
   ]
  },
  {
   "cell_type": "markdown",
   "metadata": {
    "id": "70ifkFzqKZeu"
   },
   "source": [
    "#### <span style=\"color:black\"><b>Data Dictionary – Details/Description</b></span>\n",
    "The dataset is divided into the various variables it contains and, correspondingly, their descriptions.\n",
    "\n",
    "<b>Some Key details: </b> \n",
    "* Price: Price in Australian dollars\n",
    "\n",
    "* Method:\n",
    "\n",
    "    S - property sold\n",
    "\n",
    "    SP - property sold prior\n",
    "\n",
    "    PI - property passed in\n",
    "\n",
    "    PN - sold prior not disclosed\n",
    "\n",
    "    SN - sold not disclosed\n",
    "    \n",
    "    NB - no bid\n",
    "\n",
    "    VB - vendor bid\n",
    "\n",
    "    W - withdrawn prior to auction\n",
    "\n",
    "    SA - sold after auction\n",
    "\n",
    "    SS - sold after auction price not disclosed.\n",
    "\n",
    "    N/A - price or highest bid not available.\n",
    "\n",
    "* Type:\n",
    "\n",
    "    br - bedroom(s)\n",
    "\n",
    "    h - house,cottage,villa, semi,terrace\n",
    "\n",
    "    u - unit, duplex\n",
    "\n",
    "    t - townhouse\n",
    "\n",
    "    dev site - development site\n",
    "\n",
    "    o res - other residential.\n",
    "\n",
    "* SellerG: Real Estate Agent\n",
    "\n",
    "* Date: Date sold\n",
    "\n",
    "* Distance: Distance from CBD in Kilometres\n",
    "\n",
    "* Regionname: General Region (West, North West, North, North east …etc)\n",
    "\n",
    "* Propertycount: Number of properties that exist in the suburb.\n",
    "\n",
    "* Car: Number of carspots\n",
    "\n",
    "* Landsize: Land Size in Metres\n",
    "\n",
    "* BuildingArea: Building Size in Metres\n",
    "\n",
    "* YearBuilt: Year the house was built\n",
    "\n",
    "* CouncilArea: Governing council for the area\n",
    "\n",
    "<b>Target Variable</b>\n",
    "<br>\n",
    "Our target variable for all of these analyses is <b>price</b> (which is a continuous variable). \n",
    "\n",
    "\n",
    "Source: Pino, T. (2018, October 14). Melbourne housing market. Kaggle. Retrieved October 17, 2022, from https://www.kaggle.com/datasets/anthonypino/melbourne-housing-market "
   ]
  },
  {
   "cell_type": "markdown",
   "metadata": {
    "id": "F1r7fwO7KZev"
   },
   "source": [
    "#### <span style=\"color:black\"><b>Data Analytics Tools and Techniques</b></span>\n",
    "A Q-Q plot and a Shapiro-Wilk test were performed to\n",
    "confirm the data's normality. To start, however, looking at an overall view of the descriptive statistics will\n",
    "be necessary, including pair-wise correlations and methods for finding anomalies. Then, principal\n",
    "components analysis will be utilized to identify the dataset characteristics that affect the model's variance\n",
    "the most. The Ordinary Least Squares regression (OLS) model will be used to estimate the coefficients of\n",
    "the linear regression equation that describe the relationship between the independent predictor variables\n",
    "and the target variable (Alto, 2019). Then, deducing the most critical connections between predictors and\n",
    "target variable is essential. Since the objective variable—predicting an actual figure like the price per\n",
    "house in Australian dollars—is a continuous variable, multiple regression is the best method to investigate\n",
    "the research question. When attempting to estimate the cost of a unit concerning location, there may be\n",
    "other explanatory variables (rather than just one) that will help grasp the situation better (region, building\n",
    "type, and room). It is essential to determine whether each independent variable has a positive or negative\n",
    "link to the target variable and how that may impact the home buyer's decision when it is either added or\n",
    "removed from the regression equation.\n",
    "The multi-regression model will employ stepwise analysis to determine the role played by each\n",
    "independent variable in predicting the dependent variable. A subset of the data is used to fit the model\n",
    "and will be broken apart to provide an accurate evaluation of the model. A Generalized Linear Model\n",
    "should be equipped to provide a model that can precisely forecast the value of the dependent variable given\n",
    "the inputs with separate variables (Stephanie, 2020). Subsequent cluster analysis will be carried out to\n",
    "uncover more insights regarding the data segmentation."
   ]
  },
  {
   "cell_type": "markdown",
   "metadata": {},
   "source": [
    "#### <span style=\"color:black\"><b>Justification of Tools/Techniques</b></span>\n",
    "Python is a multi-platform, general-purpose programming language\n",
    "emphasizing readability. It is quick and well suited for large-scale machine learning deployment compared\n",
    "to other programming languages like R (Kumar, 2020). Large data sets can be cleaned up and analyzed\n",
    "using Python. Python's Pandas and NumPy modules prepare and clean the dataset. Python updates more\n",
    "quickly than SAS because it is an open language. The user will receive early access to the newest features\n",
    "and techniques (Dutta)."
   ]
  },
  {
   "cell_type": "markdown",
   "metadata": {
    "id": "OH0rx-7tKZew"
   },
   "source": [
    "#### <span style=\"color:black\"><b>Data-Gathering Methodology</b></span>\n",
    "<b>An Advantage</b>\n",
    "<br>\n",
    "<br>\n",
    "The data for the Melbourne housing market was obtained from a freely accessible repository on Kaggle.com. The dataset is consistently updated and validated to maintain a high degree of trust for the over 10 million registered users of Kaggle.com. This gives the dataset validity and makes it simple to access. The code tab of the Kaggle.com repository offers several credible samples of how prior programmers and machine learning modelers have extracted and prepared the dataset. This provides the advantage of comparison with other data analysts.\n",
    "<br>\n",
    "<br>\n",
    "<b>A disadvantage and how to overcome this particular challenge. </b>\n",
    "<br>\n",
    "<br>\n",
    "The dataset appears enormous, and the home computer had trouble processing one this size. Although the CPU was updated, compute processing was still too slow. The data and IPython notebook were uploaded to the Google Colab cloud-based Python API to improve ETL (Extract, Transform and Loading) speeds."
   ]
  },
  {
   "cell_type": "markdown",
   "metadata": {
    "id": "_htJL4nsKZex"
   },
   "source": [
    "#### <b>Part III: Data Extraction and Preparation</b>"
   ]
  },
  {
   "cell_type": "markdown",
   "metadata": {
    "id": "iwRvYRKhKZey"
   },
   "source": [
    "\n",
    "<br>\n",
    "The relevant Melbourne housing dataset was extracted, transformed, and loaded (ETL) using the IPython Jupyter notebook Python 3 environment. Numerous useful analytics libraries are available in Python. Pandas and Numpy were used to make the necessary modifications to the data. Clear and beautiful representations of the dataset's initial descriptive statistics were created using the Seaborn and Matplotlib packages.\n",
    "\n",
    "<b>An Advantage</b>\n",
    "<br>\n",
    "<br>\n",
    "These libraries offer the analytical and mathematical resources necessary for performing this multiple linear regression study.\n",
    "<br>\n",
    "<br>\n",
    "<b>A Disadvantage</b>\n",
    "<br>\n",
    "<br>\n",
    "Even with a GPU, Python on a regular home-office Windows PC requires a long time to do the necessary computations. Additionally, the dropna function was used to search for and eliminate duplicate rows from the table.\n",
    "<br>\n",
    "<br>\n",
    "<b>Overcoming Challenges</b>\n",
    "<br>\n",
    "<br>\n",
    "It was initially intimidating to overcome the difficulty of utilizing such a sizable dataset within the limits of the limited home-office computing capabilities. Upgrading the PC's motherboard to the most recent AMD i7 specifications was needed, and a graphics processor was added. Even while this sped up the dataset loading and individual function processing times, it was still discovered that running a dropna function took longer than five minutes to finish. Cutting the dataset into portions to estimate the spread of a randomly selected block of the dataset was a successful cure. \n",
    "The IPython Jupyter notebook was uploaded to Google Colab to take advantage of the vast, free cloud computing capabilities at Google's server farms and obtain the full impact of visualization approaches with the entire dataset. This made it possible for each Python script to run in less than 5 minutes overall. \n",
    "<br>"
   ]
  },
  {
   "cell_type": "code",
   "execution_count": 1,
   "metadata": {
    "colab": {
     "base_uri": "https://localhost:8080/"
    },
    "id": "SpTxmmv1KZey",
    "outputId": "7b6ea431-2261-4709-8df2-ca9256eac110"
   },
   "outputs": [],
   "source": [
    "import numpy as np\n",
    "import pandas as pd\n",
    "import seaborn as sns\n",
    "import sklearn\n",
    "import matplotlib.pyplot as plt\n",
    "from sklearn.decomposition import PCA\n",
    "import statsmodels.api as sm\n",
    "from sklearn.metrics import mean_absolute_error, r2_score, mean_squared_error\n",
    "from sklearn import metrics\n",
    "import sklearn\n",
    "from sklearn.linear_model import LogisticRegression, LinearRegression\n",
    "from sklearn.cluster import KMeans\n",
    "from sklearn.preprocessing import StandardScaler\n",
    "from sklearn.model_selection import train_test_split\n",
    "from sklearn import metrics\n",
    "from statsmodels.formula.api import ols\n"
   ]
  },
  {
   "cell_type": "code",
   "execution_count": 2,
   "metadata": {
    "id": "rzfu1GKaKZe0"
   },
   "outputs": [],
   "source": [
    "# Loading the initial dataset\n",
    "melbourne_df = pd.read_csv('Melbourne_housing_FULL.csv')"
   ]
  },
  {
   "cell_type": "code",
   "execution_count": 3,
   "metadata": {
    "colab": {
     "base_uri": "https://localhost:8080/"
    },
    "id": "7TsiXRcAKZe1",
    "outputId": "72833971-01ab-4d6d-cd5f-af9b7ddc3f75"
   },
   "outputs": [
    {
     "name": "stdout",
     "output_type": "stream",
     "text": [
      "<class 'pandas.core.frame.DataFrame'>\n",
      "RangeIndex: 34857 entries, 0 to 34856\n",
      "Data columns (total 21 columns):\n",
      " #   Column         Non-Null Count  Dtype  \n",
      "---  ------         --------------  -----  \n",
      " 0   Suburb         34857 non-null  object \n",
      " 1   Address        34857 non-null  object \n",
      " 2   Rooms          34857 non-null  int64  \n",
      " 3   Type           34857 non-null  object \n",
      " 4   Price          27247 non-null  float64\n",
      " 5   Method         34857 non-null  object \n",
      " 6   SellerG        34857 non-null  object \n",
      " 7   Date           34857 non-null  object \n",
      " 8   Distance       34856 non-null  float64\n",
      " 9   Postcode       34856 non-null  float64\n",
      " 10  Bedroom2       26640 non-null  float64\n",
      " 11  Bathroom       26631 non-null  float64\n",
      " 12  Car            26129 non-null  float64\n",
      " 13  Landsize       23047 non-null  float64\n",
      " 14  BuildingArea   13742 non-null  float64\n",
      " 15  YearBuilt      15551 non-null  float64\n",
      " 16  CouncilArea    34854 non-null  object \n",
      " 17  Lattitude      26881 non-null  float64\n",
      " 18  Longtitude     26881 non-null  float64\n",
      " 19  Regionname     34854 non-null  object \n",
      " 20  Propertycount  34854 non-null  float64\n",
      "dtypes: float64(12), int64(1), object(8)\n",
      "memory usage: 5.6+ MB\n"
     ]
    }
   ],
   "source": [
    "# DataFrame info\n",
    "melbourne_df.info()"
   ]
  },
  {
   "cell_type": "code",
   "execution_count": 4,
   "metadata": {
    "colab": {
     "base_uri": "https://localhost:8080/",
     "height": 300
    },
    "id": "28InOb1XKZe2",
    "outputId": "26e6a27d-a710-4c0a-f03e-c1b9c5282320"
   },
   "outputs": [
    {
     "data": {
      "text/html": [
       "<div>\n",
       "<style scoped>\n",
       "    .dataframe tbody tr th:only-of-type {\n",
       "        vertical-align: middle;\n",
       "    }\n",
       "\n",
       "    .dataframe tbody tr th {\n",
       "        vertical-align: top;\n",
       "    }\n",
       "\n",
       "    .dataframe thead th {\n",
       "        text-align: right;\n",
       "    }\n",
       "</style>\n",
       "<table border=\"1\" class=\"dataframe\">\n",
       "  <thead>\n",
       "    <tr style=\"text-align: right;\">\n",
       "      <th></th>\n",
       "      <th>Rooms</th>\n",
       "      <th>Price</th>\n",
       "      <th>Distance</th>\n",
       "      <th>Postcode</th>\n",
       "      <th>Bedroom2</th>\n",
       "      <th>Bathroom</th>\n",
       "      <th>Car</th>\n",
       "      <th>Landsize</th>\n",
       "      <th>BuildingArea</th>\n",
       "      <th>YearBuilt</th>\n",
       "      <th>Lattitude</th>\n",
       "      <th>Longtitude</th>\n",
       "      <th>Propertycount</th>\n",
       "    </tr>\n",
       "  </thead>\n",
       "  <tbody>\n",
       "    <tr>\n",
       "      <th>count</th>\n",
       "      <td>34857.000000</td>\n",
       "      <td>2.724700e+04</td>\n",
       "      <td>34856.000000</td>\n",
       "      <td>34856.000000</td>\n",
       "      <td>26640.000000</td>\n",
       "      <td>26631.000000</td>\n",
       "      <td>26129.000000</td>\n",
       "      <td>23047.000000</td>\n",
       "      <td>13742.00000</td>\n",
       "      <td>15551.000000</td>\n",
       "      <td>26881.000000</td>\n",
       "      <td>26881.000000</td>\n",
       "      <td>34854.000000</td>\n",
       "    </tr>\n",
       "    <tr>\n",
       "      <th>mean</th>\n",
       "      <td>3.031012</td>\n",
       "      <td>1.050173e+06</td>\n",
       "      <td>11.184929</td>\n",
       "      <td>3116.062859</td>\n",
       "      <td>3.084647</td>\n",
       "      <td>1.624798</td>\n",
       "      <td>1.728845</td>\n",
       "      <td>593.598993</td>\n",
       "      <td>160.25640</td>\n",
       "      <td>1965.289885</td>\n",
       "      <td>-37.810634</td>\n",
       "      <td>145.001851</td>\n",
       "      <td>7572.888306</td>\n",
       "    </tr>\n",
       "    <tr>\n",
       "      <th>std</th>\n",
       "      <td>0.969933</td>\n",
       "      <td>6.414671e+05</td>\n",
       "      <td>6.788892</td>\n",
       "      <td>109.023903</td>\n",
       "      <td>0.980690</td>\n",
       "      <td>0.724212</td>\n",
       "      <td>1.010771</td>\n",
       "      <td>3398.841946</td>\n",
       "      <td>401.26706</td>\n",
       "      <td>37.328178</td>\n",
       "      <td>0.090279</td>\n",
       "      <td>0.120169</td>\n",
       "      <td>4428.090313</td>\n",
       "    </tr>\n",
       "    <tr>\n",
       "      <th>min</th>\n",
       "      <td>1.000000</td>\n",
       "      <td>8.500000e+04</td>\n",
       "      <td>0.000000</td>\n",
       "      <td>3000.000000</td>\n",
       "      <td>0.000000</td>\n",
       "      <td>0.000000</td>\n",
       "      <td>0.000000</td>\n",
       "      <td>0.000000</td>\n",
       "      <td>0.00000</td>\n",
       "      <td>1196.000000</td>\n",
       "      <td>-38.190430</td>\n",
       "      <td>144.423790</td>\n",
       "      <td>83.000000</td>\n",
       "    </tr>\n",
       "    <tr>\n",
       "      <th>25%</th>\n",
       "      <td>2.000000</td>\n",
       "      <td>6.350000e+05</td>\n",
       "      <td>6.400000</td>\n",
       "      <td>3051.000000</td>\n",
       "      <td>2.000000</td>\n",
       "      <td>1.000000</td>\n",
       "      <td>1.000000</td>\n",
       "      <td>224.000000</td>\n",
       "      <td>102.00000</td>\n",
       "      <td>1940.000000</td>\n",
       "      <td>-37.862950</td>\n",
       "      <td>144.933500</td>\n",
       "      <td>4385.000000</td>\n",
       "    </tr>\n",
       "    <tr>\n",
       "      <th>50%</th>\n",
       "      <td>3.000000</td>\n",
       "      <td>8.700000e+05</td>\n",
       "      <td>10.300000</td>\n",
       "      <td>3103.000000</td>\n",
       "      <td>3.000000</td>\n",
       "      <td>2.000000</td>\n",
       "      <td>2.000000</td>\n",
       "      <td>521.000000</td>\n",
       "      <td>136.00000</td>\n",
       "      <td>1970.000000</td>\n",
       "      <td>-37.807600</td>\n",
       "      <td>145.007800</td>\n",
       "      <td>6763.000000</td>\n",
       "    </tr>\n",
       "    <tr>\n",
       "      <th>75%</th>\n",
       "      <td>4.000000</td>\n",
       "      <td>1.295000e+06</td>\n",
       "      <td>14.000000</td>\n",
       "      <td>3156.000000</td>\n",
       "      <td>4.000000</td>\n",
       "      <td>2.000000</td>\n",
       "      <td>2.000000</td>\n",
       "      <td>670.000000</td>\n",
       "      <td>188.00000</td>\n",
       "      <td>2000.000000</td>\n",
       "      <td>-37.754100</td>\n",
       "      <td>145.071900</td>\n",
       "      <td>10412.000000</td>\n",
       "    </tr>\n",
       "    <tr>\n",
       "      <th>max</th>\n",
       "      <td>16.000000</td>\n",
       "      <td>1.120000e+07</td>\n",
       "      <td>48.100000</td>\n",
       "      <td>3978.000000</td>\n",
       "      <td>30.000000</td>\n",
       "      <td>12.000000</td>\n",
       "      <td>26.000000</td>\n",
       "      <td>433014.000000</td>\n",
       "      <td>44515.00000</td>\n",
       "      <td>2106.000000</td>\n",
       "      <td>-37.390200</td>\n",
       "      <td>145.526350</td>\n",
       "      <td>21650.000000</td>\n",
       "    </tr>\n",
       "  </tbody>\n",
       "</table>\n",
       "</div>"
      ],
      "text/plain": [
       "              Rooms         Price      Distance      Postcode      Bedroom2  \\\n",
       "count  34857.000000  2.724700e+04  34856.000000  34856.000000  26640.000000   \n",
       "mean       3.031012  1.050173e+06     11.184929   3116.062859      3.084647   \n",
       "std        0.969933  6.414671e+05      6.788892    109.023903      0.980690   \n",
       "min        1.000000  8.500000e+04      0.000000   3000.000000      0.000000   \n",
       "25%        2.000000  6.350000e+05      6.400000   3051.000000      2.000000   \n",
       "50%        3.000000  8.700000e+05     10.300000   3103.000000      3.000000   \n",
       "75%        4.000000  1.295000e+06     14.000000   3156.000000      4.000000   \n",
       "max       16.000000  1.120000e+07     48.100000   3978.000000     30.000000   \n",
       "\n",
       "           Bathroom           Car       Landsize  BuildingArea     YearBuilt  \\\n",
       "count  26631.000000  26129.000000   23047.000000   13742.00000  15551.000000   \n",
       "mean       1.624798      1.728845     593.598993     160.25640   1965.289885   \n",
       "std        0.724212      1.010771    3398.841946     401.26706     37.328178   \n",
       "min        0.000000      0.000000       0.000000       0.00000   1196.000000   \n",
       "25%        1.000000      1.000000     224.000000     102.00000   1940.000000   \n",
       "50%        2.000000      2.000000     521.000000     136.00000   1970.000000   \n",
       "75%        2.000000      2.000000     670.000000     188.00000   2000.000000   \n",
       "max       12.000000     26.000000  433014.000000   44515.00000   2106.000000   \n",
       "\n",
       "          Lattitude    Longtitude  Propertycount  \n",
       "count  26881.000000  26881.000000   34854.000000  \n",
       "mean     -37.810634    145.001851    7572.888306  \n",
       "std        0.090279      0.120169    4428.090313  \n",
       "min      -38.190430    144.423790      83.000000  \n",
       "25%      -37.862950    144.933500    4385.000000  \n",
       "50%      -37.807600    145.007800    6763.000000  \n",
       "75%      -37.754100    145.071900   10412.000000  \n",
       "max      -37.390200    145.526350   21650.000000  "
      ]
     },
     "execution_count": 4,
     "metadata": {},
     "output_type": "execute_result"
    }
   ],
   "source": [
    "#descriptive statistics\n",
    "melbourne_df.describe()"
   ]
  },
  {
   "cell_type": "markdown",
   "metadata": {
    "id": "7dlxjyPQfFwO"
   },
   "source": [
    "The minimal housing market unit price, as shown in the table above, is about 85000 Australian dollars, according to the description method's initial output. Objects will be converted to categorical variables, dates will be converted to date objects, postcodes will be converted to categories, and other significant outliers that could weaken the validity of our findings will be eliminated."
   ]
  },
  {
   "cell_type": "code",
   "execution_count": 5,
   "metadata": {},
   "outputs": [],
   "source": [
    "object2categorical = melbourne_df.select_dtypes(['object']).columns"
   ]
  },
  {
   "cell_type": "code",
   "execution_count": 6,
   "metadata": {},
   "outputs": [],
   "source": [
    "for colname in object2categorical:\n",
    "    melbourne_df[colname] = melbourne_df[colname].astype('category')"
   ]
  },
  {
   "cell_type": "code",
   "execution_count": 7,
   "metadata": {},
   "outputs": [],
   "source": [
    "numerical_categorical = ['Postcode']"
   ]
  },
  {
   "cell_type": "code",
   "execution_count": 8,
   "metadata": {},
   "outputs": [],
   "source": [
    "for colname in numerical_categorical:\n",
    "    melbourne_df[colname] = melbourne_df[colname].astype('category') #Changing Postcode into a categorical variable. "
   ]
  },
  {
   "cell_type": "code",
   "execution_count": 9,
   "metadata": {},
   "outputs": [
    {
     "name": "stdout",
     "output_type": "stream",
     "text": [
      "<class 'pandas.core.frame.DataFrame'>\n",
      "RangeIndex: 34857 entries, 0 to 34856\n",
      "Data columns (total 21 columns):\n",
      " #   Column         Non-Null Count  Dtype   \n",
      "---  ------         --------------  -----   \n",
      " 0   Suburb         34857 non-null  category\n",
      " 1   Address        34857 non-null  category\n",
      " 2   Rooms          34857 non-null  int64   \n",
      " 3   Type           34857 non-null  category\n",
      " 4   Price          27247 non-null  float64 \n",
      " 5   Method         34857 non-null  category\n",
      " 6   SellerG        34857 non-null  category\n",
      " 7   Date           34857 non-null  category\n",
      " 8   Distance       34856 non-null  float64 \n",
      " 9   Postcode       34856 non-null  category\n",
      " 10  Bedroom2       26640 non-null  float64 \n",
      " 11  Bathroom       26631 non-null  float64 \n",
      " 12  Car            26129 non-null  float64 \n",
      " 13  Landsize       23047 non-null  float64 \n",
      " 14  BuildingArea   13742 non-null  float64 \n",
      " 15  YearBuilt      15551 non-null  float64 \n",
      " 16  CouncilArea    34854 non-null  category\n",
      " 17  Lattitude      26881 non-null  float64 \n",
      " 18  Longtitude     26881 non-null  float64 \n",
      " 19  Regionname     34854 non-null  category\n",
      " 20  Propertycount  34854 non-null  float64 \n",
      "dtypes: category(9), float64(11), int64(1)\n",
      "memory usage: 5.0 MB\n"
     ]
    }
   ],
   "source": [
    "melbourne_df.info()"
   ]
  },
  {
   "cell_type": "code",
   "execution_count": 10,
   "metadata": {},
   "outputs": [],
   "source": [
    "#Removing Duplicate Variables\n",
    "#After a cursory review of the dataset, the columns \"Room\" and \"Bedroom2\" contain the same data. Therefore, it was decided\n",
    "# to delete one of the duplicates ('Bedroom2') from the dataset.\n",
    "\n",
    "melbourne_df['Rooms/Bedroom2'] = melbourne_df['Rooms'] - melbourne_df['Bedroom2'] #To determine whether the values for Rooms and Bedroom2 differ in any way. \n",
    "#There seems to be little to no difference at all.\n",
    "melbourne_df = melbourne_df.drop(columns=['Bedroom2', 'Rooms/Bedroom2']) #Dropping the Bedroom2 and Rooms/Bedroom2 columns"
   ]
  },
  {
   "cell_type": "markdown",
   "metadata": {},
   "source": [
    "Feature Engineering - The year the house was built is included in the dataset. The age of the home is being probed by this variable, even though it is being measured by a specific year. To convey the essence of this information more concisely and to enable better analysis and visualization, home age might be stated as historic (> 50 years old) vs. non-historic ( < 50 years old)."
   ]
  },
  {
   "cell_type": "code",
   "execution_count": 11,
   "metadata": {},
   "outputs": [],
   "source": [
    "# Age variable\n",
    "melbourne_df['Age'] = 2022 - melbourne_df['YearBuilt']\n",
    "\n",
    "#See whether a home is historically based on the age of the house.  \n",
    "melbourne_df['Historic'] = np.where(melbourne_df['Age']>=50,'Historic','NonHistoric')\n",
    "\n",
    "# Converting the 'Historic' Variable into a categorical variable.\n",
    "melbourne_df['Historic'] = melbourne_df['Historic'].astype('category')"
   ]
  },
  {
   "cell_type": "code",
   "execution_count": 13,
   "metadata": {},
   "outputs": [
    {
     "data": {
      "text/plain": [
       "Suburb               0\n",
       "Address              0\n",
       "Rooms                0\n",
       "Type                 0\n",
       "Price             7610\n",
       "Method               0\n",
       "SellerG              0\n",
       "Date                 0\n",
       "Distance             1\n",
       "Postcode             1\n",
       "Bathroom          8226\n",
       "Car               8728\n",
       "Landsize         11810\n",
       "BuildingArea     21115\n",
       "YearBuilt        19306\n",
       "CouncilArea          3\n",
       "Lattitude         7976\n",
       "Longtitude        7976\n",
       "Regionname           3\n",
       "Propertycount        3\n",
       "Age              19306\n",
       "Historic             0\n",
       "dtype: int64"
      ]
     },
     "execution_count": 13,
     "metadata": {},
     "output_type": "execute_result"
    }
   ],
   "source": [
    "#Analyzing Missing Data (Dropping null values)\n",
    "melbourne_df.isnull().sum()"
   ]
  },
  {
   "cell_type": "code",
   "execution_count": 14,
   "metadata": {},
   "outputs": [],
   "source": [
    "melbourne_df = melbourne_df.dropna() #Dropping null values"
   ]
  },
  {
   "cell_type": "code",
   "execution_count": 15,
   "metadata": {},
   "outputs": [
    {
     "name": "stdout",
     "output_type": "stream",
     "text": [
      "<class 'pandas.core.frame.DataFrame'>\n",
      "Int64Index: 8887 entries, 2 to 34856\n",
      "Data columns (total 22 columns):\n",
      " #   Column         Non-Null Count  Dtype   \n",
      "---  ------         --------------  -----   \n",
      " 0   Suburb         8887 non-null   category\n",
      " 1   Address        8887 non-null   category\n",
      " 2   Rooms          8887 non-null   int64   \n",
      " 3   Type           8887 non-null   category\n",
      " 4   Price          8887 non-null   float64 \n",
      " 5   Method         8887 non-null   category\n",
      " 6   SellerG        8887 non-null   category\n",
      " 7   Date           8887 non-null   category\n",
      " 8   Distance       8887 non-null   float64 \n",
      " 9   Postcode       8887 non-null   category\n",
      " 10  Bathroom       8887 non-null   float64 \n",
      " 11  Car            8887 non-null   float64 \n",
      " 12  Landsize       8887 non-null   float64 \n",
      " 13  BuildingArea   8887 non-null   float64 \n",
      " 14  YearBuilt      8887 non-null   float64 \n",
      " 15  CouncilArea    8887 non-null   category\n",
      " 16  Lattitude      8887 non-null   float64 \n",
      " 17  Longtitude     8887 non-null   float64 \n",
      " 18  Regionname     8887 non-null   category\n",
      " 19  Propertycount  8887 non-null   float64 \n",
      " 20  Age            8887 non-null   float64 \n",
      " 21  Historic       8887 non-null   category\n",
      "dtypes: category(10), float64(11), int64(1)\n",
      "memory usage: 2.3 MB\n"
     ]
    }
   ],
   "source": [
    "melbourne_df.info()"
   ]
  },
  {
   "cell_type": "code",
   "execution_count": 17,
   "metadata": {},
   "outputs": [
    {
     "data": {
      "text/html": [
       "<div>\n",
       "<style scoped>\n",
       "    .dataframe tbody tr th:only-of-type {\n",
       "        vertical-align: middle;\n",
       "    }\n",
       "\n",
       "    .dataframe tbody tr th {\n",
       "        vertical-align: top;\n",
       "    }\n",
       "\n",
       "    .dataframe thead th {\n",
       "        text-align: right;\n",
       "    }\n",
       "</style>\n",
       "<table border=\"1\" class=\"dataframe\">\n",
       "  <thead>\n",
       "    <tr style=\"text-align: right;\">\n",
       "      <th></th>\n",
       "      <th>Suburb</th>\n",
       "      <th>Address</th>\n",
       "      <th>Rooms</th>\n",
       "      <th>Type</th>\n",
       "      <th>Price</th>\n",
       "      <th>Method</th>\n",
       "      <th>SellerG</th>\n",
       "      <th>Date</th>\n",
       "      <th>Distance</th>\n",
       "      <th>Postcode</th>\n",
       "      <th>...</th>\n",
       "      <th>Landsize</th>\n",
       "      <th>BuildingArea</th>\n",
       "      <th>YearBuilt</th>\n",
       "      <th>CouncilArea</th>\n",
       "      <th>Lattitude</th>\n",
       "      <th>Longtitude</th>\n",
       "      <th>Regionname</th>\n",
       "      <th>Propertycount</th>\n",
       "      <th>Age</th>\n",
       "      <th>Historic</th>\n",
       "    </tr>\n",
       "  </thead>\n",
       "  <tbody>\n",
       "    <tr>\n",
       "      <th>16424</th>\n",
       "      <td>Mount Waverley</td>\n",
       "      <td>5 Armstrong St</td>\n",
       "      <td>3</td>\n",
       "      <td>h</td>\n",
       "      <td>1200000.0</td>\n",
       "      <td>VB</td>\n",
       "      <td>McGrath</td>\n",
       "      <td>24/06/2017</td>\n",
       "      <td>14.2</td>\n",
       "      <td>3149.0</td>\n",
       "      <td>...</td>\n",
       "      <td>807.0</td>\n",
       "      <td>117.0</td>\n",
       "      <td>1196.0</td>\n",
       "      <td>Monash City Council</td>\n",
       "      <td>-37.86788</td>\n",
       "      <td>145.12121</td>\n",
       "      <td>Eastern Metropolitan</td>\n",
       "      <td>13366.0</td>\n",
       "      <td>826.0</td>\n",
       "      <td>Historic</td>\n",
       "    </tr>\n",
       "  </tbody>\n",
       "</table>\n",
       "<p>1 rows × 22 columns</p>\n",
       "</div>"
      ],
      "text/plain": [
       "               Suburb         Address  Rooms Type      Price Method  SellerG  \\\n",
       "16424  Mount Waverley  5 Armstrong St      3    h  1200000.0     VB  McGrath   \n",
       "\n",
       "             Date  Distance Postcode  ...  Landsize  BuildingArea  YearBuilt  \\\n",
       "16424  24/06/2017      14.2   3149.0  ...     807.0         117.0     1196.0   \n",
       "\n",
       "               CouncilArea  Lattitude Longtitude            Regionname  \\\n",
       "16424  Monash City Council  -37.86788  145.12121  Eastern Metropolitan   \n",
       "\n",
       "       Propertycount    Age  Historic  \n",
       "16424        13366.0  826.0  Historic  \n",
       "\n",
       "[1 rows x 22 columns]"
      ]
     },
     "execution_count": 17,
     "metadata": {},
     "output_type": "execute_result"
    }
   ],
   "source": [
    "#Seeing if there are any house that are older than 250 years \n",
    "melbourne_df[melbourne_df['Age']>250]"
   ]
  },
  {
   "cell_type": "code",
   "execution_count": 18,
   "metadata": {},
   "outputs": [],
   "source": [
    "melbourne_df = melbourne_df.drop([16424])"
   ]
  },
  {
   "cell_type": "code",
   "execution_count": 19,
   "metadata": {},
   "outputs": [
    {
     "data": {
      "text/html": [
       "<div>\n",
       "<style scoped>\n",
       "    .dataframe tbody tr th:only-of-type {\n",
       "        vertical-align: middle;\n",
       "    }\n",
       "\n",
       "    .dataframe tbody tr th {\n",
       "        vertical-align: top;\n",
       "    }\n",
       "\n",
       "    .dataframe thead th {\n",
       "        text-align: right;\n",
       "    }\n",
       "</style>\n",
       "<table border=\"1\" class=\"dataframe\">\n",
       "  <thead>\n",
       "    <tr style=\"text-align: right;\">\n",
       "      <th></th>\n",
       "      <th>Suburb</th>\n",
       "      <th>Address</th>\n",
       "      <th>Rooms</th>\n",
       "      <th>Type</th>\n",
       "      <th>Price</th>\n",
       "      <th>Method</th>\n",
       "      <th>SellerG</th>\n",
       "      <th>Date</th>\n",
       "      <th>Distance</th>\n",
       "      <th>Postcode</th>\n",
       "      <th>...</th>\n",
       "      <th>Landsize</th>\n",
       "      <th>BuildingArea</th>\n",
       "      <th>YearBuilt</th>\n",
       "      <th>CouncilArea</th>\n",
       "      <th>Lattitude</th>\n",
       "      <th>Longtitude</th>\n",
       "      <th>Regionname</th>\n",
       "      <th>Propertycount</th>\n",
       "      <th>Age</th>\n",
       "      <th>Historic</th>\n",
       "    </tr>\n",
       "  </thead>\n",
       "  <tbody>\n",
       "    <tr>\n",
       "      <th>7211</th>\n",
       "      <td>North Melbourne</td>\n",
       "      <td>19 Shands La</td>\n",
       "      <td>2</td>\n",
       "      <td>t</td>\n",
       "      <td>841000.0</td>\n",
       "      <td>S</td>\n",
       "      <td>Jellis</td>\n",
       "      <td>4/03/2017</td>\n",
       "      <td>2.3</td>\n",
       "      <td>3051.0</td>\n",
       "      <td>...</td>\n",
       "      <td>215.0</td>\n",
       "      <td>0.0</td>\n",
       "      <td>2000.0</td>\n",
       "      <td>Melbourne City Council</td>\n",
       "      <td>-37.79530</td>\n",
       "      <td>144.94370</td>\n",
       "      <td>Northern Metropolitan</td>\n",
       "      <td>6821.0</td>\n",
       "      <td>22.0</td>\n",
       "      <td>NonHistoric</td>\n",
       "    </tr>\n",
       "    <tr>\n",
       "      <th>19775</th>\n",
       "      <td>Balwyn North</td>\n",
       "      <td>14 Wanbrow Av</td>\n",
       "      <td>5</td>\n",
       "      <td>h</td>\n",
       "      <td>1950000.0</td>\n",
       "      <td>S</td>\n",
       "      <td>RT</td>\n",
       "      <td>3/09/2017</td>\n",
       "      <td>9.7</td>\n",
       "      <td>3104.0</td>\n",
       "      <td>...</td>\n",
       "      <td>743.0</td>\n",
       "      <td>0.0</td>\n",
       "      <td>1949.0</td>\n",
       "      <td>Boroondara City Council</td>\n",
       "      <td>-37.80235</td>\n",
       "      <td>145.09311</td>\n",
       "      <td>Southern Metropolitan</td>\n",
       "      <td>7809.0</td>\n",
       "      <td>73.0</td>\n",
       "      <td>Historic</td>\n",
       "    </tr>\n",
       "    <tr>\n",
       "      <th>19840</th>\n",
       "      <td>Bundoora</td>\n",
       "      <td>22 Moreton Cr</td>\n",
       "      <td>3</td>\n",
       "      <td>h</td>\n",
       "      <td>814000.0</td>\n",
       "      <td>S</td>\n",
       "      <td>Barry</td>\n",
       "      <td>3/09/2017</td>\n",
       "      <td>12.1</td>\n",
       "      <td>3083.0</td>\n",
       "      <td>...</td>\n",
       "      <td>542.0</td>\n",
       "      <td>0.0</td>\n",
       "      <td>1970.0</td>\n",
       "      <td>Banyule City Council</td>\n",
       "      <td>-37.70861</td>\n",
       "      <td>145.05691</td>\n",
       "      <td>Northern Metropolitan</td>\n",
       "      <td>10175.0</td>\n",
       "      <td>52.0</td>\n",
       "      <td>Historic</td>\n",
       "    </tr>\n",
       "    <tr>\n",
       "      <th>20223</th>\n",
       "      <td>Roxburgh Park</td>\n",
       "      <td>16 Sandover Dr</td>\n",
       "      <td>4</td>\n",
       "      <td>h</td>\n",
       "      <td>570000.0</td>\n",
       "      <td>S</td>\n",
       "      <td>Raine</td>\n",
       "      <td>3/09/2017</td>\n",
       "      <td>20.6</td>\n",
       "      <td>3064.0</td>\n",
       "      <td>...</td>\n",
       "      <td>504.0</td>\n",
       "      <td>0.0</td>\n",
       "      <td>2000.0</td>\n",
       "      <td>Hume City Council</td>\n",
       "      <td>-37.61419</td>\n",
       "      <td>144.93448</td>\n",
       "      <td>Northern Metropolitan</td>\n",
       "      <td>5833.0</td>\n",
       "      <td>22.0</td>\n",
       "      <td>NonHistoric</td>\n",
       "    </tr>\n",
       "    <tr>\n",
       "      <th>20262</th>\n",
       "      <td>Thornbury</td>\n",
       "      <td>19/337 Station St</td>\n",
       "      <td>3</td>\n",
       "      <td>t</td>\n",
       "      <td>900000.0</td>\n",
       "      <td>VB</td>\n",
       "      <td>Jellis</td>\n",
       "      <td>3/09/2017</td>\n",
       "      <td>7.0</td>\n",
       "      <td>3071.0</td>\n",
       "      <td>...</td>\n",
       "      <td>120.0</td>\n",
       "      <td>0.0</td>\n",
       "      <td>2000.0</td>\n",
       "      <td>Darebin City Council</td>\n",
       "      <td>-37.76343</td>\n",
       "      <td>145.02096</td>\n",
       "      <td>Northern Metropolitan</td>\n",
       "      <td>8870.0</td>\n",
       "      <td>22.0</td>\n",
       "      <td>NonHistoric</td>\n",
       "    </tr>\n",
       "    <tr>\n",
       "      <th>22040</th>\n",
       "      <td>Prahran</td>\n",
       "      <td>6 Aberdeen Rd</td>\n",
       "      <td>3</td>\n",
       "      <td>h</td>\n",
       "      <td>1390000.0</td>\n",
       "      <td>S</td>\n",
       "      <td>Marshall</td>\n",
       "      <td>19/08/2017</td>\n",
       "      <td>4.6</td>\n",
       "      <td>3181.0</td>\n",
       "      <td>...</td>\n",
       "      <td>125.0</td>\n",
       "      <td>0.0</td>\n",
       "      <td>2002.0</td>\n",
       "      <td>Stonnington City Council</td>\n",
       "      <td>-37.85257</td>\n",
       "      <td>145.00296</td>\n",
       "      <td>Southern Metropolitan</td>\n",
       "      <td>7717.0</td>\n",
       "      <td>20.0</td>\n",
       "      <td>NonHistoric</td>\n",
       "    </tr>\n",
       "    <tr>\n",
       "      <th>22507</th>\n",
       "      <td>Huntingdale</td>\n",
       "      <td>33 Beauford St</td>\n",
       "      <td>3</td>\n",
       "      <td>h</td>\n",
       "      <td>1205000.0</td>\n",
       "      <td>SA</td>\n",
       "      <td>FN</td>\n",
       "      <td>23/09/2017</td>\n",
       "      <td>12.3</td>\n",
       "      <td>3166.0</td>\n",
       "      <td>...</td>\n",
       "      <td>622.0</td>\n",
       "      <td>0.0</td>\n",
       "      <td>1960.0</td>\n",
       "      <td>Monash City Council</td>\n",
       "      <td>-37.90823</td>\n",
       "      <td>145.10851</td>\n",
       "      <td>Southern Metropolitan</td>\n",
       "      <td>768.0</td>\n",
       "      <td>62.0</td>\n",
       "      <td>Historic</td>\n",
       "    </tr>\n",
       "    <tr>\n",
       "      <th>22931</th>\n",
       "      <td>Balwyn North</td>\n",
       "      <td>1 Hosken St</td>\n",
       "      <td>5</td>\n",
       "      <td>h</td>\n",
       "      <td>2800000.0</td>\n",
       "      <td>S</td>\n",
       "      <td>Marshall</td>\n",
       "      <td>26/08/2017</td>\n",
       "      <td>9.7</td>\n",
       "      <td>3104.0</td>\n",
       "      <td>...</td>\n",
       "      <td>1173.0</td>\n",
       "      <td>0.0</td>\n",
       "      <td>1960.0</td>\n",
       "      <td>Boroondara City Council</td>\n",
       "      <td>-37.80385</td>\n",
       "      <td>145.09094</td>\n",
       "      <td>Southern Metropolitan</td>\n",
       "      <td>7809.0</td>\n",
       "      <td>62.0</td>\n",
       "      <td>Historic</td>\n",
       "    </tr>\n",
       "    <tr>\n",
       "      <th>22994</th>\n",
       "      <td>Brighton East</td>\n",
       "      <td>60 Cummins Rd</td>\n",
       "      <td>3</td>\n",
       "      <td>h</td>\n",
       "      <td>1650000.0</td>\n",
       "      <td>SP</td>\n",
       "      <td>Buxton</td>\n",
       "      <td>26/08/2017</td>\n",
       "      <td>10.3</td>\n",
       "      <td>3187.0</td>\n",
       "      <td>...</td>\n",
       "      <td>623.0</td>\n",
       "      <td>0.0</td>\n",
       "      <td>1920.0</td>\n",
       "      <td>Bayside City Council</td>\n",
       "      <td>-37.92698</td>\n",
       "      <td>145.02673</td>\n",
       "      <td>Southern Metropolitan</td>\n",
       "      <td>6938.0</td>\n",
       "      <td>102.0</td>\n",
       "      <td>Historic</td>\n",
       "    </tr>\n",
       "    <tr>\n",
       "      <th>23022</th>\n",
       "      <td>Bundoora</td>\n",
       "      <td>37 Greenwood Dr</td>\n",
       "      <td>4</td>\n",
       "      <td>h</td>\n",
       "      <td>815000.0</td>\n",
       "      <td>S</td>\n",
       "      <td>Ray</td>\n",
       "      <td>26/08/2017</td>\n",
       "      <td>12.1</td>\n",
       "      <td>3083.0</td>\n",
       "      <td>...</td>\n",
       "      <td>525.0</td>\n",
       "      <td>0.0</td>\n",
       "      <td>1965.0</td>\n",
       "      <td>Banyule City Council</td>\n",
       "      <td>-37.70765</td>\n",
       "      <td>145.05556</td>\n",
       "      <td>Northern Metropolitan</td>\n",
       "      <td>10175.0</td>\n",
       "      <td>57.0</td>\n",
       "      <td>Historic</td>\n",
       "    </tr>\n",
       "    <tr>\n",
       "      <th>23085</th>\n",
       "      <td>Craigieburn</td>\n",
       "      <td>28 Powell St</td>\n",
       "      <td>3</td>\n",
       "      <td>h</td>\n",
       "      <td>412500.0</td>\n",
       "      <td>S</td>\n",
       "      <td>RE</td>\n",
       "      <td>26/08/2017</td>\n",
       "      <td>20.6</td>\n",
       "      <td>3064.0</td>\n",
       "      <td>...</td>\n",
       "      <td>197.0</td>\n",
       "      <td>0.0</td>\n",
       "      <td>2012.0</td>\n",
       "      <td>Hume City Council</td>\n",
       "      <td>-37.57687</td>\n",
       "      <td>144.91100</td>\n",
       "      <td>Northern Metropolitan</td>\n",
       "      <td>15510.0</td>\n",
       "      <td>10.0</td>\n",
       "      <td>NonHistoric</td>\n",
       "    </tr>\n",
       "    <tr>\n",
       "      <th>23115</th>\n",
       "      <td>Epping</td>\n",
       "      <td>26 Lowalde Dr</td>\n",
       "      <td>3</td>\n",
       "      <td>h</td>\n",
       "      <td>595000.0</td>\n",
       "      <td>S</td>\n",
       "      <td>hockingstuart</td>\n",
       "      <td>26/08/2017</td>\n",
       "      <td>19.6</td>\n",
       "      <td>3076.0</td>\n",
       "      <td>...</td>\n",
       "      <td>536.0</td>\n",
       "      <td>0.0</td>\n",
       "      <td>1980.0</td>\n",
       "      <td>Whittlesea City Council</td>\n",
       "      <td>-37.64972</td>\n",
       "      <td>145.04086</td>\n",
       "      <td>Northern Metropolitan</td>\n",
       "      <td>10926.0</td>\n",
       "      <td>42.0</td>\n",
       "      <td>NonHistoric</td>\n",
       "    </tr>\n",
       "    <tr>\n",
       "      <th>23159</th>\n",
       "      <td>Glen Iris</td>\n",
       "      <td>6 Viva St</td>\n",
       "      <td>4</td>\n",
       "      <td>h</td>\n",
       "      <td>2690000.0</td>\n",
       "      <td>PI</td>\n",
       "      <td>Marshall</td>\n",
       "      <td>26/08/2017</td>\n",
       "      <td>7.3</td>\n",
       "      <td>3146.0</td>\n",
       "      <td>...</td>\n",
       "      <td>647.0</td>\n",
       "      <td>0.0</td>\n",
       "      <td>1910.0</td>\n",
       "      <td>Boroondara City Council</td>\n",
       "      <td>-37.86133</td>\n",
       "      <td>145.04167</td>\n",
       "      <td>Southern Metropolitan</td>\n",
       "      <td>10412.0</td>\n",
       "      <td>112.0</td>\n",
       "      <td>Historic</td>\n",
       "    </tr>\n",
       "    <tr>\n",
       "      <th>23242</th>\n",
       "      <td>Kew</td>\n",
       "      <td>16 Hodgson St</td>\n",
       "      <td>5</td>\n",
       "      <td>h</td>\n",
       "      <td>3450000.0</td>\n",
       "      <td>PI</td>\n",
       "      <td>Kay</td>\n",
       "      <td>26/08/2017</td>\n",
       "      <td>5.4</td>\n",
       "      <td>3101.0</td>\n",
       "      <td>...</td>\n",
       "      <td>668.0</td>\n",
       "      <td>0.0</td>\n",
       "      <td>2006.0</td>\n",
       "      <td>Boroondara City Council</td>\n",
       "      <td>-37.80795</td>\n",
       "      <td>145.01474</td>\n",
       "      <td>Southern Metropolitan</td>\n",
       "      <td>10331.0</td>\n",
       "      <td>16.0</td>\n",
       "      <td>NonHistoric</td>\n",
       "    </tr>\n",
       "    <tr>\n",
       "      <th>23250</th>\n",
       "      <td>Kilsyth</td>\n",
       "      <td>17 Birkenhead Dr</td>\n",
       "      <td>3</td>\n",
       "      <td>h</td>\n",
       "      <td>803000.0</td>\n",
       "      <td>S</td>\n",
       "      <td>Max</td>\n",
       "      <td>26/08/2017</td>\n",
       "      <td>26.0</td>\n",
       "      <td>3137.0</td>\n",
       "      <td>...</td>\n",
       "      <td>862.0</td>\n",
       "      <td>0.0</td>\n",
       "      <td>1970.0</td>\n",
       "      <td>Maroondah City Council</td>\n",
       "      <td>-37.79902</td>\n",
       "      <td>145.32092</td>\n",
       "      <td>Eastern Metropolitan</td>\n",
       "      <td>4654.0</td>\n",
       "      <td>52.0</td>\n",
       "      <td>Historic</td>\n",
       "    </tr>\n",
       "    <tr>\n",
       "      <th>23321</th>\n",
       "      <td>Moorabbin</td>\n",
       "      <td>7 Walsh Av</td>\n",
       "      <td>3</td>\n",
       "      <td>h</td>\n",
       "      <td>1290000.0</td>\n",
       "      <td>S</td>\n",
       "      <td>Ray</td>\n",
       "      <td>26/08/2017</td>\n",
       "      <td>14.3</td>\n",
       "      <td>3189.0</td>\n",
       "      <td>...</td>\n",
       "      <td>580.0</td>\n",
       "      <td>0.0</td>\n",
       "      <td>1970.0</td>\n",
       "      <td>Kingston City Council</td>\n",
       "      <td>-37.94492</td>\n",
       "      <td>145.04938</td>\n",
       "      <td>Southern Metropolitan</td>\n",
       "      <td>2555.0</td>\n",
       "      <td>52.0</td>\n",
       "      <td>Historic</td>\n",
       "    </tr>\n",
       "    <tr>\n",
       "      <th>23378</th>\n",
       "      <td>Port Melbourne</td>\n",
       "      <td>44 Garton St</td>\n",
       "      <td>4</td>\n",
       "      <td>t</td>\n",
       "      <td>2455000.0</td>\n",
       "      <td>SP</td>\n",
       "      <td>Marshall</td>\n",
       "      <td>26/08/2017</td>\n",
       "      <td>3.5</td>\n",
       "      <td>3207.0</td>\n",
       "      <td>...</td>\n",
       "      <td>123.0</td>\n",
       "      <td>0.0</td>\n",
       "      <td>2010.0</td>\n",
       "      <td>Melbourne City Council</td>\n",
       "      <td>-37.83349</td>\n",
       "      <td>144.94840</td>\n",
       "      <td>Southern Metropolitan</td>\n",
       "      <td>8648.0</td>\n",
       "      <td>12.0</td>\n",
       "      <td>NonHistoric</td>\n",
       "    </tr>\n",
       "    <tr>\n",
       "      <th>23654</th>\n",
       "      <td>Cheltenham</td>\n",
       "      <td>5 Hannah St</td>\n",
       "      <td>3</td>\n",
       "      <td>h</td>\n",
       "      <td>975000.0</td>\n",
       "      <td>S</td>\n",
       "      <td>O'Brien</td>\n",
       "      <td>7/10/2017</td>\n",
       "      <td>17.9</td>\n",
       "      <td>3192.0</td>\n",
       "      <td>...</td>\n",
       "      <td>651.0</td>\n",
       "      <td>0.0</td>\n",
       "      <td>1970.0</td>\n",
       "      <td>Bayside City Council</td>\n",
       "      <td>-37.95683</td>\n",
       "      <td>145.07184</td>\n",
       "      <td>Southern Metropolitan</td>\n",
       "      <td>9758.0</td>\n",
       "      <td>52.0</td>\n",
       "      <td>Historic</td>\n",
       "    </tr>\n",
       "    <tr>\n",
       "      <th>23690</th>\n",
       "      <td>Craigieburn</td>\n",
       "      <td>18 Pymble Gdns</td>\n",
       "      <td>4</td>\n",
       "      <td>h</td>\n",
       "      <td>590000.0</td>\n",
       "      <td>S</td>\n",
       "      <td>LJ</td>\n",
       "      <td>7/10/2017</td>\n",
       "      <td>20.6</td>\n",
       "      <td>3064.0</td>\n",
       "      <td>...</td>\n",
       "      <td>448.0</td>\n",
       "      <td>0.0</td>\n",
       "      <td>2009.0</td>\n",
       "      <td>Hume City Council</td>\n",
       "      <td>-37.60902</td>\n",
       "      <td>144.91279</td>\n",
       "      <td>Northern Metropolitan</td>\n",
       "      <td>15510.0</td>\n",
       "      <td>13.0</td>\n",
       "      <td>NonHistoric</td>\n",
       "    </tr>\n",
       "    <tr>\n",
       "      <th>24116</th>\n",
       "      <td>Werribee</td>\n",
       "      <td>21 Sinns Av</td>\n",
       "      <td>3</td>\n",
       "      <td>h</td>\n",
       "      <td>550000.0</td>\n",
       "      <td>S</td>\n",
       "      <td>Ray</td>\n",
       "      <td>7/10/2017</td>\n",
       "      <td>14.7</td>\n",
       "      <td>3030.0</td>\n",
       "      <td>...</td>\n",
       "      <td>580.0</td>\n",
       "      <td>0.0</td>\n",
       "      <td>1980.0</td>\n",
       "      <td>Wyndham City Council</td>\n",
       "      <td>-37.90136</td>\n",
       "      <td>144.66925</td>\n",
       "      <td>Western Metropolitan</td>\n",
       "      <td>16166.0</td>\n",
       "      <td>42.0</td>\n",
       "      <td>NonHistoric</td>\n",
       "    </tr>\n",
       "    <tr>\n",
       "      <th>24196</th>\n",
       "      <td>Balwyn North</td>\n",
       "      <td>5 Highview Rd</td>\n",
       "      <td>4</td>\n",
       "      <td>h</td>\n",
       "      <td>1500000.0</td>\n",
       "      <td>VB</td>\n",
       "      <td>Fletchers</td>\n",
       "      <td>14/10/2017</td>\n",
       "      <td>9.7</td>\n",
       "      <td>3104.0</td>\n",
       "      <td>...</td>\n",
       "      <td>620.0</td>\n",
       "      <td>0.0</td>\n",
       "      <td>1965.0</td>\n",
       "      <td>Boroondara City Council</td>\n",
       "      <td>-37.78396</td>\n",
       "      <td>145.07942</td>\n",
       "      <td>Southern Metropolitan</td>\n",
       "      <td>7809.0</td>\n",
       "      <td>57.0</td>\n",
       "      <td>Historic</td>\n",
       "    </tr>\n",
       "    <tr>\n",
       "      <th>24205</th>\n",
       "      <td>Bentleigh</td>\n",
       "      <td>1 Donaldson St</td>\n",
       "      <td>3</td>\n",
       "      <td>h</td>\n",
       "      <td>1730000.0</td>\n",
       "      <td>S</td>\n",
       "      <td>Jellis</td>\n",
       "      <td>14/10/2017</td>\n",
       "      <td>11.4</td>\n",
       "      <td>3204.0</td>\n",
       "      <td>...</td>\n",
       "      <td>569.0</td>\n",
       "      <td>0.0</td>\n",
       "      <td>1940.0</td>\n",
       "      <td>Glen Eira City Council</td>\n",
       "      <td>-37.91456</td>\n",
       "      <td>145.04109</td>\n",
       "      <td>Southern Metropolitan</td>\n",
       "      <td>6795.0</td>\n",
       "      <td>82.0</td>\n",
       "      <td>Historic</td>\n",
       "    </tr>\n",
       "    <tr>\n",
       "      <th>24344</th>\n",
       "      <td>Donvale</td>\n",
       "      <td>29 Martha St</td>\n",
       "      <td>2</td>\n",
       "      <td>h</td>\n",
       "      <td>1070000.0</td>\n",
       "      <td>S</td>\n",
       "      <td>hockingstuart</td>\n",
       "      <td>14/10/2017</td>\n",
       "      <td>16.1</td>\n",
       "      <td>3111.0</td>\n",
       "      <td>...</td>\n",
       "      <td>758.0</td>\n",
       "      <td>0.0</td>\n",
       "      <td>1980.0</td>\n",
       "      <td>Manningham City Council</td>\n",
       "      <td>-37.79883</td>\n",
       "      <td>145.17337</td>\n",
       "      <td>Eastern Metropolitan</td>\n",
       "      <td>4790.0</td>\n",
       "      <td>42.0</td>\n",
       "      <td>NonHistoric</td>\n",
       "    </tr>\n",
       "    <tr>\n",
       "      <th>24602</th>\n",
       "      <td>Northcote</td>\n",
       "      <td>155 Clarke St</td>\n",
       "      <td>3</td>\n",
       "      <td>h</td>\n",
       "      <td>2750000.0</td>\n",
       "      <td>VB</td>\n",
       "      <td>Woodards</td>\n",
       "      <td>14/10/2017</td>\n",
       "      <td>5.3</td>\n",
       "      <td>3070.0</td>\n",
       "      <td>...</td>\n",
       "      <td>634.0</td>\n",
       "      <td>0.0</td>\n",
       "      <td>1886.0</td>\n",
       "      <td>Darebin City Council</td>\n",
       "      <td>-37.77625</td>\n",
       "      <td>144.99572</td>\n",
       "      <td>Northern Metropolitan</td>\n",
       "      <td>11364.0</td>\n",
       "      <td>136.0</td>\n",
       "      <td>Historic</td>\n",
       "    </tr>\n",
       "    <tr>\n",
       "      <th>25086</th>\n",
       "      <td>Glen Iris</td>\n",
       "      <td>60 Hortense St</td>\n",
       "      <td>4</td>\n",
       "      <td>h</td>\n",
       "      <td>2237500.0</td>\n",
       "      <td>S</td>\n",
       "      <td>Marshall</td>\n",
       "      <td>21/10/2017</td>\n",
       "      <td>7.3</td>\n",
       "      <td>3146.0</td>\n",
       "      <td>...</td>\n",
       "      <td>650.0</td>\n",
       "      <td>0.0</td>\n",
       "      <td>1985.0</td>\n",
       "      <td>Boroondara City Council</td>\n",
       "      <td>-37.85776</td>\n",
       "      <td>145.07998</td>\n",
       "      <td>Southern Metropolitan</td>\n",
       "      <td>10412.0</td>\n",
       "      <td>37.0</td>\n",
       "      <td>NonHistoric</td>\n",
       "    </tr>\n",
       "    <tr>\n",
       "      <th>25320</th>\n",
       "      <td>Reservoir</td>\n",
       "      <td>12 Kelverne St</td>\n",
       "      <td>3</td>\n",
       "      <td>h</td>\n",
       "      <td>650000.0</td>\n",
       "      <td>SP</td>\n",
       "      <td>Barry</td>\n",
       "      <td>21/10/2017</td>\n",
       "      <td>12.0</td>\n",
       "      <td>3073.0</td>\n",
       "      <td>...</td>\n",
       "      <td>491.0</td>\n",
       "      <td>0.0</td>\n",
       "      <td>1950.0</td>\n",
       "      <td>Darebin City Council</td>\n",
       "      <td>-37.71445</td>\n",
       "      <td>144.98225</td>\n",
       "      <td>Northern Metropolitan</td>\n",
       "      <td>21650.0</td>\n",
       "      <td>72.0</td>\n",
       "      <td>Historic</td>\n",
       "    </tr>\n",
       "    <tr>\n",
       "      <th>25352</th>\n",
       "      <td>Roxburgh Park</td>\n",
       "      <td>15 Donvale Av</td>\n",
       "      <td>3</td>\n",
       "      <td>h</td>\n",
       "      <td>470000.0</td>\n",
       "      <td>S</td>\n",
       "      <td>Raine</td>\n",
       "      <td>21/10/2017</td>\n",
       "      <td>20.6</td>\n",
       "      <td>3064.0</td>\n",
       "      <td>...</td>\n",
       "      <td>328.0</td>\n",
       "      <td>0.0</td>\n",
       "      <td>2004.0</td>\n",
       "      <td>Hume City Council</td>\n",
       "      <td>-37.61388</td>\n",
       "      <td>144.92270</td>\n",
       "      <td>Northern Metropolitan</td>\n",
       "      <td>5833.0</td>\n",
       "      <td>18.0</td>\n",
       "      <td>NonHistoric</td>\n",
       "    </tr>\n",
       "    <tr>\n",
       "      <th>25376</th>\n",
       "      <td>Spotswood</td>\n",
       "      <td>104 Hudsons Rd</td>\n",
       "      <td>2</td>\n",
       "      <td>h</td>\n",
       "      <td>1225000.0</td>\n",
       "      <td>SP</td>\n",
       "      <td>Greg</td>\n",
       "      <td>21/10/2017</td>\n",
       "      <td>6.2</td>\n",
       "      <td>3015.0</td>\n",
       "      <td>...</td>\n",
       "      <td>361.0</td>\n",
       "      <td>0.0</td>\n",
       "      <td>1910.0</td>\n",
       "      <td>Hobsons Bay City Council</td>\n",
       "      <td>-37.82940</td>\n",
       "      <td>144.88410</td>\n",
       "      <td>Western Metropolitan</td>\n",
       "      <td>1223.0</td>\n",
       "      <td>112.0</td>\n",
       "      <td>Historic</td>\n",
       "    </tr>\n",
       "    <tr>\n",
       "      <th>25412</th>\n",
       "      <td>Tarneit</td>\n",
       "      <td>10 Discovery Dr</td>\n",
       "      <td>4</td>\n",
       "      <td>h</td>\n",
       "      <td>585000.0</td>\n",
       "      <td>S</td>\n",
       "      <td>hockingstuart</td>\n",
       "      <td>21/10/2017</td>\n",
       "      <td>18.4</td>\n",
       "      <td>3029.0</td>\n",
       "      <td>...</td>\n",
       "      <td>448.0</td>\n",
       "      <td>0.0</td>\n",
       "      <td>2010.0</td>\n",
       "      <td>Wyndham City Council</td>\n",
       "      <td>-37.84743</td>\n",
       "      <td>144.71243</td>\n",
       "      <td>Western Metropolitan</td>\n",
       "      <td>10160.0</td>\n",
       "      <td>12.0</td>\n",
       "      <td>NonHistoric</td>\n",
       "    </tr>\n",
       "    <tr>\n",
       "      <th>25708</th>\n",
       "      <td>Bundoora</td>\n",
       "      <td>8 Oxford Dr</td>\n",
       "      <td>3</td>\n",
       "      <td>h</td>\n",
       "      <td>770000.0</td>\n",
       "      <td>S</td>\n",
       "      <td>Ray</td>\n",
       "      <td>28/10/2017</td>\n",
       "      <td>12.1</td>\n",
       "      <td>3083.0</td>\n",
       "      <td>...</td>\n",
       "      <td>551.0</td>\n",
       "      <td>0.0</td>\n",
       "      <td>1970.0</td>\n",
       "      <td>Banyule City Council</td>\n",
       "      <td>-37.69939</td>\n",
       "      <td>145.06567</td>\n",
       "      <td>Northern Metropolitan</td>\n",
       "      <td>10175.0</td>\n",
       "      <td>52.0</td>\n",
       "      <td>Historic</td>\n",
       "    </tr>\n",
       "    <tr>\n",
       "      <th>26343</th>\n",
       "      <td>Preston</td>\n",
       "      <td>148 Albert St</td>\n",
       "      <td>3</td>\n",
       "      <td>h</td>\n",
       "      <td>833000.0</td>\n",
       "      <td>S</td>\n",
       "      <td>Stockdale</td>\n",
       "      <td>28/10/2017</td>\n",
       "      <td>8.4</td>\n",
       "      <td>3072.0</td>\n",
       "      <td>...</td>\n",
       "      <td>501.0</td>\n",
       "      <td>0.0</td>\n",
       "      <td>1960.0</td>\n",
       "      <td>Darebin City Council</td>\n",
       "      <td>-37.73674</td>\n",
       "      <td>145.02418</td>\n",
       "      <td>Northern Metropolitan</td>\n",
       "      <td>14577.0</td>\n",
       "      <td>62.0</td>\n",
       "      <td>Historic</td>\n",
       "    </tr>\n",
       "    <tr>\n",
       "      <th>26633</th>\n",
       "      <td>Craigieburn</td>\n",
       "      <td>31 Yarcombe Cr</td>\n",
       "      <td>4</td>\n",
       "      <td>h</td>\n",
       "      <td>540000.0</td>\n",
       "      <td>S</td>\n",
       "      <td>Barry</td>\n",
       "      <td>4/11/2017</td>\n",
       "      <td>20.6</td>\n",
       "      <td>3064.0</td>\n",
       "      <td>...</td>\n",
       "      <td>541.0</td>\n",
       "      <td>0.0</td>\n",
       "      <td>1995.0</td>\n",
       "      <td>Hume City Council</td>\n",
       "      <td>-37.60800</td>\n",
       "      <td>144.92530</td>\n",
       "      <td>Northern Metropolitan</td>\n",
       "      <td>15510.0</td>\n",
       "      <td>27.0</td>\n",
       "      <td>NonHistoric</td>\n",
       "    </tr>\n",
       "    <tr>\n",
       "      <th>27441</th>\n",
       "      <td>Yallambie</td>\n",
       "      <td>21 Lowan Av</td>\n",
       "      <td>5</td>\n",
       "      <td>h</td>\n",
       "      <td>990000.0</td>\n",
       "      <td>S</td>\n",
       "      <td>Buckingham</td>\n",
       "      <td>11/11/2017</td>\n",
       "      <td>12.7</td>\n",
       "      <td>3085.0</td>\n",
       "      <td>...</td>\n",
       "      <td>510.0</td>\n",
       "      <td>0.0</td>\n",
       "      <td>1985.0</td>\n",
       "      <td>Banyule City Council</td>\n",
       "      <td>-37.72040</td>\n",
       "      <td>145.10880</td>\n",
       "      <td>Northern Metropolitan</td>\n",
       "      <td>1369.0</td>\n",
       "      <td>37.0</td>\n",
       "      <td>NonHistoric</td>\n",
       "    </tr>\n",
       "    <tr>\n",
       "      <th>27564</th>\n",
       "      <td>Brighton East</td>\n",
       "      <td>15 Bayview Rd</td>\n",
       "      <td>3</td>\n",
       "      <td>t</td>\n",
       "      <td>950000.0</td>\n",
       "      <td>VB</td>\n",
       "      <td>Buxton</td>\n",
       "      <td>18/11/2017</td>\n",
       "      <td>10.3</td>\n",
       "      <td>3187.0</td>\n",
       "      <td>...</td>\n",
       "      <td>217.0</td>\n",
       "      <td>0.0</td>\n",
       "      <td>2000.0</td>\n",
       "      <td>Bayside City Council</td>\n",
       "      <td>-37.90670</td>\n",
       "      <td>145.02470</td>\n",
       "      <td>Southern Metropolitan</td>\n",
       "      <td>6938.0</td>\n",
       "      <td>22.0</td>\n",
       "      <td>NonHistoric</td>\n",
       "    </tr>\n",
       "    <tr>\n",
       "      <th>27587</th>\n",
       "      <td>Brunswick West</td>\n",
       "      <td>1/1 Duggan St</td>\n",
       "      <td>2</td>\n",
       "      <td>u</td>\n",
       "      <td>420500.0</td>\n",
       "      <td>SP</td>\n",
       "      <td>Pagan</td>\n",
       "      <td>18/11/2017</td>\n",
       "      <td>5.2</td>\n",
       "      <td>3055.0</td>\n",
       "      <td>...</td>\n",
       "      <td>5497.0</td>\n",
       "      <td>0.0</td>\n",
       "      <td>2011.0</td>\n",
       "      <td>Moreland City Council</td>\n",
       "      <td>-37.75820</td>\n",
       "      <td>144.94000</td>\n",
       "      <td>Northern Metropolitan</td>\n",
       "      <td>7082.0</td>\n",
       "      <td>11.0</td>\n",
       "      <td>NonHistoric</td>\n",
       "    </tr>\n",
       "    <tr>\n",
       "      <th>27629</th>\n",
       "      <td>Carrum</td>\n",
       "      <td>18 Church Rd</td>\n",
       "      <td>4</td>\n",
       "      <td>h</td>\n",
       "      <td>980000.0</td>\n",
       "      <td>S</td>\n",
       "      <td>hockingstuart</td>\n",
       "      <td>18/11/2017</td>\n",
       "      <td>31.2</td>\n",
       "      <td>3197.0</td>\n",
       "      <td>...</td>\n",
       "      <td>987.0</td>\n",
       "      <td>0.0</td>\n",
       "      <td>1960.0</td>\n",
       "      <td>Kingston City Council</td>\n",
       "      <td>-38.07920</td>\n",
       "      <td>145.12760</td>\n",
       "      <td>South-Eastern Metropolitan</td>\n",
       "      <td>1989.0</td>\n",
       "      <td>62.0</td>\n",
       "      <td>Historic</td>\n",
       "    </tr>\n",
       "    <tr>\n",
       "      <th>27922</th>\n",
       "      <td>Lalor</td>\n",
       "      <td>2 Orchid Ct</td>\n",
       "      <td>5</td>\n",
       "      <td>h</td>\n",
       "      <td>591000.0</td>\n",
       "      <td>S</td>\n",
       "      <td>HAR</td>\n",
       "      <td>18/11/2017</td>\n",
       "      <td>16.3</td>\n",
       "      <td>3075.0</td>\n",
       "      <td>...</td>\n",
       "      <td>636.0</td>\n",
       "      <td>0.0</td>\n",
       "      <td>1980.0</td>\n",
       "      <td>Whittlesea City Council</td>\n",
       "      <td>-37.67010</td>\n",
       "      <td>145.00500</td>\n",
       "      <td>Northern Metropolitan</td>\n",
       "      <td>8279.0</td>\n",
       "      <td>42.0</td>\n",
       "      <td>NonHistoric</td>\n",
       "    </tr>\n",
       "    <tr>\n",
       "      <th>30914</th>\n",
       "      <td>Wollert</td>\n",
       "      <td>21 Dalwood Wy</td>\n",
       "      <td>4</td>\n",
       "      <td>h</td>\n",
       "      <td>609000.0</td>\n",
       "      <td>S</td>\n",
       "      <td>HAR</td>\n",
       "      <td>9/12/2017</td>\n",
       "      <td>25.5</td>\n",
       "      <td>3750.0</td>\n",
       "      <td>...</td>\n",
       "      <td>350.0</td>\n",
       "      <td>0.0</td>\n",
       "      <td>2015.0</td>\n",
       "      <td>Whittlesea City Council</td>\n",
       "      <td>-37.61031</td>\n",
       "      <td>145.04010</td>\n",
       "      <td>Northern Metropolitan</td>\n",
       "      <td>2940.0</td>\n",
       "      <td>7.0</td>\n",
       "      <td>NonHistoric</td>\n",
       "    </tr>\n",
       "    <tr>\n",
       "      <th>31464</th>\n",
       "      <td>Balwyn North</td>\n",
       "      <td>4 Beverley Ct</td>\n",
       "      <td>4</td>\n",
       "      <td>t</td>\n",
       "      <td>1190000.0</td>\n",
       "      <td>VB</td>\n",
       "      <td>Bekdon</td>\n",
       "      <td>3/03/2018</td>\n",
       "      <td>9.7</td>\n",
       "      <td>3104.0</td>\n",
       "      <td>...</td>\n",
       "      <td>260.0</td>\n",
       "      <td>0.0</td>\n",
       "      <td>2017.0</td>\n",
       "      <td>Boroondara City Council</td>\n",
       "      <td>-37.79589</td>\n",
       "      <td>145.09988</td>\n",
       "      <td>Southern Metropolitan</td>\n",
       "      <td>7809.0</td>\n",
       "      <td>5.0</td>\n",
       "      <td>NonHistoric</td>\n",
       "    </tr>\n",
       "    <tr>\n",
       "      <th>31509</th>\n",
       "      <td>Blackburn South</td>\n",
       "      <td>5 Abercromby Rd</td>\n",
       "      <td>4</td>\n",
       "      <td>h</td>\n",
       "      <td>1400000.0</td>\n",
       "      <td>VB</td>\n",
       "      <td>Jellis</td>\n",
       "      <td>3/03/2018</td>\n",
       "      <td>13.4</td>\n",
       "      <td>3130.0</td>\n",
       "      <td>...</td>\n",
       "      <td>560.0</td>\n",
       "      <td>0.0</td>\n",
       "      <td>1960.0</td>\n",
       "      <td>Whitehorse City Council</td>\n",
       "      <td>-37.83533</td>\n",
       "      <td>145.14455</td>\n",
       "      <td>Eastern Metropolitan</td>\n",
       "      <td>4387.0</td>\n",
       "      <td>62.0</td>\n",
       "      <td>Historic</td>\n",
       "    </tr>\n",
       "    <tr>\n",
       "      <th>31541</th>\n",
       "      <td>Brunswick</td>\n",
       "      <td>3 Austral Av</td>\n",
       "      <td>4</td>\n",
       "      <td>h</td>\n",
       "      <td>1500000.0</td>\n",
       "      <td>VB</td>\n",
       "      <td>Nelson</td>\n",
       "      <td>3/03/2018</td>\n",
       "      <td>5.2</td>\n",
       "      <td>3056.0</td>\n",
       "      <td>...</td>\n",
       "      <td>373.0</td>\n",
       "      <td>0.0</td>\n",
       "      <td>1940.0</td>\n",
       "      <td>Moreland City Council</td>\n",
       "      <td>-37.76289</td>\n",
       "      <td>144.95552</td>\n",
       "      <td>Northern Metropolitan</td>\n",
       "      <td>11918.0</td>\n",
       "      <td>82.0</td>\n",
       "      <td>Historic</td>\n",
       "    </tr>\n",
       "    <tr>\n",
       "      <th>31717</th>\n",
       "      <td>Epping</td>\n",
       "      <td>28 Bail St</td>\n",
       "      <td>3</td>\n",
       "      <td>h</td>\n",
       "      <td>600000.0</td>\n",
       "      <td>S</td>\n",
       "      <td>hockingstuart</td>\n",
       "      <td>3/03/2018</td>\n",
       "      <td>19.6</td>\n",
       "      <td>3076.0</td>\n",
       "      <td>...</td>\n",
       "      <td>461.0</td>\n",
       "      <td>0.0</td>\n",
       "      <td>2010.0</td>\n",
       "      <td>Whittlesea City Council</td>\n",
       "      <td>-37.62844</td>\n",
       "      <td>145.00884</td>\n",
       "      <td>Northern Metropolitan</td>\n",
       "      <td>10926.0</td>\n",
       "      <td>12.0</td>\n",
       "      <td>NonHistoric</td>\n",
       "    </tr>\n",
       "    <tr>\n",
       "      <th>32403</th>\n",
       "      <td>Roxburgh Park</td>\n",
       "      <td>23 Wrigley Cr</td>\n",
       "      <td>4</td>\n",
       "      <td>h</td>\n",
       "      <td>622000.0</td>\n",
       "      <td>S</td>\n",
       "      <td>Raine</td>\n",
       "      <td>10/03/2018</td>\n",
       "      <td>20.6</td>\n",
       "      <td>3064.0</td>\n",
       "      <td>...</td>\n",
       "      <td>530.0</td>\n",
       "      <td>0.0</td>\n",
       "      <td>1998.0</td>\n",
       "      <td>Hume City Council</td>\n",
       "      <td>-37.62352</td>\n",
       "      <td>144.93133</td>\n",
       "      <td>Northern Metropolitan</td>\n",
       "      <td>5833.0</td>\n",
       "      <td>24.0</td>\n",
       "      <td>NonHistoric</td>\n",
       "    </tr>\n",
       "    <tr>\n",
       "      <th>33397</th>\n",
       "      <td>Greenvale</td>\n",
       "      <td>26 Perugia Av</td>\n",
       "      <td>4</td>\n",
       "      <td>h</td>\n",
       "      <td>677000.0</td>\n",
       "      <td>S</td>\n",
       "      <td>Ray</td>\n",
       "      <td>17/03/2018</td>\n",
       "      <td>20.4</td>\n",
       "      <td>3059.0</td>\n",
       "      <td>...</td>\n",
       "      <td>312.0</td>\n",
       "      <td>0.0</td>\n",
       "      <td>2013.0</td>\n",
       "      <td>Hume City Council</td>\n",
       "      <td>-37.62439</td>\n",
       "      <td>144.88629</td>\n",
       "      <td>Northern Metropolitan</td>\n",
       "      <td>4864.0</td>\n",
       "      <td>9.0</td>\n",
       "      <td>NonHistoric</td>\n",
       "    </tr>\n",
       "    <tr>\n",
       "      <th>33899</th>\n",
       "      <td>Wollert</td>\n",
       "      <td>40 Whitebark St</td>\n",
       "      <td>4</td>\n",
       "      <td>h</td>\n",
       "      <td>615000.0</td>\n",
       "      <td>S</td>\n",
       "      <td>HAR</td>\n",
       "      <td>17/03/2018</td>\n",
       "      <td>25.5</td>\n",
       "      <td>3750.0</td>\n",
       "      <td>...</td>\n",
       "      <td>392.0</td>\n",
       "      <td>0.0</td>\n",
       "      <td>2015.0</td>\n",
       "      <td>Whittlesea City Council</td>\n",
       "      <td>-37.61252</td>\n",
       "      <td>145.04288</td>\n",
       "      <td>Northern Metropolitan</td>\n",
       "      <td>2940.0</td>\n",
       "      <td>7.0</td>\n",
       "      <td>NonHistoric</td>\n",
       "    </tr>\n",
       "  </tbody>\n",
       "</table>\n",
       "<p>45 rows × 22 columns</p>\n",
       "</div>"
      ],
      "text/plain": [
       "                Suburb            Address  Rooms Type      Price Method  \\\n",
       "7211   North Melbourne       19 Shands La      2    t   841000.0      S   \n",
       "19775     Balwyn North      14 Wanbrow Av      5    h  1950000.0      S   \n",
       "19840         Bundoora      22 Moreton Cr      3    h   814000.0      S   \n",
       "20223    Roxburgh Park     16 Sandover Dr      4    h   570000.0      S   \n",
       "20262        Thornbury  19/337 Station St      3    t   900000.0     VB   \n",
       "22040          Prahran      6 Aberdeen Rd      3    h  1390000.0      S   \n",
       "22507      Huntingdale     33 Beauford St      3    h  1205000.0     SA   \n",
       "22931     Balwyn North        1 Hosken St      5    h  2800000.0      S   \n",
       "22994    Brighton East      60 Cummins Rd      3    h  1650000.0     SP   \n",
       "23022         Bundoora    37 Greenwood Dr      4    h   815000.0      S   \n",
       "23085      Craigieburn       28 Powell St      3    h   412500.0      S   \n",
       "23115           Epping      26 Lowalde Dr      3    h   595000.0      S   \n",
       "23159        Glen Iris          6 Viva St      4    h  2690000.0     PI   \n",
       "23242              Kew      16 Hodgson St      5    h  3450000.0     PI   \n",
       "23250          Kilsyth   17 Birkenhead Dr      3    h   803000.0      S   \n",
       "23321        Moorabbin         7 Walsh Av      3    h  1290000.0      S   \n",
       "23378   Port Melbourne       44 Garton St      4    t  2455000.0     SP   \n",
       "23654       Cheltenham        5 Hannah St      3    h   975000.0      S   \n",
       "23690      Craigieburn     18 Pymble Gdns      4    h   590000.0      S   \n",
       "24116         Werribee        21 Sinns Av      3    h   550000.0      S   \n",
       "24196     Balwyn North      5 Highview Rd      4    h  1500000.0     VB   \n",
       "24205        Bentleigh     1 Donaldson St      3    h  1730000.0      S   \n",
       "24344          Donvale       29 Martha St      2    h  1070000.0      S   \n",
       "24602        Northcote      155 Clarke St      3    h  2750000.0     VB   \n",
       "25086        Glen Iris     60 Hortense St      4    h  2237500.0      S   \n",
       "25320        Reservoir     12 Kelverne St      3    h   650000.0     SP   \n",
       "25352    Roxburgh Park      15 Donvale Av      3    h   470000.0      S   \n",
       "25376        Spotswood     104 Hudsons Rd      2    h  1225000.0     SP   \n",
       "25412          Tarneit    10 Discovery Dr      4    h   585000.0      S   \n",
       "25708         Bundoora        8 Oxford Dr      3    h   770000.0      S   \n",
       "26343          Preston      148 Albert St      3    h   833000.0      S   \n",
       "26633      Craigieburn     31 Yarcombe Cr      4    h   540000.0      S   \n",
       "27441        Yallambie        21 Lowan Av      5    h   990000.0      S   \n",
       "27564    Brighton East      15 Bayview Rd      3    t   950000.0     VB   \n",
       "27587   Brunswick West      1/1 Duggan St      2    u   420500.0     SP   \n",
       "27629           Carrum       18 Church Rd      4    h   980000.0      S   \n",
       "27922            Lalor        2 Orchid Ct      5    h   591000.0      S   \n",
       "30914          Wollert      21 Dalwood Wy      4    h   609000.0      S   \n",
       "31464     Balwyn North      4 Beverley Ct      4    t  1190000.0     VB   \n",
       "31509  Blackburn South    5 Abercromby Rd      4    h  1400000.0     VB   \n",
       "31541        Brunswick       3 Austral Av      4    h  1500000.0     VB   \n",
       "31717           Epping         28 Bail St      3    h   600000.0      S   \n",
       "32403    Roxburgh Park      23 Wrigley Cr      4    h   622000.0      S   \n",
       "33397        Greenvale      26 Perugia Av      4    h   677000.0      S   \n",
       "33899          Wollert    40 Whitebark St      4    h   615000.0      S   \n",
       "\n",
       "             SellerG        Date  Distance Postcode  ...  Landsize  \\\n",
       "7211          Jellis   4/03/2017       2.3   3051.0  ...     215.0   \n",
       "19775             RT   3/09/2017       9.7   3104.0  ...     743.0   \n",
       "19840          Barry   3/09/2017      12.1   3083.0  ...     542.0   \n",
       "20223          Raine   3/09/2017      20.6   3064.0  ...     504.0   \n",
       "20262         Jellis   3/09/2017       7.0   3071.0  ...     120.0   \n",
       "22040       Marshall  19/08/2017       4.6   3181.0  ...     125.0   \n",
       "22507             FN  23/09/2017      12.3   3166.0  ...     622.0   \n",
       "22931       Marshall  26/08/2017       9.7   3104.0  ...    1173.0   \n",
       "22994         Buxton  26/08/2017      10.3   3187.0  ...     623.0   \n",
       "23022            Ray  26/08/2017      12.1   3083.0  ...     525.0   \n",
       "23085             RE  26/08/2017      20.6   3064.0  ...     197.0   \n",
       "23115  hockingstuart  26/08/2017      19.6   3076.0  ...     536.0   \n",
       "23159       Marshall  26/08/2017       7.3   3146.0  ...     647.0   \n",
       "23242            Kay  26/08/2017       5.4   3101.0  ...     668.0   \n",
       "23250            Max  26/08/2017      26.0   3137.0  ...     862.0   \n",
       "23321            Ray  26/08/2017      14.3   3189.0  ...     580.0   \n",
       "23378       Marshall  26/08/2017       3.5   3207.0  ...     123.0   \n",
       "23654        O'Brien   7/10/2017      17.9   3192.0  ...     651.0   \n",
       "23690             LJ   7/10/2017      20.6   3064.0  ...     448.0   \n",
       "24116            Ray   7/10/2017      14.7   3030.0  ...     580.0   \n",
       "24196      Fletchers  14/10/2017       9.7   3104.0  ...     620.0   \n",
       "24205         Jellis  14/10/2017      11.4   3204.0  ...     569.0   \n",
       "24344  hockingstuart  14/10/2017      16.1   3111.0  ...     758.0   \n",
       "24602       Woodards  14/10/2017       5.3   3070.0  ...     634.0   \n",
       "25086       Marshall  21/10/2017       7.3   3146.0  ...     650.0   \n",
       "25320          Barry  21/10/2017      12.0   3073.0  ...     491.0   \n",
       "25352          Raine  21/10/2017      20.6   3064.0  ...     328.0   \n",
       "25376           Greg  21/10/2017       6.2   3015.0  ...     361.0   \n",
       "25412  hockingstuart  21/10/2017      18.4   3029.0  ...     448.0   \n",
       "25708            Ray  28/10/2017      12.1   3083.0  ...     551.0   \n",
       "26343      Stockdale  28/10/2017       8.4   3072.0  ...     501.0   \n",
       "26633          Barry   4/11/2017      20.6   3064.0  ...     541.0   \n",
       "27441     Buckingham  11/11/2017      12.7   3085.0  ...     510.0   \n",
       "27564         Buxton  18/11/2017      10.3   3187.0  ...     217.0   \n",
       "27587          Pagan  18/11/2017       5.2   3055.0  ...    5497.0   \n",
       "27629  hockingstuart  18/11/2017      31.2   3197.0  ...     987.0   \n",
       "27922            HAR  18/11/2017      16.3   3075.0  ...     636.0   \n",
       "30914            HAR   9/12/2017      25.5   3750.0  ...     350.0   \n",
       "31464         Bekdon   3/03/2018       9.7   3104.0  ...     260.0   \n",
       "31509         Jellis   3/03/2018      13.4   3130.0  ...     560.0   \n",
       "31541         Nelson   3/03/2018       5.2   3056.0  ...     373.0   \n",
       "31717  hockingstuart   3/03/2018      19.6   3076.0  ...     461.0   \n",
       "32403          Raine  10/03/2018      20.6   3064.0  ...     530.0   \n",
       "33397            Ray  17/03/2018      20.4   3059.0  ...     312.0   \n",
       "33899            HAR  17/03/2018      25.5   3750.0  ...     392.0   \n",
       "\n",
       "       BuildingArea  YearBuilt               CouncilArea  Lattitude  \\\n",
       "7211            0.0     2000.0    Melbourne City Council  -37.79530   \n",
       "19775           0.0     1949.0   Boroondara City Council  -37.80235   \n",
       "19840           0.0     1970.0      Banyule City Council  -37.70861   \n",
       "20223           0.0     2000.0         Hume City Council  -37.61419   \n",
       "20262           0.0     2000.0      Darebin City Council  -37.76343   \n",
       "22040           0.0     2002.0  Stonnington City Council  -37.85257   \n",
       "22507           0.0     1960.0       Monash City Council  -37.90823   \n",
       "22931           0.0     1960.0   Boroondara City Council  -37.80385   \n",
       "22994           0.0     1920.0      Bayside City Council  -37.92698   \n",
       "23022           0.0     1965.0      Banyule City Council  -37.70765   \n",
       "23085           0.0     2012.0         Hume City Council  -37.57687   \n",
       "23115           0.0     1980.0   Whittlesea City Council  -37.64972   \n",
       "23159           0.0     1910.0   Boroondara City Council  -37.86133   \n",
       "23242           0.0     2006.0   Boroondara City Council  -37.80795   \n",
       "23250           0.0     1970.0    Maroondah City Council  -37.79902   \n",
       "23321           0.0     1970.0     Kingston City Council  -37.94492   \n",
       "23378           0.0     2010.0    Melbourne City Council  -37.83349   \n",
       "23654           0.0     1970.0      Bayside City Council  -37.95683   \n",
       "23690           0.0     2009.0         Hume City Council  -37.60902   \n",
       "24116           0.0     1980.0      Wyndham City Council  -37.90136   \n",
       "24196           0.0     1965.0   Boroondara City Council  -37.78396   \n",
       "24205           0.0     1940.0    Glen Eira City Council  -37.91456   \n",
       "24344           0.0     1980.0   Manningham City Council  -37.79883   \n",
       "24602           0.0     1886.0      Darebin City Council  -37.77625   \n",
       "25086           0.0     1985.0   Boroondara City Council  -37.85776   \n",
       "25320           0.0     1950.0      Darebin City Council  -37.71445   \n",
       "25352           0.0     2004.0         Hume City Council  -37.61388   \n",
       "25376           0.0     1910.0  Hobsons Bay City Council  -37.82940   \n",
       "25412           0.0     2010.0      Wyndham City Council  -37.84743   \n",
       "25708           0.0     1970.0      Banyule City Council  -37.69939   \n",
       "26343           0.0     1960.0      Darebin City Council  -37.73674   \n",
       "26633           0.0     1995.0         Hume City Council  -37.60800   \n",
       "27441           0.0     1985.0      Banyule City Council  -37.72040   \n",
       "27564           0.0     2000.0      Bayside City Council  -37.90670   \n",
       "27587           0.0     2011.0     Moreland City Council  -37.75820   \n",
       "27629           0.0     1960.0     Kingston City Council  -38.07920   \n",
       "27922           0.0     1980.0   Whittlesea City Council  -37.67010   \n",
       "30914           0.0     2015.0   Whittlesea City Council  -37.61031   \n",
       "31464           0.0     2017.0   Boroondara City Council  -37.79589   \n",
       "31509           0.0     1960.0   Whitehorse City Council  -37.83533   \n",
       "31541           0.0     1940.0     Moreland City Council  -37.76289   \n",
       "31717           0.0     2010.0   Whittlesea City Council  -37.62844   \n",
       "32403           0.0     1998.0         Hume City Council  -37.62352   \n",
       "33397           0.0     2013.0         Hume City Council  -37.62439   \n",
       "33899           0.0     2015.0   Whittlesea City Council  -37.61252   \n",
       "\n",
       "      Longtitude                  Regionname  Propertycount    Age  \\\n",
       "7211   144.94370       Northern Metropolitan         6821.0   22.0   \n",
       "19775  145.09311       Southern Metropolitan         7809.0   73.0   \n",
       "19840  145.05691       Northern Metropolitan        10175.0   52.0   \n",
       "20223  144.93448       Northern Metropolitan         5833.0   22.0   \n",
       "20262  145.02096       Northern Metropolitan         8870.0   22.0   \n",
       "22040  145.00296       Southern Metropolitan         7717.0   20.0   \n",
       "22507  145.10851       Southern Metropolitan          768.0   62.0   \n",
       "22931  145.09094       Southern Metropolitan         7809.0   62.0   \n",
       "22994  145.02673       Southern Metropolitan         6938.0  102.0   \n",
       "23022  145.05556       Northern Metropolitan        10175.0   57.0   \n",
       "23085  144.91100       Northern Metropolitan        15510.0   10.0   \n",
       "23115  145.04086       Northern Metropolitan        10926.0   42.0   \n",
       "23159  145.04167       Southern Metropolitan        10412.0  112.0   \n",
       "23242  145.01474       Southern Metropolitan        10331.0   16.0   \n",
       "23250  145.32092        Eastern Metropolitan         4654.0   52.0   \n",
       "23321  145.04938       Southern Metropolitan         2555.0   52.0   \n",
       "23378  144.94840       Southern Metropolitan         8648.0   12.0   \n",
       "23654  145.07184       Southern Metropolitan         9758.0   52.0   \n",
       "23690  144.91279       Northern Metropolitan        15510.0   13.0   \n",
       "24116  144.66925        Western Metropolitan        16166.0   42.0   \n",
       "24196  145.07942       Southern Metropolitan         7809.0   57.0   \n",
       "24205  145.04109       Southern Metropolitan         6795.0   82.0   \n",
       "24344  145.17337        Eastern Metropolitan         4790.0   42.0   \n",
       "24602  144.99572       Northern Metropolitan        11364.0  136.0   \n",
       "25086  145.07998       Southern Metropolitan        10412.0   37.0   \n",
       "25320  144.98225       Northern Metropolitan        21650.0   72.0   \n",
       "25352  144.92270       Northern Metropolitan         5833.0   18.0   \n",
       "25376  144.88410        Western Metropolitan         1223.0  112.0   \n",
       "25412  144.71243        Western Metropolitan        10160.0   12.0   \n",
       "25708  145.06567       Northern Metropolitan        10175.0   52.0   \n",
       "26343  145.02418       Northern Metropolitan        14577.0   62.0   \n",
       "26633  144.92530       Northern Metropolitan        15510.0   27.0   \n",
       "27441  145.10880       Northern Metropolitan         1369.0   37.0   \n",
       "27564  145.02470       Southern Metropolitan         6938.0   22.0   \n",
       "27587  144.94000       Northern Metropolitan         7082.0   11.0   \n",
       "27629  145.12760  South-Eastern Metropolitan         1989.0   62.0   \n",
       "27922  145.00500       Northern Metropolitan         8279.0   42.0   \n",
       "30914  145.04010       Northern Metropolitan         2940.0    7.0   \n",
       "31464  145.09988       Southern Metropolitan         7809.0    5.0   \n",
       "31509  145.14455        Eastern Metropolitan         4387.0   62.0   \n",
       "31541  144.95552       Northern Metropolitan        11918.0   82.0   \n",
       "31717  145.00884       Northern Metropolitan        10926.0   12.0   \n",
       "32403  144.93133       Northern Metropolitan         5833.0   24.0   \n",
       "33397  144.88629       Northern Metropolitan         4864.0    9.0   \n",
       "33899  145.04288       Northern Metropolitan         2940.0    7.0   \n",
       "\n",
       "          Historic  \n",
       "7211   NonHistoric  \n",
       "19775     Historic  \n",
       "19840     Historic  \n",
       "20223  NonHistoric  \n",
       "20262  NonHistoric  \n",
       "22040  NonHistoric  \n",
       "22507     Historic  \n",
       "22931     Historic  \n",
       "22994     Historic  \n",
       "23022     Historic  \n",
       "23085  NonHistoric  \n",
       "23115  NonHistoric  \n",
       "23159     Historic  \n",
       "23242  NonHistoric  \n",
       "23250     Historic  \n",
       "23321     Historic  \n",
       "23378  NonHistoric  \n",
       "23654     Historic  \n",
       "23690  NonHistoric  \n",
       "24116  NonHistoric  \n",
       "24196     Historic  \n",
       "24205     Historic  \n",
       "24344  NonHistoric  \n",
       "24602     Historic  \n",
       "25086  NonHistoric  \n",
       "25320     Historic  \n",
       "25352  NonHistoric  \n",
       "25376     Historic  \n",
       "25412  NonHistoric  \n",
       "25708     Historic  \n",
       "26343     Historic  \n",
       "26633  NonHistoric  \n",
       "27441  NonHistoric  \n",
       "27564  NonHistoric  \n",
       "27587  NonHistoric  \n",
       "27629     Historic  \n",
       "27922  NonHistoric  \n",
       "30914  NonHistoric  \n",
       "31464  NonHistoric  \n",
       "31509     Historic  \n",
       "31541     Historic  \n",
       "31717  NonHistoric  \n",
       "32403  NonHistoric  \n",
       "33397  NonHistoric  \n",
       "33899  NonHistoric  \n",
       "\n",
       "[45 rows x 22 columns]"
      ]
     },
     "execution_count": 19,
     "metadata": {},
     "output_type": "execute_result"
    }
   ],
   "source": [
    "melbourne_df[melbourne_df['BuildingArea']==0]"
   ]
  },
  {
   "cell_type": "code",
   "execution_count": 20,
   "metadata": {},
   "outputs": [],
   "source": [
    "#Looks like there are 45 listings that have observations with 0.0 buildingArea. \n",
    "#Those will be eliminated because a dwelling cannot have a size of zero.\n",
    "melbourne_df= melbourne_df[melbourne_df['BuildingArea']!=0]"
   ]
  },
  {
   "cell_type": "code",
   "execution_count": 21,
   "metadata": {},
   "outputs": [
    {
     "data": {
      "text/plain": [
       "Suburb           0\n",
       "Address          0\n",
       "Rooms            0\n",
       "Type             0\n",
       "Price            0\n",
       "Method           0\n",
       "SellerG          0\n",
       "Date             0\n",
       "Distance         0\n",
       "Postcode         0\n",
       "Bathroom         0\n",
       "Car              0\n",
       "Landsize         0\n",
       "BuildingArea     0\n",
       "YearBuilt        0\n",
       "CouncilArea      0\n",
       "Lattitude        0\n",
       "Longtitude       0\n",
       "Regionname       0\n",
       "Propertycount    0\n",
       "Age              0\n",
       "Historic         0\n",
       "dtype: int64"
      ]
     },
     "execution_count": 21,
     "metadata": {},
     "output_type": "execute_result"
    }
   ],
   "source": [
    "melbourne_df.isnull().sum()"
   ]
  },
  {
   "cell_type": "markdown",
   "metadata": {},
   "source": [
    "EXPLORATORY ANALYSIS"
   ]
  },
  {
   "cell_type": "code",
   "execution_count": 22,
   "metadata": {},
   "outputs": [
    {
     "data": {
      "text/plain": [
       "Index(['Suburb', 'Address', 'Type', 'Method', 'SellerG', 'Date', 'Postcode',\n",
       "       'CouncilArea', 'Regionname', 'Historic'],\n",
       "      dtype='object')"
      ]
     },
     "execution_count": 22,
     "metadata": {},
     "output_type": "execute_result"
    }
   ],
   "source": [
    "#Let's now examine the connections between the categorical features and the target variable (Price) [AKA: Bivariate Analysis]\n",
    "melbourne_df.select_dtypes(['category']).columns #Checking out some categorical variables\n",
    "#Bivariate statistics compares two variables"
   ]
  },
  {
   "cell_type": "code",
   "execution_count": 23,
   "metadata": {},
   "outputs": [
    {
     "name": "stdout",
     "output_type": "stream",
     "text": [
      "<class 'pandas.core.frame.DataFrame'>\n",
      "Int64Index: 8841 entries, 2 to 34856\n",
      "Data columns (total 22 columns):\n",
      " #   Column         Non-Null Count  Dtype   \n",
      "---  ------         --------------  -----   \n",
      " 0   Suburb         8841 non-null   category\n",
      " 1   Address        8841 non-null   category\n",
      " 2   Rooms          8841 non-null   int64   \n",
      " 3   Type           8841 non-null   category\n",
      " 4   Price          8841 non-null   float64 \n",
      " 5   Method         8841 non-null   category\n",
      " 6   SellerG        8841 non-null   category\n",
      " 7   Date           8841 non-null   category\n",
      " 8   Distance       8841 non-null   float64 \n",
      " 9   Postcode       8841 non-null   category\n",
      " 10  Bathroom       8841 non-null   float64 \n",
      " 11  Car            8841 non-null   float64 \n",
      " 12  Landsize       8841 non-null   float64 \n",
      " 13  BuildingArea   8841 non-null   float64 \n",
      " 14  YearBuilt      8841 non-null   float64 \n",
      " 15  CouncilArea    8841 non-null   category\n",
      " 16  Lattitude      8841 non-null   float64 \n",
      " 17  Longtitude     8841 non-null   float64 \n",
      " 18  Regionname     8841 non-null   category\n",
      " 19  Propertycount  8841 non-null   float64 \n",
      " 20  Age            8841 non-null   float64 \n",
      " 21  Historic       8841 non-null   category\n",
      "dtypes: category(10), float64(11), int64(1)\n",
      "memory usage: 2.3 MB\n"
     ]
    }
   ],
   "source": [
    "melbourne_df.info()"
   ]
  },
  {
   "cell_type": "code",
   "execution_count": 24,
   "metadata": {},
   "outputs": [
    {
     "data": {
      "image/png": "[encoded data removed]",
      "text/plain": [
       "<Figure size 432x288 with 9 Axes>"
      ]
     },
     "metadata": {
      "needs_background": "light"
     },
     "output_type": "display_data"
    }
   ],
   "source": [
    "#Review continous variables (Univariate)\n",
    "melbourne_df[['Price', 'Rooms', 'Distance', 'Bathroom', 'Car', 'Landsize', 'BuildingArea', 'YearBuilt', 'Propertycount']].hist()\n",
    "plt.tight_layout()"
   ]
  },
  {
   "cell_type": "code",
   "execution_count": 25,
   "metadata": {},
   "outputs": [
    {
     "data": {
      "text/plain": [
       "<AxesSubplot:xlabel='Type', ylabel='Price'>"
      ]
     },
     "execution_count": 25,
     "metadata": {},
     "output_type": "execute_result"
    },
    {
     "data": {
      "image/png": "[encoded data removed]",
      "text/plain": [
       "<Figure size 432x288 with 1 Axes>"
      ]
     },
     "metadata": {
      "needs_background": "light"
     },
     "output_type": "display_data"
    }
   ],
   "source": [
    "#Categorical features vs price\n",
    "\n",
    "sns.boxplot(data = melbourne_df, x = 'Type', y = 'Price')"
   ]
  },
  {
   "cell_type": "code",
   "execution_count": 26,
   "metadata": {},
   "outputs": [
    {
     "data": {
      "text/plain": [
       "<AxesSubplot:xlabel='Historic', ylabel='Price'>"
      ]
     },
     "execution_count": 26,
     "metadata": {},
     "output_type": "execute_result"
    },
    {
     "data": {
      "image/png": "[encoded data removed]",
      "text/plain": [
       "<Figure size 432x288 with 1 Axes>"
      ]
     },
     "metadata": {
      "needs_background": "light"
     },
     "output_type": "display_data"
    }
   ],
   "source": [
    "sns.boxplot(data = melbourne_df, x = 'Historic', y = 'Price')"
   ]
  },
  {
   "cell_type": "code",
   "execution_count": 27,
   "metadata": {},
   "outputs": [],
   "source": [
    "melbourne_df['Regionname'] = melbourne_df['Regionname'].map({'Northern Metropolitan':'NM',\n",
    "                                            'Western Metropolitan':'WM', \n",
    "                                            'Southern Metropolitan':'SM', \n",
    "                                            'Eastern Metropolitan':'EM', \n",
    "                                            'South-Eastern Metropolitan':'SEM', \n",
    "                                            'Northern Victoria':'NV',\n",
    "                                            'Eastern Victoria':'EV',\n",
    "                                            'Western Victoria':'WV'})"
   ]
  },
  {
   "cell_type": "code",
   "execution_count": 28,
   "metadata": {},
   "outputs": [
    {
     "data": {
      "text/plain": [
       "<AxesSubplot:xlabel='Regionname', ylabel='Price'>"
      ]
     },
     "execution_count": 28,
     "metadata": {},
     "output_type": "execute_result"
    },
    {
     "data": {
      "image/png": "[encoded data removed]",
      "text/plain": [
       "<Figure size 432x288 with 1 Axes>"
      ]
     },
     "metadata": {
      "needs_background": "light"
     },
     "output_type": "display_data"
    }
   ],
   "source": [
    "sns.boxplot(data = melbourne_df, x = 'Regionname', y = 'Price')"
   ]
  },
  {
   "cell_type": "markdown",
   "metadata": {},
   "source": [
    "Some insights: \n",
    "\n",
    "* The Southern Metro area has the highest median home price in the Metropolitan Region ($1.3M), which is greater than the Victoria Region's median prices.\n",
    "\n",
    "* Older than 50-year-old historic properties are worth significantly more than nearby newer residences, yet prices might vary widely.\n",
    "\n"
   ]
  },
  {
   "cell_type": "code",
   "execution_count": 29,
   "metadata": {},
   "outputs": [
    {
     "data": {
      "text/plain": [
       "<AxesSubplot:xlabel='Method', ylabel='Price'>"
      ]
     },
     "execution_count": 29,
     "metadata": {},
     "output_type": "execute_result"
    },
    {
     "data": {
      "image/png": "[encoded data removed]",
      "text/plain": [
       "<Figure size 432x288 with 1 Axes>"
      ]
     },
     "metadata": {
      "needs_background": "light"
     },
     "output_type": "display_data"
    }
   ],
   "source": [
    "sns.boxplot(data = melbourne_df, x = 'Method', y = 'Price')"
   ]
  },
  {
   "cell_type": "code",
   "execution_count": 30,
   "metadata": {},
   "outputs": [
    {
     "data": {
      "text/plain": [
       "Index(['Rooms', 'Price', 'Distance', 'Bathroom', 'Car', 'Landsize',\n",
       "       'BuildingArea', 'YearBuilt', 'Lattitude', 'Longtitude', 'Propertycount',\n",
       "       'Age'],\n",
       "      dtype='object')"
      ]
     },
     "execution_count": 30,
     "metadata": {},
     "output_type": "execute_result"
    }
   ],
   "source": [
    "#Numeric Features:\n",
    "melbourne_df.select_dtypes(['float64','int64']).columns"
   ]
  },
  {
   "cell_type": "code",
   "execution_count": 31,
   "metadata": {},
   "outputs": [
    {
     "data": {
      "text/plain": [
       "<AxesSubplot:xlabel='Rooms', ylabel='Price'>"
      ]
     },
     "execution_count": 31,
     "metadata": {},
     "output_type": "execute_result"
    },
    {
     "data": {
      "image/png": "[encoded data removed]",
      "text/plain": [
       "<Figure size 432x288 with 1 Axes>"
      ]
     },
     "metadata": {
      "needs_background": "light"
     },
     "output_type": "display_data"
    }
   ],
   "source": [
    "melbourne_df.plot.scatter(x='Rooms', y='Price')"
   ]
  },
  {
   "cell_type": "code",
   "execution_count": 32,
   "metadata": {},
   "outputs": [
    {
     "data": {
      "text/plain": [
       "<AxesSubplot:xlabel='Distance', ylabel='Price'>"
      ]
     },
     "execution_count": 32,
     "metadata": {},
     "output_type": "execute_result"
    },
    {
     "data": {
      "image/png": "[encoded data removed]",
      "text/plain": [
       "<Figure size 432x288 with 1 Axes>"
      ]
     },
     "metadata": {
      "needs_background": "light"
     },
     "output_type": "display_data"
    }
   ],
   "source": [
    "melbourne_df.plot.scatter(x='Distance', y='Price')"
   ]
  },
  {
   "cell_type": "code",
   "execution_count": 33,
   "metadata": {},
   "outputs": [
    {
     "data": {
      "text/plain": [
       "<AxesSubplot:xlabel='Bathroom', ylabel='Price'>"
      ]
     },
     "execution_count": 33,
     "metadata": {},
     "output_type": "execute_result"
    },
    {
     "data": {
      "image/png": "[encoded data removed]",
      "text/plain": [
       "<Figure size 432x288 with 1 Axes>"
      ]
     },
     "metadata": {
      "needs_background": "light"
     },
     "output_type": "display_data"
    }
   ],
   "source": [
    "melbourne_df.plot.scatter(x='Bathroom', y='Price')"
   ]
  },
  {
   "cell_type": "code",
   "execution_count": 34,
   "metadata": {},
   "outputs": [
    {
     "data": {
      "text/plain": [
       "<AxesSubplot:xlabel='Car', ylabel='Price'>"
      ]
     },
     "execution_count": 34,
     "metadata": {},
     "output_type": "execute_result"
    },
    {
     "data": {
      "image/png": "[encoded data removed]",
      "text/plain": [
       "<Figure size 432x288 with 1 Axes>"
      ]
     },
     "metadata": {
      "needs_background": "light"
     },
     "output_type": "display_data"
    }
   ],
   "source": [
    "melbourne_df.plot.scatter(x='Car', y='Price')"
   ]
  },
  {
   "cell_type": "code",
   "execution_count": 35,
   "metadata": {},
   "outputs": [
    {
     "data": {
      "text/plain": [
       "<AxesSubplot:xlabel='Landsize', ylabel='Price'>"
      ]
     },
     "execution_count": 35,
     "metadata": {},
     "output_type": "execute_result"
    },
    {
     "data": {
      "image/png": "[encoded data removed]",
      "text/plain": [
       "<Figure size 432x288 with 1 Axes>"
      ]
     },
     "metadata": {
      "needs_background": "light"
     },
     "output_type": "display_data"
    }
   ],
   "source": [
    "melbourne_df.plot.scatter(x='Landsize', y='Price')"
   ]
  },
  {
   "cell_type": "code",
   "execution_count": 36,
   "metadata": {},
   "outputs": [
    {
     "data": {
      "text/plain": [
       "<AxesSubplot:xlabel='BuildingArea', ylabel='Price'>"
      ]
     },
     "execution_count": 36,
     "metadata": {},
     "output_type": "execute_result"
    },
    {
     "data": {
      "image/png": "[encoded data removed]",
      "text/plain": [
       "<Figure size 432x288 with 1 Axes>"
      ]
     },
     "metadata": {
      "needs_background": "light"
     },
     "output_type": "display_data"
    }
   ],
   "source": [
    "melbourne_df.plot.scatter(x='BuildingArea', y='Price')"
   ]
  },
  {
   "cell_type": "code",
   "execution_count": 37,
   "metadata": {},
   "outputs": [
    {
     "data": {
      "text/plain": [
       "<AxesSubplot:xlabel='Age', ylabel='Price'>"
      ]
     },
     "execution_count": 37,
     "metadata": {},
     "output_type": "execute_result"
    },
    {
     "data": {
      "image/png": "[encoded data removed]",
      "text/plain": [
       "<Figure size 432x288 with 1 Axes>"
      ]
     },
     "metadata": {
      "needs_background": "light"
     },
     "output_type": "display_data"
    }
   ],
   "source": [
    "melbourne_df.plot.scatter(x='Age', y='Price')"
   ]
  },
  {
   "cell_type": "code",
   "execution_count": 38,
   "metadata": {},
   "outputs": [
    {
     "data": {
      "text/plain": [
       "<AxesSubplot:xlabel='Propertycount', ylabel='Price'>"
      ]
     },
     "execution_count": 38,
     "metadata": {},
     "output_type": "execute_result"
    },
    {
     "data": {
      "image/png": "[encoded data removed]",
      "text/plain": [
       "<Figure size 432x288 with 1 Axes>"
      ]
     },
     "metadata": {
      "needs_background": "light"
     },
     "output_type": "display_data"
    }
   ],
   "source": [
    "melbourne_df.plot.scatter(x='Propertycount', y='Price')"
   ]
  },
  {
   "cell_type": "code",
   "execution_count": 39,
   "metadata": {
    "colab": {
     "base_uri": "https://localhost:8080/"
    },
    "id": "7ugrkngMKZe4",
    "outputId": "95698d60-670a-4ce0-eb17-14d517573875"
   },
   "outputs": [
    {
     "name": "stdout",
     "output_type": "stream",
     "text": [
      "Min price is 131000.0\n",
      "Max price is 9000000.0\n",
      "Housing unit price range is 8869000.0\n"
     ]
    }
   ],
   "source": [
    "# Min/max and range of prices\n",
    "print(\"Min price is\", melbourne_df.Price.min())\n",
    "print(\"Max price is\", melbourne_df.Price.max())\n",
    "print(\"Housing unit price range is\", melbourne_df.Price.max() - melbourne_df.Price.min())"
   ]
  },
  {
   "cell_type": "code",
   "execution_count": 40,
   "metadata": {},
   "outputs": [
    {
     "data": {
      "text/plain": [
       "Text(0.5, 1.0, 'Correlation within variables')"
      ]
     },
     "execution_count": 40,
     "metadata": {},
     "output_type": "execute_result"
    },
    {
     "data": {
      "image/png": "[encoded data removed]",
      "text/plain": [
       "<Figure size 432x288 with 2 Axes>"
      ]
     },
     "metadata": {
      "needs_background": "light"
     },
     "output_type": "display_data"
    }
   ],
   "source": [
    "#Correlation\n",
    "sns.heatmap(melbourne_df.corr())\n",
    "plt.title('Correlation within variables')"
   ]
  },
  {
   "cell_type": "markdown",
   "metadata": {},
   "source": [
    "After observing the chart above, it seems like rooms, bathrooms and building area are moderately positively correlated with price. "
   ]
  },
  {
   "cell_type": "markdown",
   "metadata": {},
   "source": [
    "LINEAR REGRESSION"
   ]
  },
  {
   "cell_type": "code",
   "execution_count": 41,
   "metadata": {},
   "outputs": [
    {
     "data": {
      "text/plain": [
       "Index(['Rooms', 'Price', 'Distance', 'Bathroom', 'Car', 'Landsize',\n",
       "       'BuildingArea', 'YearBuilt', 'Lattitude', 'Longtitude', 'Propertycount',\n",
       "       'Age'],\n",
       "      dtype='object')"
      ]
     },
     "execution_count": 41,
     "metadata": {},
     "output_type": "execute_result"
    }
   ],
   "source": [
    "melbourne_df.select_dtypes(['float64','int64']).columns\n",
    "#Numeric features that needs to be in the regression analysis: 'Rooms', 'Distance', 'Bathroom', 'Car', 'Landsize', 'BuildingArea', 'Propertycount','Age', 'Price'"
   ]
  },
  {
   "cell_type": "code",
   "execution_count": 42,
   "metadata": {},
   "outputs": [
    {
     "name": "stdout",
     "output_type": "stream",
     "text": [
      "['NM', 'WM', 'SM', 'EM', 'SEM', 'NV', 'EV', 'WV']\n",
      "Categories (8, object): ['EM', 'EV', 'NM', 'NV', 'SEM', 'SM', 'WM', 'WV']\n"
     ]
    }
   ],
   "source": [
    "print(melbourne_df['Regionname'].unique())"
   ]
  },
  {
   "cell_type": "code",
   "execution_count": 43,
   "metadata": {},
   "outputs": [
    {
     "name": "stdout",
     "output_type": "stream",
     "text": [
      "['Historic', 'NonHistoric']\n",
      "Categories (2, object): ['Historic', 'NonHistoric']\n"
     ]
    }
   ],
   "source": [
    "print(melbourne_df['Historic'].unique())"
   ]
  },
  {
   "cell_type": "markdown",
   "metadata": {},
   "source": [
    "Encoding categorical Variables into numeric values. Categorical variables that are in question is 'Regionname', 'Historic'\n",
    "\n",
    "* 'Regionname' - 8 unique/different levels exist within the variable 'Regionname'. Since there are more than two levels within the columns, one hot encoding will be performed. One hot encoding will practically convert categorical variables into an integer - (nominal variables: 0/1). Thus we can finally use these newfound variables in the machine learning algorithm. The disadvantage is that it drastically increases the number of columns which negatively affects the model's accuracy in the long run. However, only one categorical variable is being converted through one hot encoding. \n",
    "\n",
    "    * 'Northern Metropolitan':'NM'\n",
    "\n",
    "    * 'Western Metropolitan':'WM'\n",
    "\n",
    "    * 'Southern Metropolitan':'SM' \n",
    "\n",
    "    * 'Eastern Metropolitan':'EM' \n",
    "\n",
    "    * 'South-Eastern Metropolitan':'SEM' \n",
    "\n",
    "    * 'Northern Victoria': 'NV' \n",
    "\n",
    "    * 'Eastern Victoria': 'EV'\n",
    "\n",
    "    * 'Western Victoria': 'WV' \n",
    "\n",
    "\n",
    "* Historic - LabelEncoder will be used to convert the Yes/No values for the 'Historic' variable\n",
    "\n",
    "    * Historic - 0\n",
    "\n",
    "    * NonHistoric - 1\n"
   ]
  },
  {
   "cell_type": "code",
   "execution_count": 44,
   "metadata": {},
   "outputs": [],
   "source": [
    "#Label Encoding \n",
    "from sklearn.preprocessing import LabelEncoder\n",
    "historic_encoder = LabelEncoder()"
   ]
  },
  {
   "cell_type": "code",
   "execution_count": 45,
   "metadata": {},
   "outputs": [
    {
     "data": {
      "text/html": [
       "<style>#sk-container-id-1 {color: black;background-color: white;}#sk-container-id-1 pre{padding: 0;}#sk-container-id-1 div.sk-toggleable {background-color: white;}#sk-container-id-1 label.sk-toggleable__label {cursor: pointer;display: block;width: 100%;margin-bottom: 0;padding: 0.3em;box-sizing: border-box;text-align: center;}#sk-container-id-1 label.sk-toggleable__label-arrow:before {content: \"▸\";float: left;margin-right: 0.25em;color: #696969;}#sk-container-id-1 label.sk-toggleable__label-arrow:hover:before {color: black;}#sk-container-id-1 div.sk-estimator:hover label.sk-toggleable__label-arrow:before {color: black;}#sk-container-id-1 div.sk-toggleable__content {max-height: 0;max-width: 0;overflow: hidden;text-align: left;background-color: #f0f8ff;}#sk-container-id-1 div.sk-toggleable__content pre {margin: 0.2em;color: black;border-radius: 0.25em;background-color: #f0f8ff;}#sk-container-id-1 input.sk-toggleable__control:checked~div.sk-toggleable__content {max-height: 200px;max-width: 100%;overflow: auto;}#sk-container-id-1 input.sk-toggleable__control:checked~label.sk-toggleable__label-arrow:before {content: \"▾\";}#sk-container-id-1 div.sk-estimator input.sk-toggleable__control:checked~label.sk-toggleable__label {background-color: #d4ebff;}#sk-container-id-1 div.sk-label input.sk-toggleable__control:checked~label.sk-toggleable__label {background-color: #d4ebff;}#sk-container-id-1 input.sk-hidden--visually {border: 0;clip: rect(1px 1px 1px 1px);clip: rect(1px, 1px, 1px, 1px);height: 1px;margin: -1px;overflow: hidden;padding: 0;position: absolute;width: 1px;}#sk-container-id-1 div.sk-estimator {font-family: monospace;background-color: #f0f8ff;border: 1px dotted black;border-radius: 0.25em;box-sizing: border-box;margin-bottom: 0.5em;}#sk-container-id-1 div.sk-estimator:hover {background-color: #d4ebff;}#sk-container-id-1 div.sk-parallel-item::after {content: \"\";width: 100%;border-bottom: 1px solid gray;flex-grow: 1;}#sk-container-id-1 div.sk-label:hover label.sk-toggleable__label {background-color: #d4ebff;}#sk-container-id-1 div.sk-serial::before {content: \"\";position: absolute;border-left: 1px solid gray;box-sizing: border-box;top: 0;bottom: 0;left: 50%;z-index: 0;}#sk-container-id-1 div.sk-serial {display: flex;flex-direction: column;align-items: center;background-color: white;padding-right: 0.2em;padding-left: 0.2em;position: relative;}#sk-container-id-1 div.sk-item {position: relative;z-index: 1;}#sk-container-id-1 div.sk-parallel {display: flex;align-items: stretch;justify-content: center;background-color: white;position: relative;}#sk-container-id-1 div.sk-item::before, #sk-container-id-1 div.sk-parallel-item::before {content: \"\";position: absolute;border-left: 1px solid gray;box-sizing: border-box;top: 0;bottom: 0;left: 50%;z-index: -1;}#sk-container-id-1 div.sk-parallel-item {display: flex;flex-direction: column;z-index: 1;position: relative;background-color: white;}#sk-container-id-1 div.sk-parallel-item:first-child::after {align-self: flex-end;width: 50%;}#sk-container-id-1 div.sk-parallel-item:last-child::after {align-self: flex-start;width: 50%;}#sk-container-id-1 div.sk-parallel-item:only-child::after {width: 0;}#sk-container-id-1 div.sk-dashed-wrapped {border: 1px dashed gray;margin: 0 0.4em 0.5em 0.4em;box-sizing: border-box;padding-bottom: 0.4em;background-color: white;}#sk-container-id-1 div.sk-label label {font-family: monospace;font-weight: bold;display: inline-block;line-height: 1.2em;}#sk-container-id-1 div.sk-label-container {text-align: center;}#sk-container-id-1 div.sk-container {/* jupyter's `normalize.less` sets `[hidden] { display: none; }` but bootstrap.min.css set `[hidden] { display: none !important; }` so we also need the `!important` here to be able to override the default hidden behavior on the sphinx rendered scikit-learn.org. See: https://github.com/scikit-learn/scikit-learn/issues/21755 */display: inline-block !important;position: relative;}#sk-container-id-1 div.sk-text-repr-fallback {display: none;}</style><div id=\"sk-container-id-1\" class=\"sk-top-container\"><div class=\"sk-text-repr-fallback\"><pre>LabelEncoder()</pre><b>In a Jupyter environment, please rerun this cell to show the HTML representation or trust the notebook. <br />On GitHub, the HTML representation is unable to render, please try loading this page with nbviewer.org.</b></div><div class=\"sk-container\" hidden><div class=\"sk-item\"><div class=\"sk-estimator sk-toggleable\"><input class=\"sk-toggleable__control sk-hidden--visually\" id=\"sk-estimator-id-1\" type=\"checkbox\" checked><label for=\"sk-estimator-id-1\" class=\"sk-toggleable__label sk-toggleable__label-arrow\">LabelEncoder</label><div class=\"sk-toggleable__content\"><pre>LabelEncoder()</pre></div></div></div></div></div>"
      ],
      "text/plain": [
       "LabelEncoder()"
      ]
     },
     "execution_count": 45,
     "metadata": {},
     "output_type": "execute_result"
    }
   ],
   "source": [
    "#Fitting the object into data\n",
    "historic_encoder.fit(melbourne_df['Historic'])"
   ]
  },
  {
   "cell_type": "code",
   "execution_count": 46,
   "metadata": {},
   "outputs": [],
   "source": [
    "historic_values = historic_encoder.transform(melbourne_df['Historic'])"
   ]
  },
  {
   "cell_type": "code",
   "execution_count": 47,
   "metadata": {},
   "outputs": [],
   "source": [
    "melbourne_df['EncodedHistoric'] = historic_values"
   ]
  },
  {
   "cell_type": "code",
   "execution_count": 48,
   "metadata": {},
   "outputs": [],
   "source": [
    "melbourne_df =  melbourne_df.drop(columns=['Historic'])"
   ]
  },
  {
   "cell_type": "code",
   "execution_count": 49,
   "metadata": {},
   "outputs": [],
   "source": [
    "#OneHotEncoding \n",
    "from sklearn.preprocessing import OneHotEncoder"
   ]
  },
  {
   "cell_type": "code",
   "execution_count": 50,
   "metadata": {},
   "outputs": [
    {
     "data": {
      "text/plain": [
       "SM     2692\n",
       "NM     2589\n",
       "WM     2056\n",
       "EM      978\n",
       "SEM     370\n",
       "NV       62\n",
       "EV       51\n",
       "WV       43\n",
       "Name: Regionname, dtype: int64"
      ]
     },
     "execution_count": 50,
     "metadata": {},
     "output_type": "execute_result"
    }
   ],
   "source": [
    "melbourne_df.Regionname.value_counts()\n",
    "#Seen below are the number of listings in each of the different regions. It Looks like 2692 listings are in the South Metropolitan area"
   ]
  },
  {
   "cell_type": "code",
   "execution_count": 51,
   "metadata": {},
   "outputs": [
    {
     "data": {
      "text/html": [
       "<div>\n",
       "<style scoped>\n",
       "    .dataframe tbody tr th:only-of-type {\n",
       "        vertical-align: middle;\n",
       "    }\n",
       "\n",
       "    .dataframe tbody tr th {\n",
       "        vertical-align: top;\n",
       "    }\n",
       "\n",
       "    .dataframe thead th {\n",
       "        text-align: right;\n",
       "    }\n",
       "</style>\n",
       "<table border=\"1\" class=\"dataframe\">\n",
       "  <thead>\n",
       "    <tr style=\"text-align: right;\">\n",
       "      <th></th>\n",
       "      <th>Suburb</th>\n",
       "      <th>Address</th>\n",
       "      <th>Rooms</th>\n",
       "      <th>Type</th>\n",
       "      <th>Price</th>\n",
       "      <th>Method</th>\n",
       "      <th>SellerG</th>\n",
       "      <th>Date</th>\n",
       "      <th>Distance</th>\n",
       "      <th>Postcode</th>\n",
       "      <th>...</th>\n",
       "      <th>Landsize</th>\n",
       "      <th>BuildingArea</th>\n",
       "      <th>YearBuilt</th>\n",
       "      <th>CouncilArea</th>\n",
       "      <th>Lattitude</th>\n",
       "      <th>Longtitude</th>\n",
       "      <th>Regionname</th>\n",
       "      <th>Propertycount</th>\n",
       "      <th>Age</th>\n",
       "      <th>EncodedHistoric</th>\n",
       "    </tr>\n",
       "  </thead>\n",
       "  <tbody>\n",
       "    <tr>\n",
       "      <th>2</th>\n",
       "      <td>Abbotsford</td>\n",
       "      <td>25 Bloomburg St</td>\n",
       "      <td>2</td>\n",
       "      <td>h</td>\n",
       "      <td>1035000.0</td>\n",
       "      <td>S</td>\n",
       "      <td>Biggin</td>\n",
       "      <td>4/02/2016</td>\n",
       "      <td>2.5</td>\n",
       "      <td>3067.0</td>\n",
       "      <td>...</td>\n",
       "      <td>156.0</td>\n",
       "      <td>79.0</td>\n",
       "      <td>1900.0</td>\n",
       "      <td>Yarra City Council</td>\n",
       "      <td>-37.80790</td>\n",
       "      <td>144.99340</td>\n",
       "      <td>NM</td>\n",
       "      <td>4019.0</td>\n",
       "      <td>122.0</td>\n",
       "      <td>0</td>\n",
       "    </tr>\n",
       "    <tr>\n",
       "      <th>4</th>\n",
       "      <td>Abbotsford</td>\n",
       "      <td>5 Charles St</td>\n",
       "      <td>3</td>\n",
       "      <td>h</td>\n",
       "      <td>1465000.0</td>\n",
       "      <td>SP</td>\n",
       "      <td>Biggin</td>\n",
       "      <td>4/03/2017</td>\n",
       "      <td>2.5</td>\n",
       "      <td>3067.0</td>\n",
       "      <td>...</td>\n",
       "      <td>134.0</td>\n",
       "      <td>150.0</td>\n",
       "      <td>1900.0</td>\n",
       "      <td>Yarra City Council</td>\n",
       "      <td>-37.80930</td>\n",
       "      <td>144.99440</td>\n",
       "      <td>NM</td>\n",
       "      <td>4019.0</td>\n",
       "      <td>122.0</td>\n",
       "      <td>0</td>\n",
       "    </tr>\n",
       "    <tr>\n",
       "      <th>6</th>\n",
       "      <td>Abbotsford</td>\n",
       "      <td>55a Park St</td>\n",
       "      <td>4</td>\n",
       "      <td>h</td>\n",
       "      <td>1600000.0</td>\n",
       "      <td>VB</td>\n",
       "      <td>Nelson</td>\n",
       "      <td>4/06/2016</td>\n",
       "      <td>2.5</td>\n",
       "      <td>3067.0</td>\n",
       "      <td>...</td>\n",
       "      <td>120.0</td>\n",
       "      <td>142.0</td>\n",
       "      <td>2014.0</td>\n",
       "      <td>Yarra City Council</td>\n",
       "      <td>-37.80720</td>\n",
       "      <td>144.99410</td>\n",
       "      <td>NM</td>\n",
       "      <td>4019.0</td>\n",
       "      <td>8.0</td>\n",
       "      <td>1</td>\n",
       "    </tr>\n",
       "    <tr>\n",
       "      <th>11</th>\n",
       "      <td>Abbotsford</td>\n",
       "      <td>124 Yarra St</td>\n",
       "      <td>3</td>\n",
       "      <td>h</td>\n",
       "      <td>1876000.0</td>\n",
       "      <td>S</td>\n",
       "      <td>Nelson</td>\n",
       "      <td>7/05/2016</td>\n",
       "      <td>2.5</td>\n",
       "      <td>3067.0</td>\n",
       "      <td>...</td>\n",
       "      <td>245.0</td>\n",
       "      <td>210.0</td>\n",
       "      <td>1910.0</td>\n",
       "      <td>Yarra City Council</td>\n",
       "      <td>-37.80240</td>\n",
       "      <td>144.99930</td>\n",
       "      <td>NM</td>\n",
       "      <td>4019.0</td>\n",
       "      <td>112.0</td>\n",
       "      <td>0</td>\n",
       "    </tr>\n",
       "    <tr>\n",
       "      <th>14</th>\n",
       "      <td>Abbotsford</td>\n",
       "      <td>98 Charles St</td>\n",
       "      <td>2</td>\n",
       "      <td>h</td>\n",
       "      <td>1636000.0</td>\n",
       "      <td>S</td>\n",
       "      <td>Nelson</td>\n",
       "      <td>8/10/2016</td>\n",
       "      <td>2.5</td>\n",
       "      <td>3067.0</td>\n",
       "      <td>...</td>\n",
       "      <td>256.0</td>\n",
       "      <td>107.0</td>\n",
       "      <td>1890.0</td>\n",
       "      <td>Yarra City Council</td>\n",
       "      <td>-37.80600</td>\n",
       "      <td>144.99540</td>\n",
       "      <td>NM</td>\n",
       "      <td>4019.0</td>\n",
       "      <td>132.0</td>\n",
       "      <td>0</td>\n",
       "    </tr>\n",
       "    <tr>\n",
       "      <th>...</th>\n",
       "      <td>...</td>\n",
       "      <td>...</td>\n",
       "      <td>...</td>\n",
       "      <td>...</td>\n",
       "      <td>...</td>\n",
       "      <td>...</td>\n",
       "      <td>...</td>\n",
       "      <td>...</td>\n",
       "      <td>...</td>\n",
       "      <td>...</td>\n",
       "      <td>...</td>\n",
       "      <td>...</td>\n",
       "      <td>...</td>\n",
       "      <td>...</td>\n",
       "      <td>...</td>\n",
       "      <td>...</td>\n",
       "      <td>...</td>\n",
       "      <td>...</td>\n",
       "      <td>...</td>\n",
       "      <td>...</td>\n",
       "      <td>...</td>\n",
       "    </tr>\n",
       "    <tr>\n",
       "      <th>34847</th>\n",
       "      <td>Wollert</td>\n",
       "      <td>27 Birchmore Rd</td>\n",
       "      <td>3</td>\n",
       "      <td>h</td>\n",
       "      <td>500000.0</td>\n",
       "      <td>PI</td>\n",
       "      <td>Ray</td>\n",
       "      <td>24/02/2018</td>\n",
       "      <td>25.5</td>\n",
       "      <td>3750.0</td>\n",
       "      <td>...</td>\n",
       "      <td>383.0</td>\n",
       "      <td>118.0</td>\n",
       "      <td>2016.0</td>\n",
       "      <td>Whittlesea City Council</td>\n",
       "      <td>-37.61940</td>\n",
       "      <td>145.03951</td>\n",
       "      <td>NM</td>\n",
       "      <td>2940.0</td>\n",
       "      <td>6.0</td>\n",
       "      <td>1</td>\n",
       "    </tr>\n",
       "    <tr>\n",
       "      <th>34849</th>\n",
       "      <td>Wollert</td>\n",
       "      <td>35 Kingscote Wy</td>\n",
       "      <td>3</td>\n",
       "      <td>h</td>\n",
       "      <td>570000.0</td>\n",
       "      <td>SP</td>\n",
       "      <td>RW</td>\n",
       "      <td>24/02/2018</td>\n",
       "      <td>25.5</td>\n",
       "      <td>3750.0</td>\n",
       "      <td>...</td>\n",
       "      <td>404.0</td>\n",
       "      <td>158.0</td>\n",
       "      <td>2012.0</td>\n",
       "      <td>Whittlesea City Council</td>\n",
       "      <td>-37.61031</td>\n",
       "      <td>145.03393</td>\n",
       "      <td>NM</td>\n",
       "      <td>2940.0</td>\n",
       "      <td>10.0</td>\n",
       "      <td>1</td>\n",
       "    </tr>\n",
       "    <tr>\n",
       "      <th>34853</th>\n",
       "      <td>Yarraville</td>\n",
       "      <td>29A Murray St</td>\n",
       "      <td>2</td>\n",
       "      <td>h</td>\n",
       "      <td>888000.0</td>\n",
       "      <td>SP</td>\n",
       "      <td>Sweeney</td>\n",
       "      <td>24/02/2018</td>\n",
       "      <td>6.3</td>\n",
       "      <td>3013.0</td>\n",
       "      <td>...</td>\n",
       "      <td>98.0</td>\n",
       "      <td>104.0</td>\n",
       "      <td>2018.0</td>\n",
       "      <td>Maribyrnong City Council</td>\n",
       "      <td>-37.81551</td>\n",
       "      <td>144.88826</td>\n",
       "      <td>WM</td>\n",
       "      <td>6543.0</td>\n",
       "      <td>4.0</td>\n",
       "      <td>1</td>\n",
       "    </tr>\n",
       "    <tr>\n",
       "      <th>34854</th>\n",
       "      <td>Yarraville</td>\n",
       "      <td>147A Severn St</td>\n",
       "      <td>2</td>\n",
       "      <td>t</td>\n",
       "      <td>705000.0</td>\n",
       "      <td>S</td>\n",
       "      <td>Jas</td>\n",
       "      <td>24/02/2018</td>\n",
       "      <td>6.3</td>\n",
       "      <td>3013.0</td>\n",
       "      <td>...</td>\n",
       "      <td>220.0</td>\n",
       "      <td>120.0</td>\n",
       "      <td>2000.0</td>\n",
       "      <td>Maribyrnong City Council</td>\n",
       "      <td>-37.82286</td>\n",
       "      <td>144.87856</td>\n",
       "      <td>WM</td>\n",
       "      <td>6543.0</td>\n",
       "      <td>22.0</td>\n",
       "      <td>1</td>\n",
       "    </tr>\n",
       "    <tr>\n",
       "      <th>34856</th>\n",
       "      <td>Yarraville</td>\n",
       "      <td>3 Tarrengower St</td>\n",
       "      <td>2</td>\n",
       "      <td>h</td>\n",
       "      <td>1020000.0</td>\n",
       "      <td>PI</td>\n",
       "      <td>RW</td>\n",
       "      <td>24/02/2018</td>\n",
       "      <td>6.3</td>\n",
       "      <td>3013.0</td>\n",
       "      <td>...</td>\n",
       "      <td>250.0</td>\n",
       "      <td>103.0</td>\n",
       "      <td>1930.0</td>\n",
       "      <td>Maribyrnong City Council</td>\n",
       "      <td>-37.81810</td>\n",
       "      <td>144.89351</td>\n",
       "      <td>WM</td>\n",
       "      <td>6543.0</td>\n",
       "      <td>92.0</td>\n",
       "      <td>0</td>\n",
       "    </tr>\n",
       "  </tbody>\n",
       "</table>\n",
       "<p>8841 rows × 22 columns</p>\n",
       "</div>"
      ],
      "text/plain": [
       "           Suburb           Address  Rooms Type      Price Method  SellerG  \\\n",
       "2      Abbotsford   25 Bloomburg St      2    h  1035000.0      S   Biggin   \n",
       "4      Abbotsford      5 Charles St      3    h  1465000.0     SP   Biggin   \n",
       "6      Abbotsford       55a Park St      4    h  1600000.0     VB   Nelson   \n",
       "11     Abbotsford      124 Yarra St      3    h  1876000.0      S   Nelson   \n",
       "14     Abbotsford     98 Charles St      2    h  1636000.0      S   Nelson   \n",
       "...           ...               ...    ...  ...        ...    ...      ...   \n",
       "34847     Wollert   27 Birchmore Rd      3    h   500000.0     PI      Ray   \n",
       "34849     Wollert   35 Kingscote Wy      3    h   570000.0     SP       RW   \n",
       "34853  Yarraville     29A Murray St      2    h   888000.0     SP  Sweeney   \n",
       "34854  Yarraville    147A Severn St      2    t   705000.0      S      Jas   \n",
       "34856  Yarraville  3 Tarrengower St      2    h  1020000.0     PI       RW   \n",
       "\n",
       "             Date  Distance Postcode  ...  Landsize  BuildingArea  YearBuilt  \\\n",
       "2       4/02/2016       2.5   3067.0  ...     156.0          79.0     1900.0   \n",
       "4       4/03/2017       2.5   3067.0  ...     134.0         150.0     1900.0   \n",
       "6       4/06/2016       2.5   3067.0  ...     120.0         142.0     2014.0   \n",
       "11      7/05/2016       2.5   3067.0  ...     245.0         210.0     1910.0   \n",
       "14      8/10/2016       2.5   3067.0  ...     256.0         107.0     1890.0   \n",
       "...           ...       ...      ...  ...       ...           ...        ...   \n",
       "34847  24/02/2018      25.5   3750.0  ...     383.0         118.0     2016.0   \n",
       "34849  24/02/2018      25.5   3750.0  ...     404.0         158.0     2012.0   \n",
       "34853  24/02/2018       6.3   3013.0  ...      98.0         104.0     2018.0   \n",
       "34854  24/02/2018       6.3   3013.0  ...     220.0         120.0     2000.0   \n",
       "34856  24/02/2018       6.3   3013.0  ...     250.0         103.0     1930.0   \n",
       "\n",
       "                    CouncilArea  Lattitude Longtitude  Regionname  \\\n",
       "2            Yarra City Council  -37.80790  144.99340          NM   \n",
       "4            Yarra City Council  -37.80930  144.99440          NM   \n",
       "6            Yarra City Council  -37.80720  144.99410          NM   \n",
       "11           Yarra City Council  -37.80240  144.99930          NM   \n",
       "14           Yarra City Council  -37.80600  144.99540          NM   \n",
       "...                         ...        ...        ...         ...   \n",
       "34847   Whittlesea City Council  -37.61940  145.03951          NM   \n",
       "34849   Whittlesea City Council  -37.61031  145.03393          NM   \n",
       "34853  Maribyrnong City Council  -37.81551  144.88826          WM   \n",
       "34854  Maribyrnong City Council  -37.82286  144.87856          WM   \n",
       "34856  Maribyrnong City Council  -37.81810  144.89351          WM   \n",
       "\n",
       "       Propertycount    Age  EncodedHistoric  \n",
       "2             4019.0  122.0                0  \n",
       "4             4019.0  122.0                0  \n",
       "6             4019.0    8.0                1  \n",
       "11            4019.0  112.0                0  \n",
       "14            4019.0  132.0                0  \n",
       "...              ...    ...              ...  \n",
       "34847         2940.0    6.0                1  \n",
       "34849         2940.0   10.0                1  \n",
       "34853         6543.0    4.0                1  \n",
       "34854         6543.0   22.0                1  \n",
       "34856         6543.0   92.0                0  \n",
       "\n",
       "[8841 rows x 22 columns]"
      ]
     },
     "execution_count": 51,
     "metadata": {},
     "output_type": "execute_result"
    }
   ],
   "source": [
    "melbourne_df"
   ]
  },
  {
   "cell_type": "code",
   "execution_count": 58,
   "metadata": {},
   "outputs": [],
   "source": [
    "df1 = pd.get_dummies(melbourne_df.Regionname)"
   ]
  },
  {
   "cell_type": "code",
   "execution_count": 59,
   "metadata": {},
   "outputs": [
    {
     "data": {
      "text/plain": [
       "(8841, 22)"
      ]
     },
     "execution_count": 59,
     "metadata": {},
     "output_type": "execute_result"
    }
   ],
   "source": [
    "melbourne_df.shape"
   ]
  },
  {
   "cell_type": "code",
   "execution_count": 65,
   "metadata": {},
   "outputs": [
    {
     "data": {
      "text/html": [
       "<div>\n",
       "<style scoped>\n",
       "    .dataframe tbody tr th:only-of-type {\n",
       "        vertical-align: middle;\n",
       "    }\n",
       "\n",
       "    .dataframe tbody tr th {\n",
       "        vertical-align: top;\n",
       "    }\n",
       "\n",
       "    .dataframe thead th {\n",
       "        text-align: right;\n",
       "    }\n",
       "</style>\n",
       "<table border=\"1\" class=\"dataframe\">\n",
       "  <thead>\n",
       "    <tr style=\"text-align: right;\">\n",
       "      <th></th>\n",
       "      <th>EM</th>\n",
       "      <th>EV</th>\n",
       "      <th>NM</th>\n",
       "      <th>NV</th>\n",
       "      <th>SEM</th>\n",
       "      <th>SM</th>\n",
       "      <th>WM</th>\n",
       "      <th>WV</th>\n",
       "    </tr>\n",
       "  </thead>\n",
       "  <tbody>\n",
       "    <tr>\n",
       "      <th>2</th>\n",
       "      <td>0</td>\n",
       "      <td>0</td>\n",
       "      <td>1</td>\n",
       "      <td>0</td>\n",
       "      <td>0</td>\n",
       "      <td>0</td>\n",
       "      <td>0</td>\n",
       "      <td>0</td>\n",
       "    </tr>\n",
       "    <tr>\n",
       "      <th>4</th>\n",
       "      <td>0</td>\n",
       "      <td>0</td>\n",
       "      <td>1</td>\n",
       "      <td>0</td>\n",
       "      <td>0</td>\n",
       "      <td>0</td>\n",
       "      <td>0</td>\n",
       "      <td>0</td>\n",
       "    </tr>\n",
       "    <tr>\n",
       "      <th>6</th>\n",
       "      <td>0</td>\n",
       "      <td>0</td>\n",
       "      <td>1</td>\n",
       "      <td>0</td>\n",
       "      <td>0</td>\n",
       "      <td>0</td>\n",
       "      <td>0</td>\n",
       "      <td>0</td>\n",
       "    </tr>\n",
       "    <tr>\n",
       "      <th>11</th>\n",
       "      <td>0</td>\n",
       "      <td>0</td>\n",
       "      <td>1</td>\n",
       "      <td>0</td>\n",
       "      <td>0</td>\n",
       "      <td>0</td>\n",
       "      <td>0</td>\n",
       "      <td>0</td>\n",
       "    </tr>\n",
       "    <tr>\n",
       "      <th>14</th>\n",
       "      <td>0</td>\n",
       "      <td>0</td>\n",
       "      <td>1</td>\n",
       "      <td>0</td>\n",
       "      <td>0</td>\n",
       "      <td>0</td>\n",
       "      <td>0</td>\n",
       "      <td>0</td>\n",
       "    </tr>\n",
       "    <tr>\n",
       "      <th>...</th>\n",
       "      <td>...</td>\n",
       "      <td>...</td>\n",
       "      <td>...</td>\n",
       "      <td>...</td>\n",
       "      <td>...</td>\n",
       "      <td>...</td>\n",
       "      <td>...</td>\n",
       "      <td>...</td>\n",
       "    </tr>\n",
       "    <tr>\n",
       "      <th>34847</th>\n",
       "      <td>0</td>\n",
       "      <td>0</td>\n",
       "      <td>1</td>\n",
       "      <td>0</td>\n",
       "      <td>0</td>\n",
       "      <td>0</td>\n",
       "      <td>0</td>\n",
       "      <td>0</td>\n",
       "    </tr>\n",
       "    <tr>\n",
       "      <th>34849</th>\n",
       "      <td>0</td>\n",
       "      <td>0</td>\n",
       "      <td>1</td>\n",
       "      <td>0</td>\n",
       "      <td>0</td>\n",
       "      <td>0</td>\n",
       "      <td>0</td>\n",
       "      <td>0</td>\n",
       "    </tr>\n",
       "    <tr>\n",
       "      <th>34853</th>\n",
       "      <td>0</td>\n",
       "      <td>0</td>\n",
       "      <td>0</td>\n",
       "      <td>0</td>\n",
       "      <td>0</td>\n",
       "      <td>0</td>\n",
       "      <td>1</td>\n",
       "      <td>0</td>\n",
       "    </tr>\n",
       "    <tr>\n",
       "      <th>34854</th>\n",
       "      <td>0</td>\n",
       "      <td>0</td>\n",
       "      <td>0</td>\n",
       "      <td>0</td>\n",
       "      <td>0</td>\n",
       "      <td>0</td>\n",
       "      <td>1</td>\n",
       "      <td>0</td>\n",
       "    </tr>\n",
       "    <tr>\n",
       "      <th>34856</th>\n",
       "      <td>0</td>\n",
       "      <td>0</td>\n",
       "      <td>0</td>\n",
       "      <td>0</td>\n",
       "      <td>0</td>\n",
       "      <td>0</td>\n",
       "      <td>1</td>\n",
       "      <td>0</td>\n",
       "    </tr>\n",
       "  </tbody>\n",
       "</table>\n",
       "<p>8841 rows × 8 columns</p>\n",
       "</div>"
      ],
      "text/plain": [
       "       EM  EV  NM  NV  SEM  SM  WM  WV\n",
       "2       0   0   1   0    0   0   0   0\n",
       "4       0   0   1   0    0   0   0   0\n",
       "6       0   0   1   0    0   0   0   0\n",
       "11      0   0   1   0    0   0   0   0\n",
       "14      0   0   1   0    0   0   0   0\n",
       "...    ..  ..  ..  ..  ...  ..  ..  ..\n",
       "34847   0   0   1   0    0   0   0   0\n",
       "34849   0   0   1   0    0   0   0   0\n",
       "34853   0   0   0   0    0   0   1   0\n",
       "34854   0   0   0   0    0   0   1   0\n",
       "34856   0   0   0   0    0   0   1   0\n",
       "\n",
       "[8841 rows x 8 columns]"
      ]
     },
     "execution_count": 65,
     "metadata": {},
     "output_type": "execute_result"
    }
   ],
   "source": [
    "df1"
   ]
  },
  {
   "cell_type": "code",
   "execution_count": 66,
   "metadata": {},
   "outputs": [
    {
     "data": {
      "text/plain": [
       "(8841, 8)"
      ]
     },
     "execution_count": 66,
     "metadata": {},
     "output_type": "execute_result"
    }
   ],
   "source": [
    "df1.shape"
   ]
  },
  {
   "cell_type": "code",
   "execution_count": 67,
   "metadata": {},
   "outputs": [],
   "source": [
    "result = melbourne_df.join(df1, how = 'outer')"
   ]
  },
  {
   "cell_type": "code",
   "execution_count": 68,
   "metadata": {},
   "outputs": [
    {
     "data": {
      "text/html": [
       "<div>\n",
       "<style scoped>\n",
       "    .dataframe tbody tr th:only-of-type {\n",
       "        vertical-align: middle;\n",
       "    }\n",
       "\n",
       "    .dataframe tbody tr th {\n",
       "        vertical-align: top;\n",
       "    }\n",
       "\n",
       "    .dataframe thead th {\n",
       "        text-align: right;\n",
       "    }\n",
       "</style>\n",
       "<table border=\"1\" class=\"dataframe\">\n",
       "  <thead>\n",
       "    <tr style=\"text-align: right;\">\n",
       "      <th></th>\n",
       "      <th>Suburb</th>\n",
       "      <th>Address</th>\n",
       "      <th>Rooms</th>\n",
       "      <th>Type</th>\n",
       "      <th>Price</th>\n",
       "      <th>Method</th>\n",
       "      <th>SellerG</th>\n",
       "      <th>Date</th>\n",
       "      <th>Distance</th>\n",
       "      <th>Postcode</th>\n",
       "      <th>...</th>\n",
       "      <th>Age</th>\n",
       "      <th>EncodedHistoric</th>\n",
       "      <th>EM</th>\n",
       "      <th>EV</th>\n",
       "      <th>NM</th>\n",
       "      <th>NV</th>\n",
       "      <th>SEM</th>\n",
       "      <th>SM</th>\n",
       "      <th>WM</th>\n",
       "      <th>WV</th>\n",
       "    </tr>\n",
       "  </thead>\n",
       "  <tbody>\n",
       "    <tr>\n",
       "      <th>2</th>\n",
       "      <td>Abbotsford</td>\n",
       "      <td>25 Bloomburg St</td>\n",
       "      <td>2</td>\n",
       "      <td>h</td>\n",
       "      <td>1035000.0</td>\n",
       "      <td>S</td>\n",
       "      <td>Biggin</td>\n",
       "      <td>4/02/2016</td>\n",
       "      <td>2.5</td>\n",
       "      <td>3067.0</td>\n",
       "      <td>...</td>\n",
       "      <td>122.0</td>\n",
       "      <td>0</td>\n",
       "      <td>0</td>\n",
       "      <td>0</td>\n",
       "      <td>1</td>\n",
       "      <td>0</td>\n",
       "      <td>0</td>\n",
       "      <td>0</td>\n",
       "      <td>0</td>\n",
       "      <td>0</td>\n",
       "    </tr>\n",
       "    <tr>\n",
       "      <th>4</th>\n",
       "      <td>Abbotsford</td>\n",
       "      <td>5 Charles St</td>\n",
       "      <td>3</td>\n",
       "      <td>h</td>\n",
       "      <td>1465000.0</td>\n",
       "      <td>SP</td>\n",
       "      <td>Biggin</td>\n",
       "      <td>4/03/2017</td>\n",
       "      <td>2.5</td>\n",
       "      <td>3067.0</td>\n",
       "      <td>...</td>\n",
       "      <td>122.0</td>\n",
       "      <td>0</td>\n",
       "      <td>0</td>\n",
       "      <td>0</td>\n",
       "      <td>1</td>\n",
       "      <td>0</td>\n",
       "      <td>0</td>\n",
       "      <td>0</td>\n",
       "      <td>0</td>\n",
       "      <td>0</td>\n",
       "    </tr>\n",
       "    <tr>\n",
       "      <th>6</th>\n",
       "      <td>Abbotsford</td>\n",
       "      <td>55a Park St</td>\n",
       "      <td>4</td>\n",
       "      <td>h</td>\n",
       "      <td>1600000.0</td>\n",
       "      <td>VB</td>\n",
       "      <td>Nelson</td>\n",
       "      <td>4/06/2016</td>\n",
       "      <td>2.5</td>\n",
       "      <td>3067.0</td>\n",
       "      <td>...</td>\n",
       "      <td>8.0</td>\n",
       "      <td>1</td>\n",
       "      <td>0</td>\n",
       "      <td>0</td>\n",
       "      <td>1</td>\n",
       "      <td>0</td>\n",
       "      <td>0</td>\n",
       "      <td>0</td>\n",
       "      <td>0</td>\n",
       "      <td>0</td>\n",
       "    </tr>\n",
       "    <tr>\n",
       "      <th>11</th>\n",
       "      <td>Abbotsford</td>\n",
       "      <td>124 Yarra St</td>\n",
       "      <td>3</td>\n",
       "      <td>h</td>\n",
       "      <td>1876000.0</td>\n",
       "      <td>S</td>\n",
       "      <td>Nelson</td>\n",
       "      <td>7/05/2016</td>\n",
       "      <td>2.5</td>\n",
       "      <td>3067.0</td>\n",
       "      <td>...</td>\n",
       "      <td>112.0</td>\n",
       "      <td>0</td>\n",
       "      <td>0</td>\n",
       "      <td>0</td>\n",
       "      <td>1</td>\n",
       "      <td>0</td>\n",
       "      <td>0</td>\n",
       "      <td>0</td>\n",
       "      <td>0</td>\n",
       "      <td>0</td>\n",
       "    </tr>\n",
       "    <tr>\n",
       "      <th>14</th>\n",
       "      <td>Abbotsford</td>\n",
       "      <td>98 Charles St</td>\n",
       "      <td>2</td>\n",
       "      <td>h</td>\n",
       "      <td>1636000.0</td>\n",
       "      <td>S</td>\n",
       "      <td>Nelson</td>\n",
       "      <td>8/10/2016</td>\n",
       "      <td>2.5</td>\n",
       "      <td>3067.0</td>\n",
       "      <td>...</td>\n",
       "      <td>132.0</td>\n",
       "      <td>0</td>\n",
       "      <td>0</td>\n",
       "      <td>0</td>\n",
       "      <td>1</td>\n",
       "      <td>0</td>\n",
       "      <td>0</td>\n",
       "      <td>0</td>\n",
       "      <td>0</td>\n",
       "      <td>0</td>\n",
       "    </tr>\n",
       "    <tr>\n",
       "      <th>...</th>\n",
       "      <td>...</td>\n",
       "      <td>...</td>\n",
       "      <td>...</td>\n",
       "      <td>...</td>\n",
       "      <td>...</td>\n",
       "      <td>...</td>\n",
       "      <td>...</td>\n",
       "      <td>...</td>\n",
       "      <td>...</td>\n",
       "      <td>...</td>\n",
       "      <td>...</td>\n",
       "      <td>...</td>\n",
       "      <td>...</td>\n",
       "      <td>...</td>\n",
       "      <td>...</td>\n",
       "      <td>...</td>\n",
       "      <td>...</td>\n",
       "      <td>...</td>\n",
       "      <td>...</td>\n",
       "      <td>...</td>\n",
       "      <td>...</td>\n",
       "    </tr>\n",
       "    <tr>\n",
       "      <th>34847</th>\n",
       "      <td>Wollert</td>\n",
       "      <td>27 Birchmore Rd</td>\n",
       "      <td>3</td>\n",
       "      <td>h</td>\n",
       "      <td>500000.0</td>\n",
       "      <td>PI</td>\n",
       "      <td>Ray</td>\n",
       "      <td>24/02/2018</td>\n",
       "      <td>25.5</td>\n",
       "      <td>3750.0</td>\n",
       "      <td>...</td>\n",
       "      <td>6.0</td>\n",
       "      <td>1</td>\n",
       "      <td>0</td>\n",
       "      <td>0</td>\n",
       "      <td>1</td>\n",
       "      <td>0</td>\n",
       "      <td>0</td>\n",
       "      <td>0</td>\n",
       "      <td>0</td>\n",
       "      <td>0</td>\n",
       "    </tr>\n",
       "    <tr>\n",
       "      <th>34849</th>\n",
       "      <td>Wollert</td>\n",
       "      <td>35 Kingscote Wy</td>\n",
       "      <td>3</td>\n",
       "      <td>h</td>\n",
       "      <td>570000.0</td>\n",
       "      <td>SP</td>\n",
       "      <td>RW</td>\n",
       "      <td>24/02/2018</td>\n",
       "      <td>25.5</td>\n",
       "      <td>3750.0</td>\n",
       "      <td>...</td>\n",
       "      <td>10.0</td>\n",
       "      <td>1</td>\n",
       "      <td>0</td>\n",
       "      <td>0</td>\n",
       "      <td>1</td>\n",
       "      <td>0</td>\n",
       "      <td>0</td>\n",
       "      <td>0</td>\n",
       "      <td>0</td>\n",
       "      <td>0</td>\n",
       "    </tr>\n",
       "    <tr>\n",
       "      <th>34853</th>\n",
       "      <td>Yarraville</td>\n",
       "      <td>29A Murray St</td>\n",
       "      <td>2</td>\n",
       "      <td>h</td>\n",
       "      <td>888000.0</td>\n",
       "      <td>SP</td>\n",
       "      <td>Sweeney</td>\n",
       "      <td>24/02/2018</td>\n",
       "      <td>6.3</td>\n",
       "      <td>3013.0</td>\n",
       "      <td>...</td>\n",
       "      <td>4.0</td>\n",
       "      <td>1</td>\n",
       "      <td>0</td>\n",
       "      <td>0</td>\n",
       "      <td>0</td>\n",
       "      <td>0</td>\n",
       "      <td>0</td>\n",
       "      <td>0</td>\n",
       "      <td>1</td>\n",
       "      <td>0</td>\n",
       "    </tr>\n",
       "    <tr>\n",
       "      <th>34854</th>\n",
       "      <td>Yarraville</td>\n",
       "      <td>147A Severn St</td>\n",
       "      <td>2</td>\n",
       "      <td>t</td>\n",
       "      <td>705000.0</td>\n",
       "      <td>S</td>\n",
       "      <td>Jas</td>\n",
       "      <td>24/02/2018</td>\n",
       "      <td>6.3</td>\n",
       "      <td>3013.0</td>\n",
       "      <td>...</td>\n",
       "      <td>22.0</td>\n",
       "      <td>1</td>\n",
       "      <td>0</td>\n",
       "      <td>0</td>\n",
       "      <td>0</td>\n",
       "      <td>0</td>\n",
       "      <td>0</td>\n",
       "      <td>0</td>\n",
       "      <td>1</td>\n",
       "      <td>0</td>\n",
       "    </tr>\n",
       "    <tr>\n",
       "      <th>34856</th>\n",
       "      <td>Yarraville</td>\n",
       "      <td>3 Tarrengower St</td>\n",
       "      <td>2</td>\n",
       "      <td>h</td>\n",
       "      <td>1020000.0</td>\n",
       "      <td>PI</td>\n",
       "      <td>RW</td>\n",
       "      <td>24/02/2018</td>\n",
       "      <td>6.3</td>\n",
       "      <td>3013.0</td>\n",
       "      <td>...</td>\n",
       "      <td>92.0</td>\n",
       "      <td>0</td>\n",
       "      <td>0</td>\n",
       "      <td>0</td>\n",
       "      <td>0</td>\n",
       "      <td>0</td>\n",
       "      <td>0</td>\n",
       "      <td>0</td>\n",
       "      <td>1</td>\n",
       "      <td>0</td>\n",
       "    </tr>\n",
       "  </tbody>\n",
       "</table>\n",
       "<p>8841 rows × 30 columns</p>\n",
       "</div>"
      ],
      "text/plain": [
       "           Suburb           Address  Rooms Type      Price Method  SellerG  \\\n",
       "2      Abbotsford   25 Bloomburg St      2    h  1035000.0      S   Biggin   \n",
       "4      Abbotsford      5 Charles St      3    h  1465000.0     SP   Biggin   \n",
       "6      Abbotsford       55a Park St      4    h  1600000.0     VB   Nelson   \n",
       "11     Abbotsford      124 Yarra St      3    h  1876000.0      S   Nelson   \n",
       "14     Abbotsford     98 Charles St      2    h  1636000.0      S   Nelson   \n",
       "...           ...               ...    ...  ...        ...    ...      ...   \n",
       "34847     Wollert   27 Birchmore Rd      3    h   500000.0     PI      Ray   \n",
       "34849     Wollert   35 Kingscote Wy      3    h   570000.0     SP       RW   \n",
       "34853  Yarraville     29A Murray St      2    h   888000.0     SP  Sweeney   \n",
       "34854  Yarraville    147A Severn St      2    t   705000.0      S      Jas   \n",
       "34856  Yarraville  3 Tarrengower St      2    h  1020000.0     PI       RW   \n",
       "\n",
       "             Date  Distance Postcode  ...    Age  EncodedHistoric  EM  EV  NM  \\\n",
       "2       4/02/2016       2.5   3067.0  ...  122.0                0   0   0   1   \n",
       "4       4/03/2017       2.5   3067.0  ...  122.0                0   0   0   1   \n",
       "6       4/06/2016       2.5   3067.0  ...    8.0                1   0   0   1   \n",
       "11      7/05/2016       2.5   3067.0  ...  112.0                0   0   0   1   \n",
       "14      8/10/2016       2.5   3067.0  ...  132.0                0   0   0   1   \n",
       "...           ...       ...      ...  ...    ...              ...  ..  ..  ..   \n",
       "34847  24/02/2018      25.5   3750.0  ...    6.0                1   0   0   1   \n",
       "34849  24/02/2018      25.5   3750.0  ...   10.0                1   0   0   1   \n",
       "34853  24/02/2018       6.3   3013.0  ...    4.0                1   0   0   0   \n",
       "34854  24/02/2018       6.3   3013.0  ...   22.0                1   0   0   0   \n",
       "34856  24/02/2018       6.3   3013.0  ...   92.0                0   0   0   0   \n",
       "\n",
       "      NV  SEM  SM WM  WV  \n",
       "2      0    0   0  0   0  \n",
       "4      0    0   0  0   0  \n",
       "6      0    0   0  0   0  \n",
       "11     0    0   0  0   0  \n",
       "14     0    0   0  0   0  \n",
       "...   ..  ...  .. ..  ..  \n",
       "34847  0    0   0  0   0  \n",
       "34849  0    0   0  0   0  \n",
       "34853  0    0   0  1   0  \n",
       "34854  0    0   0  1   0  \n",
       "34856  0    0   0  1   0  \n",
       "\n",
       "[8841 rows x 30 columns]"
      ]
     },
     "execution_count": 68,
     "metadata": {},
     "output_type": "execute_result"
    }
   ],
   "source": [
    "result"
   ]
  },
  {
   "cell_type": "code",
   "execution_count": 69,
   "metadata": {},
   "outputs": [],
   "source": [
    "# Split\n",
    "# Create features variable \n",
    "X =result[['Rooms', 'Distance', 'Bathroom', 'Car', 'Landsize', \n",
    "            'BuildingArea', 'Propertycount','Age', 'EncodedHistoric', 'EM', 'EV', 'NM', 'NV', 'SEM', 'SM', 'WM', 'WV']]\n",
    "\n",
    "# Create target variable\n",
    "y = result['Price']\n",
    "\n",
    "#Training and Testing Process\n",
    "X_train, X_test, y_train, y_test = train_test_split(X,y, test_size = .20, random_state= 43)"
   ]
  },
  {
   "cell_type": "code",
   "execution_count": 70,
   "metadata": {},
   "outputs": [
    {
     "data": {
      "text/plain": [
       "(7072,)"
      ]
     },
     "execution_count": 70,
     "metadata": {},
     "output_type": "execute_result"
    }
   ],
   "source": [
    "# Reviewing y_train shape\n",
    "y_train.shape"
   ]
  },
  {
   "cell_type": "code",
   "execution_count": 71,
   "metadata": {},
   "outputs": [
    {
     "data": {
      "text/html": [
       "<style>#sk-container-id-2 {color: black;background-color: white;}#sk-container-id-2 pre{padding: 0;}#sk-container-id-2 div.sk-toggleable {background-color: white;}#sk-container-id-2 label.sk-toggleable__label {cursor: pointer;display: block;width: 100%;margin-bottom: 0;padding: 0.3em;box-sizing: border-box;text-align: center;}#sk-container-id-2 label.sk-toggleable__label-arrow:before {content: \"▸\";float: left;margin-right: 0.25em;color: #696969;}#sk-container-id-2 label.sk-toggleable__label-arrow:hover:before {color: black;}#sk-container-id-2 div.sk-estimator:hover label.sk-toggleable__label-arrow:before {color: black;}#sk-container-id-2 div.sk-toggleable__content {max-height: 0;max-width: 0;overflow: hidden;text-align: left;background-color: #f0f8ff;}#sk-container-id-2 div.sk-toggleable__content pre {margin: 0.2em;color: black;border-radius: 0.25em;background-color: #f0f8ff;}#sk-container-id-2 input.sk-toggleable__control:checked~div.sk-toggleable__content {max-height: 200px;max-width: 100%;overflow: auto;}#sk-container-id-2 input.sk-toggleable__control:checked~label.sk-toggleable__label-arrow:before {content: \"▾\";}#sk-container-id-2 div.sk-estimator input.sk-toggleable__control:checked~label.sk-toggleable__label {background-color: #d4ebff;}#sk-container-id-2 div.sk-label input.sk-toggleable__control:checked~label.sk-toggleable__label {background-color: #d4ebff;}#sk-container-id-2 input.sk-hidden--visually {border: 0;clip: rect(1px 1px 1px 1px);clip: rect(1px, 1px, 1px, 1px);height: 1px;margin: -1px;overflow: hidden;padding: 0;position: absolute;width: 1px;}#sk-container-id-2 div.sk-estimator {font-family: monospace;background-color: #f0f8ff;border: 1px dotted black;border-radius: 0.25em;box-sizing: border-box;margin-bottom: 0.5em;}#sk-container-id-2 div.sk-estimator:hover {background-color: #d4ebff;}#sk-container-id-2 div.sk-parallel-item::after {content: \"\";width: 100%;border-bottom: 1px solid gray;flex-grow: 1;}#sk-container-id-2 div.sk-label:hover label.sk-toggleable__label {background-color: #d4ebff;}#sk-container-id-2 div.sk-serial::before {content: \"\";position: absolute;border-left: 1px solid gray;box-sizing: border-box;top: 0;bottom: 0;left: 50%;z-index: 0;}#sk-container-id-2 div.sk-serial {display: flex;flex-direction: column;align-items: center;background-color: white;padding-right: 0.2em;padding-left: 0.2em;position: relative;}#sk-container-id-2 div.sk-item {position: relative;z-index: 1;}#sk-container-id-2 div.sk-parallel {display: flex;align-items: stretch;justify-content: center;background-color: white;position: relative;}#sk-container-id-2 div.sk-item::before, #sk-container-id-2 div.sk-parallel-item::before {content: \"\";position: absolute;border-left: 1px solid gray;box-sizing: border-box;top: 0;bottom: 0;left: 50%;z-index: -1;}#sk-container-id-2 div.sk-parallel-item {display: flex;flex-direction: column;z-index: 1;position: relative;background-color: white;}#sk-container-id-2 div.sk-parallel-item:first-child::after {align-self: flex-end;width: 50%;}#sk-container-id-2 div.sk-parallel-item:last-child::after {align-self: flex-start;width: 50%;}#sk-container-id-2 div.sk-parallel-item:only-child::after {width: 0;}#sk-container-id-2 div.sk-dashed-wrapped {border: 1px dashed gray;margin: 0 0.4em 0.5em 0.4em;box-sizing: border-box;padding-bottom: 0.4em;background-color: white;}#sk-container-id-2 div.sk-label label {font-family: monospace;font-weight: bold;display: inline-block;line-height: 1.2em;}#sk-container-id-2 div.sk-label-container {text-align: center;}#sk-container-id-2 div.sk-container {/* jupyter's `normalize.less` sets `[hidden] { display: none; }` but bootstrap.min.css set `[hidden] { display: none !important; }` so we also need the `!important` here to be able to override the default hidden behavior on the sphinx rendered scikit-learn.org. See: https://github.com/scikit-learn/scikit-learn/issues/21755 */display: inline-block !important;position: relative;}#sk-container-id-2 div.sk-text-repr-fallback {display: none;}</style><div id=\"sk-container-id-2\" class=\"sk-top-container\"><div class=\"sk-text-repr-fallback\"><pre>LinearRegression()</pre><b>In a Jupyter environment, please rerun this cell to show the HTML representation or trust the notebook. <br />On GitHub, the HTML representation is unable to render, please try loading this page with nbviewer.org.</b></div><div class=\"sk-container\" hidden><div class=\"sk-item\"><div class=\"sk-estimator sk-toggleable\"><input class=\"sk-toggleable__control sk-hidden--visually\" id=\"sk-estimator-id-2\" type=\"checkbox\" checked><label for=\"sk-estimator-id-2\" class=\"sk-toggleable__label sk-toggleable__label-arrow\">LinearRegression</label><div class=\"sk-toggleable__content\"><pre>LinearRegression()</pre></div></div></div></div></div>"
      ],
      "text/plain": [
       "LinearRegression()"
      ]
     },
     "execution_count": 71,
     "metadata": {},
     "output_type": "execute_result"
    }
   ],
   "source": [
    "from sklearn.linear_model import LinearRegression\n",
    "\n",
    "# Linear regression object\n",
    "regrezzor = LinearRegression()\n",
    "\n",
    "# Fit model to training data\n",
    "regrezzor.fit(X_train,y_train)"
   ]
  },
  {
   "cell_type": "code",
   "execution_count": 72,
   "metadata": {},
   "outputs": [],
   "source": [
    "y_pred = regrezzor.predict(X_test)"
   ]
  },
  {
   "cell_type": "code",
   "execution_count": 73,
   "metadata": {},
   "outputs": [
    {
     "name": "stdout",
     "output_type": "stream",
     "text": [
      "Mean Absolute Error: 262117.11950330474\n",
      "Mean Squared Error: 158385224475.87817\n",
      "Root Mean Squared Error: 397976.4119591489\n"
     ]
    }
   ],
   "source": [
    "print('Mean Absolute Error:',metrics.mean_absolute_error(y_test,y_pred))\n",
    "print('Mean Squared Error:',metrics.mean_squared_error(y_test,y_pred))\n",
    "print('Root Mean Squared Error:',np.sqrt(metrics.mean_squared_error(y_test,y_pred)))"
   ]
  },
  {
   "cell_type": "code",
   "execution_count": 74,
   "metadata": {
    "colab": {
     "base_uri": "https://localhost:8080/"
    },
    "id": "PsbQUhwkKZe6",
    "outputId": "f4a5f440-8d37-40d4-8581-68c891e604c6"
   },
   "outputs": [
    {
     "name": "stdout",
     "output_type": "stream",
     "text": [
      "Median Melbourne housing price: 900000.0\n"
     ]
    }
   ],
   "source": [
    "# Print median price\n",
    "print(\"Median Melbourne housing price:\", y_train.median())"
   ]
  },
  {
   "cell_type": "code",
   "execution_count": 76,
   "metadata": {
    "id": "YDDDsNSAKZe7"
   },
   "outputs": [],
   "source": [
    "# Extract Clean dataset\n",
    "result.to_csv('melbourne_df_prepared.csv')"
   ]
  },
  {
   "cell_type": "markdown",
   "metadata": {
    "id": "9QuxvwCjKZe7"
   },
   "source": [
    "#### <span style=\"color:black\"><b>Standardization of Dataset Variables</b>:</span>"
   ]
  },
  {
   "cell_type": "code",
   "execution_count": 77,
   "metadata": {
    "id": "amFABXd7KZe8"
   },
   "outputs": [],
   "source": [
    "from sklearn.preprocessing import StandardScaler\n",
    "\n",
    "# Data needs to be standardized\n",
    "X_stand123 = StandardScaler().fit_transform(X)"
   ]
  },
  {
   "cell_type": "code",
   "execution_count": 78,
   "metadata": {
    "colab": {
     "base_uri": "https://localhost:8080/"
    },
    "id": "orTxiqrxKZe8",
    "outputId": "64caf9e5-fdbb-4e2d-e50a-8d876e960764"
   },
   "outputs": [
    {
     "name": "stdout",
     "output_type": "stream",
     "text": [
      "Covariance matrix: \n",
      "[[ 1.00011312  0.27665068  0.62450622  0.40248531  0.10193088  0.61641571\n",
      "  -0.08354807 -0.00572763  0.06263922  0.14675878  0.0295346  -0.13992691\n",
      "   0.03233657  0.07276281 -0.04223529  0.03525608  0.03851648]\n",
      " [ 0.27665068  1.00011312  0.12274742  0.25969503  0.13941038  0.14008879\n",
      "  -0.00288589 -0.32199436  0.23798549  0.18194972  0.2696143  -0.17438079\n",
      "   0.26320163  0.42466254 -0.2207205  -0.04139541  0.20016937]\n",
      " [ 0.62450622  0.12274742  1.00011312  0.31156015  0.07680938  0.56048696\n",
      "  -0.05842688 -0.19543985  0.25514004  0.10403655  0.00839934 -0.1573256\n",
      "   0.02244149  0.02114396  0.09065164 -0.01997393 -0.01524479]\n",
      " [ 0.40248531  0.25969503  0.31156015  1.00011312  0.12397747  0.32137516\n",
      "  -0.03099032 -0.14944692  0.09361703  0.07633807  0.01794707 -0.09787621\n",
      "   0.0390479   0.07355432 -0.03944069  0.04118535  0.02875009]\n",
      " [ 0.10193088  0.13941038  0.07680938  0.12397747  1.00011312  0.08479601\n",
      "  -0.03256721 -0.03923954  0.02613031  0.04519906  0.03351951 -0.04825532\n",
      "   0.16977283  0.01854873 -0.01870126 -0.01172202  0.01322795]\n",
      " [ 0.61641571  0.14008879  0.56048696  0.32137516  0.08479601  1.00011312\n",
      "  -0.05786617 -0.06405293  0.12080813  0.09655967  0.01805496 -0.15306136\n",
      "   0.01415952  0.02375398  0.07689575 -0.00567136 -0.01337585]\n",
      " [-0.08354807 -0.00288589 -0.05842688 -0.03099032 -0.03256721 -0.05786617\n",
      "   1.00011312 -0.02073109  0.02759328 -0.11385186  0.03039393  0.2711784\n",
      "  -0.05276744 -0.02592331  0.00179007 -0.18361461 -0.05252765]\n",
      " [-0.00572763 -0.32199436 -0.19543985 -0.14944692 -0.03923954 -0.06405293\n",
      "  -0.02073109  1.00011312 -0.80006878 -0.07439316 -0.0376211   0.02840485\n",
      "  -0.06258938 -0.06475349  0.13074405 -0.06353431 -0.02701652]\n",
      " [ 0.06263922  0.23798549  0.25514004  0.09361703  0.02613031  0.12080813\n",
      "   0.02759328 -0.80006878  1.00011312  0.02059978  0.04091628  0.00130665\n",
      "   0.07582971  0.03580076 -0.13355108  0.08080239  0.05277813]\n",
      " [ 0.14675878  0.18194972  0.10403655  0.07633807  0.04519906  0.09655967\n",
      "  -0.11385186 -0.07439316  0.02059978  1.00011312 -0.02686675 -0.22697653\n",
      "  -0.02964133 -0.07371535 -0.23337788 -0.19416057 -0.0246585 ]\n",
      " [ 0.0295346   0.2696143   0.00839934  0.01794707  0.03351951  0.01805496\n",
      "   0.03039393 -0.0376211   0.04091628 -0.02686675  1.00011312 -0.0490226\n",
      "  -0.00640196 -0.01592111 -0.05040517 -0.04193498 -0.00532577]\n",
      " [-0.13992691 -0.17438079 -0.1573256  -0.09787621 -0.04825532 -0.15306136\n",
      "   0.2711784   0.02840485  0.00130665 -0.22697653 -0.0490226   1.00011312\n",
      "  -0.05408527 -0.13450523 -0.4258346  -0.35427646 -0.04499331]\n",
      " [ 0.03233657  0.26320163  0.02244149  0.0390479   0.16977283  0.01415952\n",
      "  -0.05276744 -0.06258938  0.07582971 -0.02964133 -0.00640196 -0.05408527\n",
      "   1.00011312 -0.01756532 -0.05561062 -0.04626569 -0.00587577]\n",
      " [ 0.07276281  0.42466254  0.02114396  0.07355432  0.01854873  0.02375398\n",
      "  -0.02592331 -0.06475349  0.03580076 -0.07371535 -0.01592111 -0.13450523\n",
      "  -0.01756532  1.00011312 -0.13829865 -0.11505865 -0.01461251]\n",
      " [-0.04223529 -0.2207205   0.09065164 -0.03944069 -0.01870126  0.07689575\n",
      "   0.00179007  0.13074405 -0.13355108 -0.23337788 -0.05040517 -0.4258346\n",
      "  -0.05561062 -0.13829865  1.00011312 -0.36426801 -0.04626224]\n",
      " [ 0.03525608 -0.04139541 -0.01997393  0.04118535 -0.01172202 -0.00567136\n",
      "  -0.18361461 -0.06353431  0.08080239 -0.19416057 -0.04193498 -0.35427646\n",
      "  -0.04626569 -0.11505865 -0.36426801  1.00011312 -0.03848824]\n",
      " [ 0.03851648  0.20016937 -0.01524479  0.02875009  0.01322795 -0.01337585\n",
      "  -0.05252765 -0.02701652  0.05277813 -0.0246585  -0.00532577 -0.04499331\n",
      "  -0.00587577 -0.01461251 -0.04626224 -0.03848824  1.00011312]]\n"
     ]
    }
   ],
   "source": [
    "# Covariance matrix needs to be created\n",
    "vec_mean = np.mean(X_stand123, axis=0)\n",
    "comax = (X_stand123 - vec_mean).T.dot((X_stand123 - vec_mean)) / (X_stand123.shape[0] - 1)\n",
    "\n",
    "print('Covariance matrix: \\n%s' %comax)"
   ]
  },
  {
   "cell_type": "markdown",
   "metadata": {
    "id": "_r9ex_udKZe8"
   },
   "source": [
    "#### <span style=\"color:black\"><b>Visualization of Feature Scaling</b></span>"
   ]
  },
  {
   "cell_type": "code",
   "execution_count": 79,
   "metadata": {
    "colab": {
     "base_uri": "https://localhost:8080/"
    },
    "id": "KopoqnXuKZe8",
    "outputId": "ce49907d-8e08-4d0b-c7d3-5fa1ac610837"
   },
   "outputs": [
    {
     "name": "stdout",
     "output_type": "stream",
     "text": [
      "E-vectors: \n",
      "[[ 4.23548642e-01  2.81749504e-01 -1.66135916e-01  5.66548573e-01\n",
      "  -5.13333656e-01 -1.59189146e-01 -1.23850415e-01  4.69804896e-02\n",
      "   2.21727360e-01  1.27936809e-01 -2.43420031e-02 -1.01850400e-01\n",
      "   8.02564020e-02 -1.29750476e-02 -5.48069657e-02  1.16827235e-02\n",
      "  -7.09879140e-16]\n",
      " [ 3.39944113e-01 -2.83430186e-01  2.43111161e-01 -4.85260198e-01\n",
      "  -5.06790273e-01  6.69140426e-02  1.39948264e-01  4.28604070e-01\n",
      "  -7.92883176e-02  3.03188518e-02  1.33389673e-01 -7.12646391e-02\n",
      "   1.02101239e-01  4.86386973e-02 -8.94229817e-03  4.44558664e-02\n",
      "  -9.86725881e-16]\n",
      " [ 4.11763890e-01  2.28664267e-01  4.26860913e-02 -4.26255652e-01\n",
      "   2.81375002e-01 -6.14467356e-01 -2.08315667e-01 -1.76489845e-01\n",
      "   6.88236091e-04  1.79835208e-01 -1.37779857e-01 -1.07545951e-01\n",
      "   1.93616876e-02 -2.17390391e-03  1.21824587e-03 -9.45419713e-03\n",
      "  -2.99769314e-16]\n",
      " [ 3.30008260e-01  9.29861739e-02  6.32006987e-02  3.45883761e-02\n",
      "   1.85149368e-01 -1.83927091e-02 -6.70569371e-02  5.58363369e-02\n",
      "   1.35568307e-01 -7.84447335e-01  3.39362388e-01  2.53731816e-01\n",
      "   9.50948685e-02 -9.67251373e-02 -3.89373188e-02 -4.27384269e-02\n",
      "   3.07614595e-16]\n",
      " [ 1.30491897e-01 -4.83114236e-03  2.93321431e-03  9.08940564e-03\n",
      "  -2.70684765e-03 -7.34503087e-03  5.30767675e-02  2.00550890e-01\n",
      "  -1.90072553e-02  1.85881224e-01 -2.79345976e-01  6.83340202e-01\n",
      "  -3.06496372e-01 -5.13175441e-01  4.73519888e-02 -1.80511462e-02\n",
      "   1.80928813e-16]\n",
      " [ 3.85355728e-01  2.99427785e-01 -7.18564121e-03 -1.59581628e-01\n",
      "   2.28134337e-01  7.61706262e-01 -1.79066227e-01 -7.58581893e-02\n",
      "   8.48374690e-02  1.89804171e-01 -8.77974120e-02 -1.01728466e-01\n",
      "   6.18043004e-02 -2.80292667e-02 -4.56335067e-03  1.89428058e-02\n",
      "   3.79267051e-16]\n",
      " [-8.67918725e-02 -1.28937880e-01 -2.71699104e-02  5.67458459e-02\n",
      "   8.99194919e-02 -3.29335251e-02 -4.91628208e-01  8.15340415e-02\n",
      "  -4.93456506e-02  3.93677762e-01  6.72755920e-01  2.21981131e-01\n",
      "   1.81847047e-01 -6.97978633e-02  8.22271197e-02  1.01847722e-01\n",
      "  -8.11762972e-17]\n",
      " [-2.74180957e-01  4.66463081e-01  6.99270283e-01  8.86531828e-02\n",
      "   9.22840574e-02 -6.35816698e-02  6.56223935e-02  3.30595888e-01\n",
      "   2.40690434e-01  8.93013325e-02  2.84861940e-02 -7.13105360e-02\n",
      "   7.31444456e-02 -6.74218544e-02 -3.61191059e-02  3.51580973e-02\n",
      "   1.20446717e-18]\n",
      " [ 2.76931112e-01 -4.34818540e-01  6.26358521e-01  3.38664967e-01\n",
      "   5.34885558e-02  3.63624763e-02 -1.07134665e-01 -3.86690478e-01\n",
      "  -2.16607122e-01  3.43699632e-02 -1.03184365e-01 -2.40909252e-03\n",
      "  -4.65813603e-02  2.19229804e-02 -1.27625955e-02 -2.15949229e-02\n",
      "   1.05888797e-16]\n",
      " [ 1.54016119e-01  1.37022003e-02  1.23224764e-02  6.68743375e-02\n",
      "   1.27762203e-01 -5.03590972e-03  8.57463580e-02  1.44603462e-01\n",
      "   1.40563817e-01  7.92735700e-02  1.89475593e-01  7.48233391e-02\n",
      "  -6.56370220e-01  5.25823210e-01  1.24159507e-01  7.74088925e-02\n",
      "   3.61378573e-01]\n",
      " [ 7.48428925e-02 -1.08920482e-01 -7.18938325e-02  1.41412788e-01\n",
      "   2.08848621e-01 -4.12464532e-02  2.37681378e-02  2.27180042e-01\n",
      "  -9.37991064e-02 -7.33257332e-02 -2.04499332e-01 -7.27173915e-02\n",
      "   1.82859023e-01 -2.27458441e-02  1.34607924e-01  8.59595267e-01\n",
      "   8.72525963e-02]\n",
      " [-1.87154150e-01 -2.33198977e-01  2.05745458e-02 -1.12910922e-01\n",
      "  -1.18660578e-01  2.26732997e-02 -5.66634439e-01  7.08316148e-02\n",
      "   3.59834555e-01 -1.62401597e-01 -2.97873840e-01 -9.90832561e-02\n",
      "  -1.35252056e-02 -1.18855583e-01 -9.89114198e-02 -5.79240524e-02\n",
      "   5.24293342e-01]\n",
      " [ 1.01492498e-01 -1.20306484e-01 -8.00960841e-02  1.32550703e-01\n",
      "   2.07016447e-01 -2.67157266e-02  1.02820074e-01  2.17547764e-01\n",
      "  -1.20670570e-01  6.55533901e-03  2.15016557e-01 -5.82359090e-01\n",
      "  -3.06723673e-01 -5.69933517e-01  4.11422372e-02 -1.41257427e-01\n",
      "   9.61428966e-02]\n",
      " [ 1.33790120e-01 -1.45887778e-01 -8.28669067e-02  2.09750976e-01\n",
      "   3.21848108e-01 -4.12533547e-02  1.17397021e-01  3.99230377e-01\n",
      "  -8.49888583e-02  1.02763822e-01 -1.90878580e-01  6.87447911e-02\n",
      "   4.51828781e-01  2.11024806e-01  2.53558008e-01 -4.54264178e-01\n",
      "   2.30710328e-01]\n",
      " [-6.01882532e-02  3.91221067e-01  3.64992368e-02 -1.39912528e-02\n",
      "  -1.94707200e-01  2.19633740e-02 -5.36592394e-02 -7.91407399e-02\n",
      "  -7.03382310e-01 -9.83981026e-02  4.21764156e-02  5.52634536e-02\n",
      "   4.19076854e-02 -4.07803805e-02 -2.16332025e-02  6.51568352e-05\n",
      "   5.30198637e-01]\n",
      " [ 4.64170490e-02 -5.81904752e-02  8.49984059e-03 -7.50548599e-02\n",
      "  -1.70846358e-02 -9.31343328e-03  5.08223394e-01 -3.94808205e-01\n",
      "   3.64979143e-01  1.66813708e-01  2.14853365e-01  7.68591780e-02\n",
      "   2.61972342e-01 -2.14146053e-01  3.94009509e-02  9.03398199e-02\n",
      "   4.86726861e-01]\n",
      " [ 5.77647400e-02 -8.80928755e-02 -7.03306197e-02  6.87014487e-02\n",
      "   1.89785285e-01 -1.86451223e-02  1.01503258e-01  1.48297612e-01\n",
      "  -5.95701232e-02  1.18959425e-01  2.46090434e-02  5.83058262e-02\n",
      "   4.80792998e-02  7.78548943e-02 -9.34656997e-01  2.21116151e-02\n",
      "   8.01539704e-02]]\n",
      "E-values: \n",
      "[ 2.96316786e+00  1.92899387e+00  1.75747459e-01  2.62182950e-01\n",
      "  3.52850742e-01  4.31147360e-01  1.49114120e+00  1.44331178e+00\n",
      "  1.31714904e+00  7.20008043e-01  7.83530074e-01  8.48985640e-01\n",
      "  1.12694613e+00  1.12363479e+00  1.01312238e+00  1.02000377e+00\n",
      " -1.63875570e-15]\n"
     ]
    }
   ],
   "source": [
    "# Eigendecomposition\n",
    "comax = np.cov(X_stand123.T)\n",
    "evalues, evectors = np.linalg.eig(comax)\n",
    "\n",
    "print('E-vectors: \\n%s' %evectors)\n",
    "print('E-values: \\n%s' %evalues)"
   ]
  },
  {
   "cell_type": "markdown",
   "metadata": {
    "id": "Q3UJL5ylKZe8"
   },
   "source": [
    "#### <b>Part IV: Analysis</b>"
   ]
  },
  {
   "cell_type": "markdown",
   "metadata": {
    "id": "BzImqeawKZe9"
   },
   "source": [
    "#### <span style=\"color:black\"><b>PCA</b>:</span>\n",
    "Principal Component Analysis (PCA) is utilized in this analysis to extract features. PCA is broken down using linear algebra procedures to transform the dataset into a more manageable format with significantly fewer and more critical variables. Following are the steps for PCA:\n",
    "* Make the data consistent. This entails applying the mathematical formula of dividing by the standard deviation after dividing the data points by their mean.\n",
    "* Get the covariance or correlation matrix's Eigenvectors and Eigenvalues.\n",
    "* Sorting the eigenvalues in ascending order, choose the k Eigenvectors that match the k. Make the projection matrix W using the selected k Eigenvectors. Transform the initial dataset x via W to produce a k-dimensional feature subspace Y.\n",
    "\n",
    "#### <span style=\"color:black\"><b>Assumption</b>:</span>\n",
    "This strategy assumes that by projecting this particular d-dimensional dataset onto a k-dimensional subspace, we will be able to minimize the dimensions (number of relevant features) of the dataset. \n",
    "Finding k features that are less than d is the goal."
   ]
  },
  {
   "cell_type": "markdown",
   "metadata": {
    "id": "4LmRvlFPKZe9"
   },
   "source": [
    "#### <span style=\"color:black\"><b>Principal Components</b></span>"
   ]
  },
  {
   "cell_type": "code",
   "execution_count": 80,
   "metadata": {
    "colab": {
     "base_uri": "https://localhost:8080/"
    },
    "id": "WI24lGOzKZe9",
    "outputId": "6617054d-cbc5-4882-c8ec-e36180adfe20"
   },
   "outputs": [
    {
     "name": "stdout",
     "output_type": "stream",
     "text": [
      "Eigenvalues:\n",
      "2.9631678592158637\n",
      "1.9289938675652243\n",
      "1.4911412033915052\n",
      "1.4433117837886327\n",
      "1.31714903837257\n",
      "1.1269461259212261\n",
      "1.1236347863744538\n",
      "1.0200037668580857\n",
      "1.0131223777822576\n",
      "0.8489856404139264\n",
      "0.7835300738990231\n",
      "0.7200080430067726\n",
      "0.4311473595904852\n",
      "0.3528507416978703\n",
      "0.2621829498649204\n",
      "0.17574745918025247\n",
      "1.6387557000383383e-15\n"
     ]
    }
   ],
   "source": [
    "\n",
    "epairs = [(np.abs(evalues[i]), evectors[:,i]) for i in range(len(evalues))]\n",
    "epairs.sort(key=lambda x: x[0], reverse=True)\n",
    "\n",
    "print('Eigenvalues:')\n",
    "for i in epairs:\n",
    "    print(i[0])"
   ]
  },
  {
   "cell_type": "code",
   "execution_count": 81,
   "metadata": {
    "colab": {
     "base_uri": "https://localhost:8080/"
    },
    "id": "_45AaBzZKZe9",
    "outputId": "a1465584-e091-4de7-90c5-9a9dbd9ed3a9"
   },
   "outputs": [
    {
     "name": "stdout",
     "output_type": "stream",
     "text": [
      "[1.74284276e-01 1.13457393e-01 8.77042671e-02 8.48910901e-02\n",
      " 7.74705916e-02 6.62834505e-02 6.60886878e-02 5.99934350e-02\n",
      " 5.95886932e-02 4.99346831e-02 4.60847911e-02 4.23486237e-02\n",
      " 2.53587408e-02 2.07535783e-02 1.54207820e-02 1.03369165e-02\n",
      " 4.63818016e-33]\n"
     ]
    }
   ],
   "source": [
    "pca_123 = PCA().fit(X_stand123)\n",
    "print(pca_123.explained_variance_ratio_)"
   ]
  },
  {
   "cell_type": "markdown",
   "metadata": {
    "id": "95W8POVHKZe9"
   },
   "source": [
    "#### <span style=\"color:black\"><b>Identification of Total Number of Components</b></span>"
   ]
  },
  {
   "cell_type": "code",
   "execution_count": 82,
   "metadata": {
    "colab": {
     "base_uri": "https://localhost:8080/",
     "height": 560
    },
    "id": "PIxKem-tKZe9",
    "outputId": "f5497209-4b86-4e20-ba76-ad556b2dab5a"
   },
   "outputs": [
    {
     "data": {
      "image/png": "[encoded data removed]",
      "text/plain": [
       "<Figure size 432x288 with 1 Axes>"
      ]
     },
     "metadata": {
      "needs_background": "light"
     },
     "output_type": "display_data"
    }
   ],
   "source": [
    "def scree(pca, stand_values):\n",
    "    y = np.std(pca.transform(stand_values), axis=0)**2\n",
    "    x = np.arange(len(y)) + 1\n",
    "    plt.plot(x, y, \"o-\")\n",
    "    plt.xticks(x, ['Component ' + str(i) for i in x], rotation=45)\n",
    "    plt.ylabel('Variance')\n",
    "    plt.show()\n",
    "    \n",
    "scree(pca_123, X_stand123)"
   ]
  },
  {
   "cell_type": "markdown",
   "metadata": {
    "id": "4JqwqLc4KZe-"
   },
   "source": [
    "#### <span style=\"color:black\"><b>Total Variance of Components</b></span>"
   ]
  },
  {
   "cell_type": "code",
   "execution_count": 83,
   "metadata": {
    "colab": {
     "base_uri": "https://localhost:8080/",
     "height": 380
    },
    "id": "3OZ6iGlSKZe-",
    "outputId": "a88092d6-5ba3-4708-cefd-6a43286f9b47"
   },
   "outputs": [
    {
     "name": "stdout",
     "output_type": "stream",
     "text": [
      "Component importance:\n"
     ]
    },
    {
     "data": {
      "text/html": [
       "<div>\n",
       "<style scoped>\n",
       "    .dataframe tbody tr th:only-of-type {\n",
       "        vertical-align: middle;\n",
       "    }\n",
       "\n",
       "    .dataframe tbody tr th {\n",
       "        vertical-align: top;\n",
       "    }\n",
       "\n",
       "    .dataframe thead th {\n",
       "        text-align: right;\n",
       "    }\n",
       "</style>\n",
       "<table border=\"1\" class=\"dataframe\">\n",
       "  <thead>\n",
       "    <tr style=\"text-align: right;\">\n",
       "      <th></th>\n",
       "      <th>Sdev</th>\n",
       "    </tr>\n",
       "  </thead>\n",
       "  <tbody>\n",
       "    <tr>\n",
       "      <th>PC 1</th>\n",
       "      <td>2.962833e+00</td>\n",
       "    </tr>\n",
       "    <tr>\n",
       "      <th>PC 2</th>\n",
       "      <td>1.928776e+00</td>\n",
       "    </tr>\n",
       "    <tr>\n",
       "      <th>PC 3</th>\n",
       "      <td>1.490973e+00</td>\n",
       "    </tr>\n",
       "    <tr>\n",
       "      <th>PC 4</th>\n",
       "      <td>1.443149e+00</td>\n",
       "    </tr>\n",
       "    <tr>\n",
       "      <th>PC 5</th>\n",
       "      <td>1.317000e+00</td>\n",
       "    </tr>\n",
       "    <tr>\n",
       "      <th>PC 6</th>\n",
       "      <td>1.126819e+00</td>\n",
       "    </tr>\n",
       "    <tr>\n",
       "      <th>PC 7</th>\n",
       "      <td>1.123508e+00</td>\n",
       "    </tr>\n",
       "    <tr>\n",
       "      <th>PC 8</th>\n",
       "      <td>1.019888e+00</td>\n",
       "    </tr>\n",
       "    <tr>\n",
       "      <th>PC 9</th>\n",
       "      <td>1.013008e+00</td>\n",
       "    </tr>\n",
       "    <tr>\n",
       "      <th>PC 10</th>\n",
       "      <td>8.488896e-01</td>\n",
       "    </tr>\n",
       "    <tr>\n",
       "      <th>PC 11</th>\n",
       "      <td>7.834414e-01</td>\n",
       "    </tr>\n",
       "    <tr>\n",
       "      <th>PC 12</th>\n",
       "      <td>7.199266e-01</td>\n",
       "    </tr>\n",
       "    <tr>\n",
       "      <th>PC 13</th>\n",
       "      <td>4.310986e-01</td>\n",
       "    </tr>\n",
       "    <tr>\n",
       "      <th>PC 14</th>\n",
       "      <td>3.528108e-01</td>\n",
       "    </tr>\n",
       "    <tr>\n",
       "      <th>PC 15</th>\n",
       "      <td>2.621533e-01</td>\n",
       "    </tr>\n",
       "    <tr>\n",
       "      <th>PC 16</th>\n",
       "      <td>1.757276e-01</td>\n",
       "    </tr>\n",
       "    <tr>\n",
       "      <th>PC 17</th>\n",
       "      <td>1.955427e-31</td>\n",
       "    </tr>\n",
       "  </tbody>\n",
       "</table>\n",
       "</div>"
      ],
      "text/plain": [
       "               Sdev\n",
       "PC 1   2.962833e+00\n",
       "PC 2   1.928776e+00\n",
       "PC 3   1.490973e+00\n",
       "PC 4   1.443149e+00\n",
       "PC 5   1.317000e+00\n",
       "PC 6   1.126819e+00\n",
       "PC 7   1.123508e+00\n",
       "PC 8   1.019888e+00\n",
       "PC 9   1.013008e+00\n",
       "PC 10  8.488896e-01\n",
       "PC 11  7.834414e-01\n",
       "PC 12  7.199266e-01\n",
       "PC 13  4.310986e-01\n",
       "PC 14  3.528108e-01\n",
       "PC 15  2.621533e-01\n",
       "PC 16  1.757276e-01\n",
       "PC 17  1.955427e-31"
      ]
     },
     "execution_count": 83,
     "metadata": {},
     "output_type": "execute_result"
    }
   ],
   "source": [
    "#importance of components\n",
    "def pca_summary(pca, standardized_data, out=True):\n",
    "    names = ['PC ' + str(i) for i in range(1, len(pca.explained_variance_ratio_) + 1)]\n",
    "    a = list(np.std(pca.transform(standardized_data), axis = 0))\n",
    "    b = list(pca.explained_variance_ratio_)\n",
    "    c = [np.sum(pca.explained_variance_ratio_[:i]) for i in range(1, len(pca.explained_variance_ratio_) + 1)]\n",
    "    columns = pd.MultiIndex.from_tuples([('standard_deviation', 'Sdev'),\n",
    " ('proportion_of_variation', 'Pvar'),\n",
    " ('cumulative_proportion', 'Cproportion')])\n",
    "    summary = pd.DataFrame(zip(a, b, c), index=names, columns=columns)\n",
    "    if out:\n",
    "      print('Component importance:')\n",
    "    return summary\n",
    "#Summary\n",
    "sums123 = pca_summary(pca_123, X_stand123)\n",
    "sums123.standard_deviation**2"
   ]
  },
  {
   "cell_type": "markdown",
   "metadata": {
    "id": "2YXVde1sKZe-"
   },
   "source": [
    "#### <span style=\"color:black\"><b>Total Variance Captured by Components</b></span>"
   ]
  },
  {
   "cell_type": "code",
   "execution_count": 84,
   "metadata": {
    "colab": {
     "base_uri": "https://localhost:8080/"
    },
    "id": "kB3C2R8GKZe-",
    "outputId": "80aed9a7-7910-43c8-ee6f-ab1b25287f9c"
   },
   "outputs": [
    {
     "data": {
      "text/plain": [
       "Sdev    17.0\n",
       "dtype: float64"
      ]
     },
     "execution_count": 84,
     "metadata": {},
     "output_type": "execute_result"
    }
   ],
   "source": [
    "# Identify total variance captured by the principal components\n",
    "np.sum(sums123.standard_deviation**2)"
   ]
  },
  {
   "cell_type": "code",
   "execution_count": 85,
   "metadata": {
    "colab": {
     "base_uri": "https://localhost:8080/"
    },
    "id": "c295p73PKZe-",
    "outputId": "47e075ab-70c4-4c0e-927f-e5ee00549d74"
   },
   "outputs": [
    {
     "name": "stdout",
     "output_type": "stream",
     "text": [
      "      standard_deviation proportion_of_variation cumulative_proportion\n",
      "                    Sdev                    Pvar           Cproportion\n",
      "PC 1               172.1                    17.4                  17.4\n",
      "PC 2               311.0                    28.7                  46.2\n",
      "PC 3               433.1                    37.5                  83.7\n",
      "PC 4               553.2                    46.0                 129.7\n",
      "PC 5               668.0                    53.7                 183.5\n",
      "PC 6               774.2                    60.3                 243.9\n",
      "PC 7               880.2                    66.9                 310.9\n",
      "PC 8               981.2                    72.9                 383.9\n",
      "PC 9              1081.8                    78.9                 462.9\n",
      "PC 10             1173.9                    83.9                 546.9\n",
      "PC 11             1262.4                    88.5                 635.5\n",
      "PC 12             1347.2                    92.7                 728.3\n",
      "PC 13             1412.9                    95.2                 823.6\n",
      "PC 14             1472.3                    97.3                 921.0\n",
      "PC 15             1523.5                    98.8                1020.0\n",
      "PC 16             1565.4                    99.8                1120.0\n",
      "PC 17             1565.4                    99.8                1220.0\n"
     ]
    }
   ],
   "source": [
    "var = np.cumsum(np.round(sums123, decimals=3)*100)\n",
    "print(var)"
   ]
  },
  {
   "cell_type": "code",
   "execution_count": 86,
   "metadata": {},
   "outputs": [
    {
     "name": "stdout",
     "output_type": "stream",
     "text": [
      "R^2 = 0.6635254397679344\n"
     ]
    }
   ],
   "source": [
    "# Calculated R Squared\n",
    "print('R^2 =',metrics.explained_variance_score(y_test,y_pred))"
   ]
  },
  {
   "cell_type": "code",
   "execution_count": 87,
   "metadata": {},
   "outputs": [
    {
     "data": {
      "text/plain": [
       "<matplotlib.collections.PathCollection at 0x15b1f8ae9b0>"
      ]
     },
     "execution_count": 87,
     "metadata": {},
     "output_type": "execute_result"
    },
    {
     "data": {
      "image/png": "[encoded data removed]",
      "text/plain": [
       "<Figure size 432x288 with 1 Axes>"
      ]
     },
     "metadata": {
      "needs_background": "light"
     },
     "output_type": "display_data"
    }
   ],
   "source": [
    "# Actual v predictions scatter\n",
    "plt.scatter(y_test, y_pred)"
   ]
  },
  {
   "cell_type": "markdown",
   "metadata": {
    "id": "5kkwqMN3ogp8"
   },
   "source": [
    "#### Light Gradient Boosted Model\n",
    "To determine the relative importance of various attributes, a Light Gradient Boosted model will be built. LightGBM is a gradient-boosting framework created on decision trees that improves model performance using less memory."
   ]
  },
  {
   "cell_type": "code",
   "execution_count": null,
   "metadata": {},
   "outputs": [],
   "source": [
    "!pip install lightgbm"
   ]
  },
  {
   "cell_type": "code",
   "execution_count": 89,
   "metadata": {
    "id": "7Xd-yv2zoIQL"
   },
   "outputs": [],
   "source": [
    "\n",
    "import lightgbm as lgb"
   ]
  },
  {
   "cell_type": "code",
   "execution_count": 90,
   "metadata": {
    "id": "EQdASLGmoGKx"
   },
   "outputs": [],
   "source": [
    "# Training the model\n",
    "trainlgb = lgb.Dataset(X_train, y_train)\n",
    "eval_lgb = lgb.Dataset(X_test, y_test)"
   ]
  },
  {
   "cell_type": "code",
   "execution_count": 91,
   "metadata": {
    "id": "YehrCX5WoF-m"
   },
   "outputs": [],
   "source": [
    "# parameter settings\n",
    "params={'metric': 'rmse'}"
   ]
  },
  {
   "cell_type": "code",
   "execution_count": null,
   "metadata": {
    "colab": {
     "base_uri": "https://localhost:8080/"
    },
    "id": "iNPjdmnvoFrV",
    "outputId": "737d9453-8e24-4ff3-9021-66da2f7c7819"
   },
   "outputs": [],
   "source": [
    "# training validation\n",
    "gbm = lgb.train(params,\n",
    "                trainlgb,\n",
    "                valid_sets=eval_lgb,\n",
    "                num_boost_round=5000,\n",
    "                early_stopping_rounds=100,\n",
    "                verbose_eval=100)"
   ]
  },
  {
   "cell_type": "code",
   "execution_count": 93,
   "metadata": {
    "id": "VVoFsa2xlwyy"
   },
   "outputs": [],
   "source": [
    "# estimate feature importance\n",
    "predict123 = gbm.predict(X_test)"
   ]
  },
  {
   "cell_type": "code",
   "execution_count": 94,
   "metadata": {
    "id": "a7MuNCisnulZ"
   },
   "outputs": [],
   "source": [
    "def pred(pred_df):\n",
    "    rmse = np.sqrt(mean_squared_error(pred_df['data'], pred_df['pred']))\n",
    "    R2 = r2_score(pred_df['data'], pred_df['pred']) \n",
    "    plt.figure(figsize=(8,8))\n",
    "    ax = plt.subplot(111)\n",
    "    ax.scatter('data', 'pred', data=pred_df)\n",
    "    ax.set_xlabel('Data Value', fontsize = 15)\n",
    "    ax.set_ylabel('Pred Value', fontsize = 15)\n",
    "    ax.set_xlim(pred_df.min().min()-0.1 , pred_df.max().max()+0.1)\n",
    "    ax.set_ylim(pred_df.min().min()-0.1 , pred_df.max().max()+0.1)\n",
    "    X = np.linspace(pred_df.min().min()-0.1, pred_df.max().max()+0.1, 2)\n",
    "    y = X\n",
    "    ax.plot(X, y, 'r-')\n",
    "    plt.text(0.1, 0.9, 'rmse = {}'.format(str(round(rmse, 5))), transform=ax.transAxes, fontsize=15)\n",
    "    plt.text(0.1, 0.8, 'R2 = {}'.format(str(round(R2, 5))), transform=ax.transAxes, fontsize=15)"
   ]
  },
  {
   "cell_type": "code",
   "execution_count": 95,
   "metadata": {
    "colab": {
     "base_uri": "https://localhost:8080/",
     "height": 541
    },
    "id": "1xGuKb-hqkJN",
    "outputId": "cbd38ae2-9c9f-4619-ac6d-27f4fee2f2c0"
   },
   "outputs": [
    {
     "data": {
      "image/png": "[encoded data removed]",
      "text/plain": [
       "<Figure size 576x576 with 1 Axes>"
      ]
     },
     "metadata": {
      "needs_background": "light"
     },
     "output_type": "display_data"
    }
   ],
   "source": [
    "melbourne_df_prediction= pd.concat([y_test.reset_index(drop=True), pd.Series(predict123)], axis=1)\n",
    "melbourne_df_prediction.columns = ['data', 'pred']\n",
    "\n",
    "pred(melbourne_df_prediction)"
   ]
  },
  {
   "cell_type": "code",
   "execution_count": 96,
   "metadata": {
    "colab": {
     "base_uri": "https://localhost:8080/",
     "height": 1000
    },
    "id": "wXFzuC2EqjBO",
    "outputId": "472d679e-f39e-4614-a893-14c7ac06d51a"
   },
   "outputs": [
    {
     "data": {
      "text/plain": [
       "<AxesSubplot:title={'center':'Feature importance'}, xlabel='Feature importance', ylabel='Features'>"
      ]
     },
     "execution_count": 96,
     "metadata": {},
     "output_type": "execute_result"
    },
    {
     "data": {
      "image/png": "[encoded data removed]",
      "text/plain": [
       "<Figure size 576x1368 with 1 Axes>"
      ]
     },
     "metadata": {
      "needs_background": "light"
     },
     "output_type": "display_data"
    }
   ],
   "source": [
    "\n",
    "lgb.plot_importance(gbm, height=0.8, figsize=(8,19))"
   ]
  },
  {
   "cell_type": "markdown",
   "metadata": {
    "id": "nLFFN6UzKZe-"
   },
   "source": [
    "#### Total Variance of Four Principal Components\n",
    "As shown in the visualization above, the nine principal components with variances more significant than or equal to 1.0 at the \"knee\" of the downward-sloping curve from the initial scree plot above account for more than or about 73% of the total variation. It can also observe that when the explained variance is plotted against the other components with scree plot scores of less than 1.0,  100% explained variance at seventeen elements is reached."
   ]
  },
  {
   "cell_type": "markdown",
   "metadata": {
    "id": "-aSDPAmaKZe_"
   },
   "source": [
    "#### <span style=\"color:black\"><b>Data Analysis Summary</b></span>\n",
    "We employed PCA analysis to condense our dataset into a much more manageable size with increased significance on the major numerical factors crucial to Melbourne housing unit price. Since we have fewer variables and a better understanding of how they interact now than we had before the analysis, we might be able to prevent overfitting.  \n",
    "\n",
    "The actions taken above consist of the following: \n",
    "* Choosing continuous variables\n",
    "* Standardizing the variables \n",
    "* Creating a covariance matrix \n",
    "* Scree plot components\n",
    "* Listing order of variance\n",
    "\n",
    "It is crucial that future housing market customers and investment decision-makers comprehend that, after scaling, our predictor factors provide a total variance of 17.0. Four components have values more significant than one. Now that these components have been identified, we can advance to more advanced data mining tools that will extract deeper meaning from them.\n",
    "\n",
    "Finally, we should examine these specific characteristics that are typical and significant of housing prices in the past and make an effort to predict the possibility that they would manifest themselves with any given customer or investment in the housing market in the future."
   ]
  },
  {
   "cell_type": "markdown",
   "metadata": {
    "id": "hAkJfTZNKZe_"
   },
   "source": [
    "#### <span style=\"color:black\"><b>Initial Multiple Linear Regression Model</b></span>"
   ]
  },
  {
   "cell_type": "code",
   "execution_count": 97,
   "metadata": {
    "colab": {
     "base_uri": "https://localhost:8080/"
    },
    "id": "IIKSulEhKZe_",
    "outputId": "83d5e99f-3896-410f-a11a-1ea767d0158d"
   },
   "outputs": [
    {
     "name": "stdout",
     "output_type": "stream",
     "text": [
      "                            OLS Regression Results                            \n",
      "==============================================================================\n",
      "Dep. Variable:                  Price   R-squared:                       0.627\n",
      "Model:                            OLS   Adj. R-squared:                  0.627\n",
      "Method:                 Least Squares   F-statistic:                     927.9\n",
      "Date:                Sun, 23 Oct 2022   Prob (F-statistic):               0.00\n",
      "Time:                        19:07:41   Log-Likelihood:            -1.2690e+05\n",
      "No. Observations:                8841   AIC:                         2.538e+05\n",
      "Df Residuals:                    8824   BIC:                         2.540e+05\n",
      "Df Model:                          16                                         \n",
      "Covariance Type:            nonrobust                                         \n",
      "===================================================================================\n",
      "                      coef    std err          t      P>|t|      [0.025      0.975]\n",
      "-----------------------------------------------------------------------------------\n",
      "Rooms            1.692e+05   7067.486     23.943      0.000    1.55e+05    1.83e+05\n",
      "Distance         -3.24e+04    970.440    -33.387      0.000   -3.43e+04   -3.05e+04\n",
      "Bathroom          1.74e+05   8690.058     20.023      0.000    1.57e+05    1.91e+05\n",
      "Car              6.304e+04   5120.618     12.310      0.000     5.3e+04    7.31e+04\n",
      "Landsize           22.0581      4.265      5.171      0.000      13.697      30.419\n",
      "BuildingArea     1935.1318     67.587     28.632      0.000    1802.646    2067.617\n",
      "Propertycount       0.2781      1.070      0.260      0.795      -1.818       2.375\n",
      "Age              6235.5902    216.293     28.829      0.000    5811.606    6659.574\n",
      "EncodedHistoric   1.17e+05   1.53e+04      7.635      0.000     8.7e+04    1.47e+05\n",
      "EM              -2.255e+04   1.73e+04     -1.306      0.192   -5.64e+04    1.13e+04\n",
      "EV               2.099e+05   5.49e+04      3.823      0.000    1.02e+05    3.17e+05\n",
      "NM              -2.447e+05   1.67e+04    -14.695      0.000   -2.77e+05   -2.12e+05\n",
      "NV               3.494e+04   5.03e+04      0.695      0.487   -6.36e+04    1.33e+05\n",
      "SEM              1.479e+05   2.32e+04      6.374      0.000    1.02e+05    1.93e+05\n",
      "SM               1.923e+05   1.65e+04     11.653      0.000     1.6e+05    2.25e+05\n",
      "WM               -2.99e+05   1.62e+04    -18.510      0.000   -3.31e+05   -2.67e+05\n",
      "WV              -1.087e+05   5.85e+04     -1.858      0.063   -2.23e+05    5952.996\n",
      "intercept       -9.001e+04   2.92e+04     -3.078      0.002   -1.47e+05   -3.27e+04\n",
      "==============================================================================\n",
      "Omnibus:                     5884.708   Durbin-Watson:                   1.752\n",
      "Prob(Omnibus):                  0.000   Jarque-Bera (JB):           417184.631\n",
      "Skew:                           2.463   Prob(JB):                         0.00\n",
      "Kurtosis:                      36.290   Cond. No.                     5.32e+19\n",
      "==============================================================================\n",
      "\n",
      "Notes:\n",
      "[1] Standard Errors assume that the covariance matrix of the errors is correctly specified.\n",
      "[2] The smallest eigenvalue is 2.35e-28. This might indicate that there are\n",
      "strong multicollinearity problems or that the design matrix is singular.\n"
     ]
    }
   ],
   "source": [
    "result['intercept'] = 1\n",
    "lm_melbourne= sm.OLS(result['Price'], result[['Rooms', 'Distance', 'Bathroom', \n",
    "                                                     'Car', 'Landsize', 'BuildingArea', \n",
    "                                                     'Propertycount', 'Age', 'EncodedHistoric', 'EM', 'EV', 'NM', 'NV', 'SEM', 'SM', 'WM', 'WV','intercept']]).fit()\n",
    "print(lm_melbourne.summary())"
   ]
  },
  {
   "cell_type": "markdown",
   "metadata": {
    "id": "A2YH5ZLBKZe_"
   },
   "source": [
    "### Initial Multiple Linear Regression Model\n",
    "With <b><i>17</i></b> indpendent variables: \n",
    "<br><br>&emsp;<span style=\"color:black\">y = -9.001e+04 +  1.692e+05 * Rooms + -3.24e+04* Distance + 1.74e+05 * Bathroom + 6.304e+04 * Car + 22.0581 * Landsize + 1935.1318 * BuildingArea + 0.2781 * Propertycount + 6235.5902 * Age + 1.17e+05 * EncodedHistoric +-2.255e+04 * EM + 2.099e+05 * EV + -2.447e+05 * NM + 3.494e+04 * NV + 1.479e+05 * SEM + 1.923e+05 * SM + -2.99e+05 * WM + -1.087e+05 * WV</span>"
   ]
  },
  {
   "cell_type": "markdown",
   "metadata": {
    "id": "lI8rJoocKZfA"
   },
   "source": [
    "#### <b>Part V: Data Summary and Implications</b>"
   ]
  },
  {
   "cell_type": "markdown",
   "metadata": {
    "id": "3NGZDkUxd9Wc"
   },
   "source": [
    "#### PCA Application\n",
    "Principle Components: In this dataset, the survey responses to the following questions are among the \"most important\" principal components we identified.\n",
    "<li>BuildingArea</li>\n",
    "<li>Landsize</li>\n",
    "<li>Distance</li>\n",
    "<li>Propertycount</li>\n",
    "<br>\n",
    "<br>\n",
    "The loadings indicate that it is essential to focus more on the relevant factors (BuildingArea, Landsize, Distance, and Propertycount) to accurately forecast Melbourne housing unit values. Once more, this appears to be an intuitive outcome, but decision-makers can now reasonably verify what might have been a sneaking suspicion."
   ]
  },
  {
   "cell_type": "markdown",
   "metadata": {
    "id": "Lbb6-nYRd43d"
   },
   "source": [
    "#### <span style=\"color:black\">Results</span>\n",
    "<br>\n",
    "The main finding of our analysis is that we came up with our hypothesis too rapidly. Descriptive statistics and Principal Component Analysis led us to conclude that a better theory must be reformulated. We have learned a lot from this experience, and we better understand how difficult it is to formulate the right research questions. It also became evident that the data science lifecycle is necessary for this reason alone.\n",
    "<ul>\n",
    "    <li>\n",
    "    The coefficients suggest that for every 1 unit of:\n",
    "        <ul>\n",
    "            <li>BuildingArea - Price will increase 1935.1318 units</li>\n",
    "            <li>Landsize - Price will increase 22.06 units</li>\n",
    "        </ul>\n",
    "    </li>\n",
    "    <li>\n",
    "    P-values for BuildingArea, Landsize, Distance and Propertycount are statistically significant at 0.000.\n",
    "    </li>\n",
    "</ul>"
   ]
  },
  {
   "cell_type": "markdown",
   "metadata": {
    "id": "K2iSZGJLf4SN"
   },
   "source": [
    "<b>Limitations of analysis given the Melbourne Housing market dataset</b>\n",
    "\n",
    "The analyses' limitations are the size of the dataset and the possibility that the data could benefit from better and more validation than the methods used to treat it. In other words, we only eliminated records with significant abnormal outliers and missing values.\n",
    "Additionally, the dataset is more extensive and challenging to manage, so perhaps the collection techniques were insufficiently precise or adequate. Implementing more exacting and reliable data collection techniques and dataset validation is necessary.\n",
    "Stricter data acquisition techniques, follow-ups with the original dataset-gathering sources, and feedback could be implemented to address the limitations of this study.\n",
    "Of course, additional research is necessary."
   ]
  },
  {
   "cell_type": "markdown",
   "metadata": {
    "id": "bzShMFjsfcKQ"
   },
   "source": [
    "####  Directions for Future Study\n",
    "The investigation of the Melbourne Housing Market dataset has led us to revise our first hypothesis. Undoubtedly, we have discovered that location has a significant impact on costs. Given the outcomes of our scree plots, however, and our concern that our variables defining region was undoubtedly not continuous, they could not, without additional work, fit into our multiple linear regression model. We concluded that BuildingArea and Land size are more significant in Melbourne housing pricing models and should be employed by purchasers accordingly because of the project's limited time and scope.\n",
    "To investigate their effect on an MLR model, one route for additional research could be to encode our geographical variables.\n",
    "\n",
    "Analyzing variance tests to ascertain the different pricing based on their location inside the city can be a second avenue for further research. We might test the ANOVA hypothesis to see if properties are more expensive in places closer to the city center and perhaps less costly in suburban areas."
   ]
  },
  {
   "cell_type": "markdown",
   "metadata": {
    "id": "AxhR27Z-KZfA"
   },
   "source": [
    "#### <span style=\"color:black\"><b> Sources</b></span>\n",
    "\n",
    "\n",
    "• Alto, V. (2019, August 17). Understanding the OLS method for simple linear regression. Medium.  Retrieved September 23, 2022, from https://towardsdatascience.com/understanding-the-ols method-for-simple-linear-regression-e0a4e8f692cc \n",
    "\n",
    "• Categorical data#. Categorical data - pandas 1.5.0 documentation. (n.d.). Retrieved September  23, 2022, from https://pandas.pydata.org/docs/user_guide/categorical.html \n",
    "\n",
    "• Data Cleaning: Outlier Detection and imputation of missing values. (n.d.). Retrieved September 23,  2022, from https://palomar.home.ece.ust.hk/MAFS6010R_lectures/slides_data_cleaning.html \n",
    "\n",
    "• Data Cleaning in Machine Learning: Steps & Process [2022]. (n.d.). Retrieved September 29, 2022,  from https://www.v7labs.com/blog/data-cleaning-guide \n",
    "\n",
    "• Dutta, B. (n.d.). 8 differences between SAS and python: Sas vs python: Analytics steps. SAS vs  Python | Analytics Steps. Retrieved September 29, 2022, from  \n",
    "https://www.analyticssteps.com/blogs/8-differences-between-sas-and-python \n",
    "\n",
    "• Hayes, A. (2022, September 12). Multiple linear regression (MLR) definition, formula, and example.  Investopedia. Retrieved September 22, 2022, from \n",
    "https://www.investopedia.com/terms/m/mlr.asp#:~:text=Key%20Takeaways,Multiple%20linear% 20regression%20(MLR)%2C%20also%20known%20simply%20as%20multiple,uses%20just%20on e%20explanatory%20variable \n",
    "\n",
    "\n",
    "• Kumar, V. (2020, February 28). Python vs R: What's best for Machine Learning. Medium. Retrieved  September 29, 2022, from https://towardsdatascience.com/python-vs-r-whats-best-for-machine learning-93432084b480 \n",
    "\n",
    "\n",
    "• New usability rating on datasets: Data Science and Machine Learning. Kaggle. (n.d.). Retrieved  September 29, 2022, from https://www.kaggle.com/product-feedback/93922 \n",
    "\n",
    "\n",
    "• Pino, T. (2018, October 14). Melbourne housing market. Kaggle. Retrieved September 23, 2022,  from https://www.kaggle.com/datasets/anthonypino/melbourne-housing-market \n",
    "\n",
    "• Real Estate & Properties for Sale & Rent. Domain. (n.d.). Retrieved September 23, 2022, from  https://www.domain.com.au/ \n",
    "\n",
    "• Stephanie. (2020, December 10). General linear model (GLM): Simple definition / overview.  Statistics How To. Retrieved September 29, 2022, from https://www.statisticshowto.com/general linear-model-glm/ \n",
    "\n",
    "\n",
    "• Zhang, Q. (2021, October 29). Housing price prediction based on multiple linear regression.  Scientific Programming. Retrieved September 29, 2022, from  \n",
    "https://www.hindawi.com/journals/sp/2021/7678931/\n"
   ]
  }
 ],
 "metadata": {
  "colab": {
   "collapsed_sections": [
    "F1r7fwO7KZev",
    "vycvVg9CKZev",
    "zsCUrDZIKZev",
    "--R-gDvyKZew",
    "_htJL4nsKZex",
    "Q3UJL5ylKZe8",
    "BzImqeawKZe9",
    "-aSDPAmaKZe_"
   ],
   "name": "NKM2_TASK_2-DATA_ANALYTICS_REPORT_AND_EXECUTIVE_SUMMARY--all_the_viz.ipynb",
   "provenance": []
  },
  "kernelspec": {
   "display_name": "Python 3.10.5 ('minimal_ds')",
   "language": "python",
   "name": "python3"
  },
  "language_info": {
   "codemirror_mode": {
    "name": "ipython",
    "version": 3
   },
   "file_extension": ".py",
   "mimetype": "text/x-python",
   "name": "python",
   "nbconvert_exporter": "python",
   "pygments_lexer": "ipython3",
   "version": "3.10.5"
  },
  "varInspector": {
   "cols": {
    "lenName": 16,
    "lenType": 16,
    "lenVar": 40
   },
   "kernels_config": {
    "python": {
     "delete_cmd_postfix": "",
     "delete_cmd_prefix": "del ",
     "library": "var_list.py",
     "varRefreshCmd": "print(var_dic_list())"
    },
    "r": {
     "delete_cmd_postfix": ") ",
     "delete_cmd_prefix": "rm(",
     "library": "var_list.r",
     "varRefreshCmd": "cat(var_dic_list()) "
    }
   },
   "types_to_exclude": [
    "module",
    "function",
    "builtin_function_or_method",
    "instance",
    "_Feature"
   ],
   "window_display": false
  },
  "vscode": {
   "interpreter": {
    "hash": "2e03aad7c7fbb0a6c635de1ccb87a44c21b0766117b6733d215499f2fc604693"
   }
  }
 },
 "nbformat": 4,
 "nbformat_minor": 1
}
